{
  "nbformat": 4,
  "nbformat_minor": 0,
  "metadata": {
    "colab": {
      "provenance": [],
      "toc_visible": true
    },
    "kernelspec": {
      "name": "python3",
      "display_name": "Python 3"
    },
    "language_info": {
      "name": "python"
    }
  },
  "cells": [
    {
      "cell_type": "markdown",
      "source": [
        "# Homework 1. Foundations of Neural Networks\n",
        "\n",
        "## Learning Objective\n",
        "\n",
        "The goal of this homework is to get you familar with some of the foundational mathematical and programming tools used in deep learning, so we will review a little bit of calculus and linear algebra."
      ],
      "metadata": {
        "id": "qRhCn6A1rbMF"
      }
    },
    {
      "cell_type": "markdown",
      "source": [
        "## Exercise 1: McCulloch-Pitts Neural Networks\n",
        "\n",
        "The modern conception of artificial neural networks is essentially the same as the model originally devised by [McCulloch and Pitts in their seminal 1943 paper](https://papers.baulab.info/papers/McCullochPitts-1943.pdf).  In that work, they observed that a biological neuron could be seen as an object that adds up its inputs, possibly weighting some inputs differently from others, and then firing an output only once some threshold is reached.  This can be modeled as a weighted sum followed by a nonlinearity:\n",
        "    \n",
        "<img src=\"https://cs7150.baulab.info/2022-Fall/hw1/mp-model.png\" width=800>\n",
        "    \n",
        "McCullough and Pitts reasoned about such neurons individually or in very small networks, and they asked: what is the computational power of such networks? Can they reproduce any logical computation? In this exercise we will follow along with their exploration by constructing networks for the various logical operations that can be created with two binary inputs."
      ],
      "metadata": {
        "id": "RwNZUE3CsR8g"
      }
    },
    {
      "cell_type": "markdown",
      "source": [
        "Recall examples of these logical operators include: AND ($\\land$), OR ($\\lor$), NOT ($\\neg$), and XOR ($\\oplus$). We've provided tables below as a refresher for how these functions behave.\n",
        "\n",
        "<table>\n",
        "<tr><th>A AND B ($A \\land B$)</th><th>A OR B ($A \\lor B$)</th><th>NOT A ($\\neg A$)</th><th>A XOR B ($A \\oplus B$)</th></tr>\n",
        "<tr><td>\n",
        "\n",
        "Input 1 (A) | Input 2 (B) | Output\n",
        "--------|---------|---------\n",
        "0  | 0 | 0\n",
        "1  | 0 | 0\n",
        "0  | 1 | 0\n",
        "1  | 1 | 1\n",
        "\n",
        "</td><td>\n",
        "\n",
        "Input 1 (A)  | Input 2 (B) | Output\n",
        "-------|------|------\n",
        "0  | 0 | 0\n",
        "1  | 0 | 1\n",
        "0  | 1 | 1\n",
        "1  | 1 | 1\n",
        "\n",
        "</td><td>\n",
        "\n",
        "Input 1 (A)  | Input 2 (B) | Output\n",
        "-------|------|------\n",
        "0  | 0 | 1\n",
        "1  | 0 | 0\n",
        "0  | 1 | 1\n",
        "1  | 1 | 0\n",
        "\n",
        "</td>\n",
        "<td>\n",
        "\n",
        "Input 1  (A)| Input 2 (B)| Output\n",
        "-------|------|------\n",
        "0  | 0 | 0\n",
        "1  | 0 | 1\n",
        "0  | 1 | 1\n",
        "1  | 1 | 0\n",
        "\n",
        "</td>\n",
        "</tr> </table>\n",
        "\n",
        "\n",
        "As a starting point to examine the expressive power of the McCulloch-Pitts Neuron, we will see whether it can model simple logical functions.\n",
        "\n",
        "Review the basic implementation of a neuron provided in the code below. It takes two binary inputs and produces a binary output.\n",
        "To compute the output, the neuron (1) multiplies its weights, $w_1$ and $w_2$, with their corresponding inputs $x_1$ and $x_2$, (2) adds the bias term, and (3) applies a simple threshold nonlinearity.\n"
      ],
      "metadata": {
        "id": "Isy0vDo9vUJ3"
      }
    },
    {
      "cell_type": "code",
      "source": [
        "class BinaryNeuron:\n",
        "    def __init__(self, weight_1, weight_2, bias):\n",
        "        \"\"\"\n",
        "        Store the Neuron's weights, bias, and activation functions\n",
        "        \"\"\"\n",
        "        self.weight_1 = weight_1\n",
        "        self.weight_2 = weight_2\n",
        "        self.bias = bias\n",
        "\n",
        "    def __call__(self, input_1, input_2):\n",
        "        \"\"\"\n",
        "        Accepts two binary inputs and computes the output of the neuron using the initialized weights and bias\n",
        "        \"\"\"\n",
        "        assert input_1 in [0,1] or isinstance(input_1, bool), \"Input 1 is not a binary input\"\n",
        "        assert input_2 in [0,1] or isinstance(input_2, bool), \"Input 2 is not a binary input\"\n",
        "\n",
        "        weighted_sum = self.weight_1  * input_1  + self.weight_2 * input_2 + self.bias\n",
        "        return self.activation(weighted_sum)\n",
        "\n",
        "    def activation(self, x):\n",
        "        \"\"\"\n",
        "        A simple nonlinearity - also known as the heaviside step function.\n",
        "        The function takes x as input, and returns 1 if x is nonnegative, 0 otherwise.\n",
        "        \"\"\"\n",
        "        if x >= 0:\n",
        "            return 1\n",
        "        else:\n",
        "            return 0"
      ],
      "metadata": {
        "id": "gfurwry9xArs"
      },
      "execution_count": null,
      "outputs": []
    },
    {
      "cell_type": "markdown",
      "source": [
        "\n",
        "**Question 1.1:**\n",
        "- By carefully choosing values for the weights $w_1$, $w_2$, and the bias term, show that the McCulloch-Pitts Neuron can accurately model each of the following logical operators: (1) A AND B, (2) A OR B, (3) NOT A, (4) A AND NOT B. For each of these cases, fill in weight and bias values into the table below such that the `BinaryNeuron` properly models the corresponding logical operator.\n",
        "- You may use the `BinaryNeuron` from above to check your work.\n",
        "- Hint: While there are many valid solutions, it may be helpful to restrict the values of your weights and biases to be within the range [-2,2]."
      ],
      "metadata": {
        "id": "UOhp4eNEEST7"
      }
    },
    {
      "cell_type": "code",
      "source": [
        "# Check and show your work (create new cells as needed):\n",
        "weight_1 = None\n",
        "weight_2 = None\n",
        "bias = None\n",
        "BN = BinaryNeuron(weight_1, weight_2, bias)\n",
        "\n",
        "print(f\"Input\\t Output\\n-------   -----\\nin:[0,0]  out:{BN(0,0)}\\nin:[1,0]  out:{BN(1,0)}\\nin:[0,1]  out:{BN(0,1)}\\nin:[1,1]  out:{BN(1,1)}\\n\")"
      ],
      "metadata": {
        "id": "TKAvQJo0Rd0v"
      },
      "execution_count": null,
      "outputs": []
    },
    {
      "cell_type": "markdown",
      "source": [
        "**Question 1.1 Answer:**\n",
        "<table>\n",
        "<tr><th>A AND B ($A \\land B$)</th><th>A OR B ($A \\lor B$)</th><th>NOT A ($\\neg A$)</th><th>A AND NOT B ($A \\land (\\neg B)$)</th></tr>\n",
        "<tr><td>\n",
        "\n",
        "Weight 1 ($w_1$) | Weight 2 ($w_2$) | Bias\n",
        "--------|---------|---------\n",
        "FILL IN HERE| FILL IN HERE | FILL IN HERE\n",
        "\n",
        "\n",
        "</td><td>\n",
        "\n",
        "Weight 1 ($w_1$) | Weight 2 ($w_2$) | Bias\n",
        "--------|---------|---------\n",
        "FILL IN HERE| FILL IN HERE | FILL IN HERE\n",
        "\n",
        "</td><td>\n",
        "\n",
        "Weight 1 ($w_1$) | Weight 2 ($w_2$) | Bias\n",
        "--------|---------|---------\n",
        "FILL IN HERE| FILL IN HERE | FILL IN HERE\n",
        "\n",
        "</td><td>\n",
        "\n",
        "Weight 1 ($w_1$) | Weight 2 ($w_2$) | Bias\n",
        "--------|---------|---------\n",
        "FILL IN HERE| FILL IN HERE | FILL IN HERE\n",
        "\n",
        "</td>\n",
        "</tr> </table>"
      ],
      "metadata": {
        "id": "0rTzwdg7RUiA"
      }
    },
    {
      "cell_type": "markdown",
      "source": [
        "### Most Two-Input Logical Operators are Linearly Separable\n",
        "\n",
        "One way to think about these logical operators is as simple classification problems where there are 4 input data points, (0,0), (1,0), (0,1), (1,1) that have different labels depending on the operator.\n",
        "\n",
        "Under this setting, a neuron can be thought of as a simple classifier of these data points. Our `BinaryNeuron` produces a binary response by thresholding its internal activation at 0. The neuron produces an output of 1 if $w_1x_1 + w_2x_2 + b \\geq 0$, and otherwise produces 0.\n",
        "\n",
        "With some manipulation, we can rewrite this inequality to show that the `BinaryNeuron` uses a line that acts a decision boundary between outputting a 1 or a 0. We say that a dataset is **linearly separable** if there exists a line that separates the datapoints that have different labels (i.e. all data points with the label 0 are on one side of the line, and all data points with label 1 are on the other side).\n",
        "\n",
        "\n",
        "**Question 1.2.1:**\n",
        "- Derive an equation for a line that separates the data points for the AND logical operator. It may be helpful to write it in slope-intercept form.\n",
        "- Using the weight and bias values you provided above, plot the line that defines the decision boundary of your neuron for the AND logical operator, as well as the data points colored according to their output label.\n",
        "\n",
        "**Question 1.2.2:**\n",
        "- It turns out that the McCulloch-Pitts Neuron can perfectly model almost any logical operator with two inputs, except for XOR (and XNOR). Provide an explanation in the space provided below as to why XOR can't be modeled by a single neuron.\n"
      ],
      "metadata": {
        "id": "Orpt-ywGqkNr"
      }
    },
    {
      "cell_type": "markdown",
      "source": [
        "**Question 1.2.1 Answer:**\n",
        "\n",
        "- Edit Response Here, and the Code Snippet Below"
      ],
      "metadata": {
        "id": "4uKgTcvwRhm3"
      }
    },
    {
      "cell_type": "code",
      "source": [
        "import matplotlib.pyplot as plt\n",
        "\n",
        "# For the AND logical operator:\n",
        "# 1. Plot the separating line\n",
        "# 2. Plot the data points, colored by class label\n",
        "# 3. Don't forget to add a legend, title, axis labels, etc."
      ],
      "metadata": {
        "id": "9_M90vtD0Zuf"
      },
      "execution_count": null,
      "outputs": []
    },
    {
      "cell_type": "markdown",
      "source": [
        "**Question 1.2.2 Answer:**\n",
        "\n",
        "- Edit Response Here"
      ],
      "metadata": {
        "id": "raCDXQQh0ZLg"
      }
    },
    {
      "cell_type": "markdown",
      "source": [
        "## Linear Algebra Review\n",
        "Given two vectors $w = [w_1,w_2, \\ldots, w_n]^{T}$ and $x = [x_1, x_2, \\ldots, x_n]^{T} \\in \\mathbb{R}^{n}$, recall that the **dot product** between $w$ and $x$ can be written as the following sum: $w^{T}x = \\sum_{1}^{n}{w_i \\cdot x_i}$.\n",
        "Thus, we can think of any weighted sum as a dot product between a weight vector $w$ and an input vector $x$, where each $w_i$ is the corresponding weight placed on the $i$th element of $x$.\n",
        "\n",
        "Recall that the **norm** of a vector $v \\in R^{n}$ is written as $||v|| = \\sqrt{v_1^{2} + \\ldots + v_n^{2}}$. We say a vector has **unit length**, or is a **unit vector** when its norm is equal to 1, (i.e. $||v|| = 1$). We can normalize any vector to have unit length by dividing by its norm, $u = \\frac{v}{||v||}$.\n",
        "\n",
        "\n",
        "For any two unit vectors, we can measure how \"similar\" they are by the angle between them. One way to do this is via **cosine similarity** which is defined between two vectors $x$ and $y$, and is written as: $cos(\\theta) = \\frac{x ^{T} y}{||x||\\cdot||y||}$, where $\\theta$ represents the angle between $x$ and $y$.\n",
        "\n",
        "\n",
        "\n",
        "**Question 1.3:**\n",
        "Recall the definition of the McCulloch-Pitts neural network as shown in the figure above.\n",
        "- How might you write the output using a dot product?\n",
        "- How many vectors are involved, and what dimension are they?\n",
        "\n",
        "**Question 1.4:**\n",
        "Suppose you are given a neuron that takes n inputs with weights $w_i$ and bias $b$, where the input vector $x \\in \\mathbb{R}^{n}$, has norm $||x|| = 1$ and components $x_i$. Suppose also that this neuron has the following activation function: $\\sigma(x) = x$, instead of a nonlinearity.\n",
        "- Which choice of x would maximize the output of the neuron?\n",
        "- What is the cosine of the angle between this vector $x$ and the vector $w$?"
      ],
      "metadata": {
        "id": "BedUsEvFxGVC"
      }
    },
    {
      "cell_type": "markdown",
      "source": [
        "**Question 1.3 Answer:**\n",
        "\n",
        "-  Edit Response Here\n",
        "\n",
        "\n",
        "**Question 1.4 Answer:**\n",
        "\n",
        "-  Edit Response Here"
      ],
      "metadata": {
        "id": "tdBMHIIY3JsR"
      }
    },
    {
      "cell_type": "markdown",
      "source": [
        "## Exercise 2: Neurons as Classifiers\n",
        "\n",
        "In this exercise, we will explore using neurons to distinguish between two classes of images - (1) cats and (2) jellyfish.\n",
        "\n",
        "\n",
        "\n",
        "Decades after McCulloch and Pitts, researchers like [Sarah Solla](https://papers.baulab.info/papers/Solla-1988.pdf) and [John Hopfield](https://papers.baulab.info/papers/also/Hopfield-1987.pdf) discovered that networks are very effective when trained to model *probabilities* instead of just discrete binary logic.  Even in the case where the output should make a choice between two alternatives, it is often best to have the network output its estimate of the *probability distribution* of the choice to be made, rather than just a 0 or a 1.\n",
        "\n",
        "So in modern deep learning, we will often pursue the goal of matching some true vector of discrete probabilities $y \\in \\mathbb{R}^{n}$ (where $n$ is the number of classes) by computing some model-predicted vector of probabilities $p \\in \\mathbb{R}^{n}$ that is derived from some raw neural network output $z \\in \\mathbb{R}^{n}$, and then measuring its deviation from the true distribution $y$.\n",
        "\n",
        "For this exercise we will use the sigmoid function $\\sigma(x) = \\frac{1}{1 + e^{-x}}$ to estimate a probability because it squashes input values between 0 and 1.\n",
        "\n",
        "<!-- Note: Sigmoid is no longer a commonly-used activation function, largely due to its effect on propogating gradients, but we will discuss other approaches to converting activations into probability distributions (softmax and cross-entropy) later in the course. -->\n",
        "\n",
        "<!-- ...\n",
        "\n",
        "Experience w/ pytorch, etc. -->"
      ],
      "metadata": {
        "id": "TJDU1H7Lw2_9"
      }
    },
    {
      "cell_type": "markdown",
      "source": [
        "### Download the Image Dataset\n",
        "\n",
        "Run the following code to download the image dataset and display a sample image for each class.\n",
        "\n",
        "A black and white image is typically represented as a 2d array that has height x width pixels. While the highest resolution of images provided are 256x256 pixels, we will be working with lower resolution images (6x6) to reduce the number of inputs to our neural network."
      ],
      "metadata": {
        "id": "ljjsc1RH5GTN"
      }
    },
    {
      "cell_type": "code",
      "execution_count": null,
      "metadata": {
        "id": "OX6ku4bOH2be"
      },
      "outputs": [],
      "source": [
        "%%capture\n",
        "!pip install -U git+https://github.com/davidbau/baukit@main#egg=baukit\n",
        "!rm -f catfish.zip\n",
        "!wget https://ds4440.baulab.info/data/catfish.zip\n",
        "!unzip -o catfish.zip"
      ]
    },
    {
      "cell_type": "code",
      "source": [
        "import torch, torchvision\n",
        "from torchvision.datasets import ImageFolder\n",
        "from torchvision.transforms import Compose, Grayscale, ToTensor, Normalize\n",
        "\n",
        "AsSignedTensor = Compose([Grayscale(num_output_channels=1), ToTensor(), Normalize(0.5, 0.5)])\n",
        "ds = ImageFolder('catfish/size_6/train', transform=AsSignedTensor)\n",
        "dsv = ImageFolder('catfish/size_6/val', transform=AsSignedTensor)\n",
        "ds2 = ImageFolder('catfish/size_256/train', transform=AsSignedTensor)"
      ],
      "metadata": {
        "id": "HvQc_E6AIQk_"
      },
      "execution_count": null,
      "outputs": []
    },
    {
      "cell_type": "code",
      "source": [
        "from baukit.renormalize import as_image\n",
        "from baukit import show\n",
        "pixelated = show.style(height=256, width=256, imageRendering='pixelated')\n",
        "\n",
        "for imgnum in [2, 102]:\n",
        "    im, c = ds[imgnum]\n",
        "    im2, c2 = ds2[imgnum]\n",
        "    show([[pixelated, as_image(im), as_image(im2)]])"
      ],
      "metadata": {
        "id": "HLZfdKzbJco7"
      },
      "execution_count": null,
      "outputs": []
    },
    {
      "cell_type": "code",
      "source": [
        "#@title Display Flatten Code\n",
        "\n",
        "import torch\n",
        "import matplotlib.pyplot as plt\n",
        "import matplotlib.patches as patches\n",
        "\n",
        "def show_flatten():\n",
        "    plt.subplot(121)\n",
        "    # Create a tensor with numbers 1-16\n",
        "    numbers = torch.arange(1, 17).view(4, 4)\n",
        "\n",
        "    canvas = torch.ones(16).view(4,4)\n",
        "\n",
        "    # Plot the grid\n",
        "    plt.imshow(canvas, cmap='gray', vmin=0, vmax=1)\n",
        "\n",
        "    # Add text annotations\n",
        "    for i in range(4):\n",
        "        for j in range(4):\n",
        "            plt.text(j, i, str(numbers[i, j].item()), ha='center', va='center', color='black', fontsize=12)\n",
        "\n",
        "    border = patches.Rectangle((-0.5, -0.5), 4, 4, linewidth=2, edgecolor='black', facecolor='none')\n",
        "    plt.gca().add_patch(border)\n",
        "\n",
        "    # Add black gridlines\n",
        "    for i in range(5):\n",
        "        plt.axhline(i - 0.5, color='black', linewidth=1)\n",
        "        plt.axvline(i - 0.5, color='black', linewidth=1)\n",
        "\n",
        "    # Customize the plot\n",
        "    plt.title('4x4 Image w/ 16 Pixels')\n",
        "    plt.axis('off')\n",
        "\n",
        "    plt.subplot(122)\n",
        "\n",
        "    # Create a tensor with numbers 1-16\n",
        "    numbers = torch.ones(16).view(16, 1)\n",
        "\n",
        "    # Plot the row with white background and black text\n",
        "    plt.imshow(numbers, cmap='gray', vmin=0, vmax=1, aspect=1.3)\n",
        "\n",
        "    # Add text annotations with black color\n",
        "    for j in range(16):\n",
        "        plt.text(0, j, str(j+1), ha='center', va='center', color='black', fontsize=12)\n",
        "\n",
        "    # Add black gridlines\n",
        "    for i in range(2):\n",
        "        plt.axvline(i - 0.5, color='black', linewidth=1)\n",
        "    for i in range(17):\n",
        "        plt.axhline(i - 0.5, color='black', linewidth=1)\n",
        "\n",
        "    plt.title('16x1 Flattened Image Vector w/ 16 Pixels')\n",
        "    plt.axis('off')\n",
        "    plt.grid('all')\n",
        "    plt.tight_layout()\n",
        "\n",
        "    # Show the plot\n",
        "    plt.show()"
      ],
      "metadata": {
        "cellView": "form",
        "id": "U673pq2wBgg1"
      },
      "execution_count": null,
      "outputs": []
    },
    {
      "cell_type": "code",
      "source": [
        "#@title Flattening a 2d Image Array into a vector\n",
        "show_flatten()"
      ],
      "metadata": {
        "colab": {
          "base_uri": "https://localhost:8080/",
          "height": 508
        },
        "id": "VYcqp2JJ8Zsq",
        "outputId": "f6dd4eb6-cb5a-4871-98c4-7ae6b51584c8"
      },
      "execution_count": null,
      "outputs": [
        {
          "output_type": "display_data",
          "data": {
            "text/plain": [
              "<Figure size 640x480 with 2 Axes>"
            ],
            "image/png": "[encoded data removed]"
          },
          "metadata": {}
        }
      ]
    },
    {
      "cell_type": "markdown",
      "source": [
        "### Discovering Neuron Weights when Inputs are Larger\n",
        "\n",
        "\n",
        "We want to create a neural network that is able to predict whether a given image contains a cat or a jellyfish.\n",
        "\n",
        "Let's denote the data for the $i$th image in the data set as the vector $x_{i}$. Since image is a flattened vector of pixel values, $x_{i}$ is a vector with a number for each pixel.  We'll write $x_{ij}$ for the value of the $j$th pixel in the $i$th image.\n",
        "\n",
        "Our neural network estimates that the \"$x_i$ is-a-Cat\" probability $p_i$ when given input $x_i$ by computing the following two things.  First, using its weights $w$ it does a linear operation (a weighted sum over the pixels of $x_i$) to get a score:\n",
        "\n",
        "$$s_i = w \\cdot x_i = \\sum_j w_j x_{ij}$$\n",
        "\n",
        "And then it squishes the score to the range [0, 1] using a nonlinearity (the sigmoid function), so we can interpret the output of the network as a probability.\n",
        "\n",
        "$$p_i = \\sigma(s_i) = \\frac{1}{1 + e^{-s_i}}$$\n",
        "\n",
        "In our case, we can flatten an image into a single vector so that the neuron takes all of the pixels as input. See example above of how we flatten an image into a vector. The number of pixels in an image denoted above as $j$.\n",
        "\n",
        "Note: This formulation removes the bias term, but we can easily add it back in, or concatenate it as part of our weight vector as $w_{n+1}$ with an additional implicit input of 1 as $x_{n+1}$."
      ],
      "metadata": {
        "id": "3bwtIZsQUYyn"
      }
    },
    {
      "cell_type": "markdown",
      "source": [
        "**Question 2.1**\n",
        "\n",
        "Implement functions for a Neuron:\n",
        "\n",
        "- `init_neuron_weights` function: It should initialize a neuron weight vector and a bias term each as a torch tensor of zeros, and return them\n",
        "- `score` function: Computes the dot product of the weights with the input and add the bias term.\n",
        "- `run_neuron` function: This computes the output of the neuron, by applying the sigmoid activation function to the score.\n",
        "\n",
        "Note: You can flatten the input image with `.flatten()` to turn it into a vector with a single dimension."
      ],
      "metadata": {
        "id": "vCXzwPghLtR7"
      }
    },
    {
      "cell_type": "code",
      "source": [
        "def sigmoid(s_i):\n",
        "    \"\"\"\n",
        "    Sigmoid activation function\n",
        "    \"\"\"\n",
        "    return 1 / (1 + torch.exp(-s_i))\n",
        "\n",
        "def init_neuron_weights(input_size):\n",
        "    \"\"\"\n",
        "    Initialize pytorch tensors representing the neuron weights and bias\n",
        "    \"\"\"\n",
        "    neuron_weights = None # Replace with torch tensor of appropriate size and initialization\n",
        "    neuron_bias = None # Replace with torch tensor of appropriate size and initialization\n",
        "    return neuron_weights, neuron_bias\n",
        "\n",
        "def score(neuron_weights, neuron_bias, x_i):\n",
        "    \"\"\"\n",
        "    Computes the dot product of the weights with the input and adds the bias term.\n",
        "    \"\"\"\n",
        "    s_i = None # Replace with appropriate code. Don't forget to flatten the input image!\n",
        "    return None\n",
        "\n",
        "def run_neuron(neuron_weights, neuron_bias, x_i):\n",
        "    \"\"\"\n",
        "    Applies a sigmoid to the score of an input vector.\n",
        "    \"\"\"\n",
        "    p_i = None # Replace with appropriate code to compute the probability of instance x_i.\n",
        "    return None"
      ],
      "metadata": {
        "id": "h0BLT20_LtkW"
      },
      "execution_count": null,
      "outputs": []
    },
    {
      "cell_type": "markdown",
      "source": [
        "### Maximum Likelihood Estimation\n",
        "\n",
        "While we initialize the weights of our neuron to all have a value of zero, in practice we want to find the values of neuron weights that maximize its estimate of the total log probability of the entire data set. This form of parameter estimation is called **Maximum Likelihood Estimation (MLE)**.\n",
        "\n",
        "To do this we follow a usual convention in neural networks where we define a \"Loss\" which we want to minimize. Because we want to maximize the log probability, we we can define our loss $L$ as the negative log probability, and we'll minimize that since minimizing a negative is the same as maximizing a positive.\n",
        "\n",
        "Let $y_i$ be 1 if the instance $x_i$ is a Cat and $y_i=0$ if $x_i$ is a Jellyfish. Then, for an individual instance if the probability of it being a Cat is p_i, the probability of it being a Jellyfish (denoted Jelly below) is 1-p_i. We can write this as $p_i^{y_i} * (1-p_i)^{1-y_i}$. We assume all instances are independent, which means we can write the total probability as a product of the individual probabilities: $\\prod_i P_{pred}(x_i) = \\prod_i p_i^{y_i}  (1-p_i)^{1-y_i}$.\n",
        "\n",
        "To compute the log likelihood, we take the log of this product, we can turn the product into a sum as we pull the log inside to give us $\\sum_i{log(p_i^{y_i}(1-p_i)^{(1-y_{i})})}$. And simplifying some more, we know this is equivalent to $\\sum_i{y_ilog(p_i) + (1-y_i)log(1-p_{i})}$. To get the negative log likelihood, we multiply by negative 1, and then we can filter the classes based on when $y_i=1$, and $y_i=0$, since many of the terms in the sum become zero otherwise. This gives us that the negative log likelihood $L$ can be written as\n",
        "\n",
        "$$L = - \\log \\prod_i P_{pred}(x_i) = -\\sum_{i \\in \\text{Cat}} \\log p_i - \\sum_{i \\in \\text{Jelly}} \\log (1- p_i)$$\n",
        "\n",
        "**Question 2.2**\n",
        "- Write a function that computes the log probability of a single data point\n",
        "- Write a function that computes the negative log likelihood of the entire dataset"
      ],
      "metadata": {
        "id": "1Usq54R7LliV"
      }
    },
    {
      "cell_type": "code",
      "source": [
        "def logprob_of_data_point(input_image, class_label, neuron_weights, neuron_bias):\n",
        "    \"\"\"\n",
        "    Compute the Log Probability of an individual instance.\n",
        "    input_image is an x_i, and class_label is a y_i.\n",
        "    \"\"\"\n",
        "    p_i = None # Replace with appropriate code\n",
        "    if class_label == 1:\n",
        "        return None # Replace with appropriate code\n",
        "    else:\n",
        "        return None # Replace with appropriate code\n",
        "\n",
        "def negative_logprob_of_dataset(dataset, neuron_weights, neuron_bias):\n",
        "    \"\"\"\n",
        "    Compute the total negative log probability of the provided dataset. This is the loss function L.\n",
        "    \"\"\"\n",
        "    total_negative_logprob = None # Replace with appropriate code\n",
        "    return total_negative_logprob"
      ],
      "metadata": {
        "id": "G4kK8qkWQ3mT"
      },
      "execution_count": null,
      "outputs": []
    },
    {
      "cell_type": "code",
      "source": [
        "# Test your code - You should get 50% accuracy before any optimization of the weights\n",
        "\n",
        "neuron_weights, neuron_bias = init_neuron_weights()\n",
        "\n",
        "def accuracy_of_data_set(dataset, neuron_weights, neuron_bias):\n",
        "    return sum((run_neuron(neuron_weights,neuron_bias,x_i) > 0.5) == y_i for x_i,y_i in dataset) / len(dataset)\n",
        "\n",
        "print(f'Initial Neg log likelihood {negative_logprob_of_dataset(ds, neuron_weights, neuron_bias)}')\n",
        "print(f'Initial Accuracy {accuracy_of_data_set(ds, neuron_weights, neuron_bias)}')"
      ],
      "metadata": {
        "id": "PyMbJiZ1YbWQ"
      },
      "execution_count": null,
      "outputs": []
    },
    {
      "cell_type": "markdown",
      "source": [
        "### Minimizing Negative Log Likelihood\n",
        "\n",
        "Recall from calculus that to minimize a function we can look at where its derivative is zero. We will calculate the derivative with respect to the neuron weights, and then we will find the point where that derivative is zero.  I.e., we want to find the set of $w_j$ where we have\n",
        "\n",
        "$$\\frac{\\partial L}{\\partial w_j} = 0$$\n",
        "\n",
        "\n",
        "To figure out what this term is, we can apply the chain rule ($\\frac{dy}{dx} = \\frac{dy}{du}\\frac{du}{dx}$) multiple times to get the derivative of $L$ in terms of $p_i$, and the derivative of $p_i$ in terms of $w_j$. I.e.\n",
        "\n",
        "$$\\frac{\\partial L}{\\partial w_j} = \\sum_i \\frac{\\partial L}{\\partial p_i} \\frac{\\partial p_i}{\\partial w_j}$$\n",
        "$$ = \\sum_i \\frac{\\partial L}{\\partial p_i} \\frac{\\partial p_i}{\\partial s_i}\\frac{\\partial s_i}{\\partial w_j}$$\n",
        "\n",
        "**Question 2.3**\n",
        "Using \"paper and pencil\" calculus, solve for each of the partial derivatives that make up the derivative of the loss function. Refer above for definitions of $L$, $p_i$, and $s_i$. Make sure to show your work.\n",
        "\n",
        "(a) Solve for the derivative of the Loss if $i\\in \\mathrm{Cat}$, i.e. $\\frac{\\partial L}{\\partial p_i}$\n",
        "\n",
        "(b) Solve for the derivative of the Loss if $i\\in \\mathrm{Jelly}$, i.e.$\\frac{\\partial L}{\\partial p_i}$\n",
        "\n",
        "(c) Solve for the derivative of the the sigmoid of the score, i.e. $\\frac{\\partial p_i}{\\partial s_i}$.  The derivative of the sigmoid is a special thing; normally you'd write the derivative as an expression terms of the input $s_i$, but the sigmoid derivative can be written as a very simple expression using only the output variable $p_i$.  Write $\\frac{\\partial p_i}{\\partial s_i}$ in that form, using only $p_i$.\n",
        "\n",
        "<!-- (d) Solve for the derivative of the score with respect to a weight $w_j$, i.e. $\\frac{\\partial s_i}{\\partial w_j}$ -->"
      ],
      "metadata": {
        "id": "xdk9zoUuOSI9"
      }
    },
    {
      "cell_type": "markdown",
      "source": [
        "**Question 2.3 Answers:**\n",
        "\n",
        "(a) Edit Response Here\n",
        "\n",
        "(b) Edit Response Here\n",
        "\n",
        "(c) Edit Response Here\n",
        "\n",
        "<!-- (d) Edit Response Here -->"
      ],
      "metadata": {
        "id": "J-neArW8a67U"
      }
    },
    {
      "cell_type": "markdown",
      "source": [
        "------\n",
        "Finally we want to know how the weight $w_i$ inflences the score $s_i$.\n",
        "\n",
        "$$\\frac{\\partial s_i}{\\partial w_j} = \\frac{\\partial }{\\partial w_j} \\sum_{j*} w_{j*} x_{ij*} = x_{ij}$$\n",
        "\n",
        "Remember that we were solving for this:\n",
        "$$\\frac{\\partial L}{\\partial w_j} = \\sum_i \\frac{\\partial L}{\\partial p_i} \\frac{\\partial p_i}{\\partial w_j}$$\n",
        "$$ = \\sum_i \\frac{\\partial L}{\\partial p_i} \\frac{\\partial p_i}{\\partial s_i}\\frac{\\partial s_i}{\\partial w_j}$$\n",
        "\n",
        "When we substitute in all the terms and simplify, we should get\n",
        "$$ = \\sum_{i \\in \\text{Cat}} (p_i - 1) x_{ij} + \\sum_{i \\in \\text{Jelly}} p_i  x_{ij} $$\n",
        "\n",
        "Now, let's define the prediction vector $p$ so that its $i$th component is $p_i$ and it contains the predicted probability for every sample in the data set. Let's also define the label vector $y$ so that $y_i = 1$ when $i$ is a Cat and zero otherwise.\n",
        "Finally, if we define the vector $x_j$ as the vector gathering together all the $x_{ij}$ for the same pixel position $j$, then we can write the derivative as a simple dot-product.\n",
        "\n",
        "$$\\frac{\\partial L}{\\partial w_j} = (p - y) \\cdot x_j$$\n",
        "\n",
        "For the bias term, we can do the same set of calculations, and we get\n",
        "$$\\frac{\\partial L}{\\partial b} = \\sum_i \\frac{\\partial L}{\\partial p_i} \\frac{\\partial p_i}{\\partial b} = \\sum_i \\frac{\\partial L}{\\partial p_i} \\frac{\\partial p_i}{\\partial s_i} \\frac{\\partial s_i}{\\partial b} = \\sum_{i \\in \\text{Cat}} (p_i - 1) + \\sum_{i \\in \\text{Jelly}} p_i = \\sum_i (p-y) $$"
      ],
      "metadata": {
        "id": "tgZC7ilXO2-d"
      }
    },
    {
      "cell_type": "markdown",
      "source": [
        "### Use Gradient Descent to Find Optimal Neuron Weights\n",
        "\n",
        "To summarize, the derivative of the loss function $L$ with respect to the parameters that we care about $w_j$, and $b$ are $\\frac{\\partial L}{\\partial w_j} = (p-y)^{T}x_j$, and $\\frac{\\partial L}{\\partial b} = \\sum_{i}({p-y})$. Remember that we want to find when these equations are equal to zero.\n",
        "\n",
        "\n",
        "It turns out that we cannot solve for a closed-form solution for $w$ and $b$. However, it is pretty easy to solve for using gradient descent if we use $\\frac{\\partial L}{\\partial w}$, and $\\frac{\\partial L}{\\partial b}$ as updates to our estimates of the weight and bias values.\n",
        "\n",
        "To do so, we can iterate through our dataset and compute $\\frac{\\partial L}{\\partial w}$, and $\\frac{\\partial L}{\\partial b}$. Then, we can update our weights using the following update rules:\n",
        "\n",
        "$$w_j = w_j - \\eta\\frac{\\partial L}{\\partial w_j}$$\n",
        "\n",
        "and\n",
        "\n",
        "$$b = b - \\eta\\frac{\\partial L}{\\partial b}$$\n",
        "where $\\eta = 0.001$ is the step size.\n",
        "\n",
        "\n",
        "**Question 2.4**\n",
        "Implement code in `compute_weight_updates` to compute the weight and bias updates corresponding to $\\frac{\\partial L}{\\partial w}$, and $\\frac{\\partial L}{\\partial b}$. Then, run the gradient descent algorithm to test your implementation and see how well the neuron can classify cats vs. jellyfish."
      ],
      "metadata": {
        "id": "f9maeGxebldE"
      }
    },
    {
      "cell_type": "code",
      "source": [
        "def compute_weight_updates(neuron_weights, neuron_bias, dataset):\n",
        "    \"\"\"\n",
        "    Computes dL_dw and dL_db to solve for neuron weights via gradient descent.\n",
        "    \"\"\"\n",
        "    p_s = []\n",
        "    y_s = []\n",
        "    x_s = []\n",
        "\n",
        "    for x_i, y_i in ds:\n",
        "        p_s.append(None) # Replace None with appropriate code\n",
        "        y_s.append(None) # Replace None with appropriate code\n",
        "        x_s.append(None) # Replace None with appropriate code\n",
        "    p_minus_y = None\n",
        "\n",
        "    dL_dw = None # Replace with appropriate code\n",
        "    dL_db = None # Replace with appropriate code\n",
        "\n",
        "    return dL_dw, dL_db\n",
        "\n",
        "def find_neuron_weights(ds, dsv, n_iters=2000):\n",
        "    \"\"\"\n",
        "    Iterative Gradient Descent to optimize neuron weights\n",
        "    \"\"\"\n",
        "    neuron_weights, neuron_bias = init_neuron_weights()\n",
        "\n",
        "    for _ in range(n_iters):\n",
        "        if _ % 25 == 0:\n",
        "            print(f'Neg log likelihood {negative_logprob_of_dataset(ds, neuron_weights, neuron_bias)}')\n",
        "            print(f'Accuracy - train: {accuracy_of_data_set(ds, neuron_weights, neuron_bias)}, val: {accuracy_of_data_set(dsv, neuron_weights, neuron_bias)}')\n",
        "        dL_dw, dL_db = compute_weight_updates(neuron_weights, neuron_bias,ds)\n",
        "        neuron_weights -= 0.001 * dL_dw\n",
        "        neuron_bias -= 0.001 * dL_db\n",
        "\n",
        "    return neuron_weights, neuron_bias"
      ],
      "metadata": {
        "id": "-01AVg1fki4S"
      },
      "execution_count": null,
      "outputs": []
    },
    {
      "cell_type": "code",
      "source": [
        "# Run gradient descent\n",
        "final_weights, final_bias = find_neuron_weights(ds, dsv)"
      ],
      "metadata": {
        "id": "C3vhR773gANK"
      },
      "execution_count": null,
      "outputs": []
    },
    {
      "cell_type": "markdown",
      "source": [
        "**Extra Credit:**\n",
        "\n",
        "Even with 6x6 images, the optimization process to find the neuron weights can take quite a long time.\n",
        "\n",
        "There are several potential bottlenecks here. First, the dataloader used requires that we iterate through a single instance at a time. However, the dataset is small enough that it can be loaded into a single tensor.\n",
        "\n",
        "Extra Credit will be given for implementing ways to speed up the code above. For example, you might look to answer the following questions:\n",
        "\n",
        "- Can you re-implement the neuron weight-finding process so that you can do all the computations using only a few matrix multiplies and minimal for loops?\n",
        "- How much faster is the process if you use a GPU on top of these improvements?\n",
        "\n",
        "Please provide a writeup of your improvements, as well as any code you may have used below."
      ],
      "metadata": {
        "id": "p4u5KrOLy59G"
      }
    },
    {
      "cell_type": "code",
      "source": [],
      "metadata": {
        "id": "O7YIvzA3hl3r"
      },
      "execution_count": null,
      "outputs": []
    }
  ]
}

