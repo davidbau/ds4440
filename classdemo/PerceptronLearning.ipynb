{
  "cells": [
    {
      "cell_type": "markdown",
      "id": "3267bc12",
      "metadata": {
        "id": "3267bc12"
      },
      "source": [
        "# Perceptron Learning in 2D\n",
        "\n",
        "This notebook runs and visualizes Rosenblatt's original 1950's perception learning algorithm with 2-dimensional training data.\n",
        "\n",
        "Later, in homework HW1 you will use a perceptron to classify images, and you will also use calculus to see how Rosenblatt's learning rule is related to gradient descent."
      ]
    },
    {
      "cell_type": "markdown",
      "source": [
        "## Show setup code\n",
        "\n",
        "The code here defines a visualization widget class called PerceptronVisualizingWidget that we will need.  It also creates a random set of 100 2-d data points `data`, divided into two classes indicated by the 100-dimensional vector `labels`."
      ],
      "metadata": {
        "id": "rZPnN6ELpYcT"
      },
      "id": "rZPnN6ELpYcT"
    },
    {
      "cell_type": "code",
      "source": [
        "%%capture\n",
        "!pip install -U git+https://github.com/davidbau/baukit@main#egg=baukit"
      ],
      "metadata": {
        "id": "8nU526UdfuNE"
      },
      "id": "8nU526UdfuNE",
      "execution_count": 64,
      "outputs": []
    },
    {
      "cell_type": "code",
      "execution_count": 68,
      "id": "cd711992",
      "metadata": {
        "id": "cd711992"
      },
      "outputs": [],
      "source": [
        "import torch, numpy\n",
        "from copy import deepcopy\n",
        "from baukit import show, Widget, PlotWidget, Range, Numberbox\n",
        "from matplotlib import pyplot as plt\n",
        "\n",
        "prng = numpy.random.RandomState(1)\n",
        "data = torch.Tensor(prng.randn(100, 2))\n",
        "labels = torch.Tensor(numpy.stack([(d[0] - 0.4 < -0.7 * d[1]) for d in data])) * 2 - 1\n",
        "\n",
        "class PerceptronVisualizingWidget(Widget):\n",
        "    def __init__(self, data=[], labels=[]):\n",
        "        super().__init__()\n",
        "        self.data = data\n",
        "        self.labels = labels\n",
        "        self.history = []\n",
        "        self.plot = PlotWidget(self.visualize_net, nrows=1, ncols=3, figsize=(11,4)) # , bbox_inches='tight')\n",
        "        scrubber = Range(min=0, max=0, value=self.plot.prop('index'))\n",
        "        numbox = Numberbox(value=self.plot.prop('index'))\n",
        "        self.content = [\n",
        "            [\n",
        "                [show.style(alignContent='center'), 'Iteration'],\n",
        "                numbox,\n",
        "                show.style(flex=20), scrubber\n",
        "            ],\n",
        "            self.plot\n",
        "        ]\n",
        "\n",
        "    def _repr_html_(self):\n",
        "        return show.html(self.content)\n",
        "\n",
        "    def add(self, net, x=None, y=None):\n",
        "        with torch.no_grad():\n",
        "            ok = (net(x).item() == y)\n",
        "            self.history.append((deepcopy(net), x, ok, y))\n",
        "        self.content[0][-1].max = len(self.history) - 1\n",
        "        if len(self.history) == 1:\n",
        "            self.plot.index = 0\n",
        "\n",
        "    def visualize_net(self, fig, index=0):\n",
        "        fig.subplots_adjust(0.02, 0.02, 0.98, 0.98)\n",
        "        ax1, ax2, ax3 = fig.axes\n",
        "        ax1.clear(); ax2.clear(); ax3.clear()\n",
        "        if index >= len(self.history):\n",
        "            return\n",
        "        net, datum, ok, label = self.history[index]\n",
        "        grid = torch.stack([\n",
        "            torch.linspace(-3, 3, 200)[None, :].expand(200, 200),\n",
        "            torch.linspace(3, -3, 200)[:, None].expand(200, 200),\n",
        "        ])\n",
        "        x, y = grid\n",
        "        ax1.set_title('network output')\n",
        "        score = net(grid.permute(1, 2, 0).reshape(-1, 2))\n",
        "        ax1.imshow(score.reshape(200, 200).detach().cpu(), cmap='hot', extent=[-3,3,-3,3])\n",
        "        ax2.imshow(score.reshape(200, 200).detach().cpu(), cmap='hot', extent=[-3,3,-3,3], alpha=0.2)\n",
        "\n",
        "        ax2.set_title('training data')\n",
        "        ax2.set_ylim(-3, 3)\n",
        "        ax2.set_xlim(-3, 3)\n",
        "        ax2.set_aspect(1.0)\n",
        "        ax2.scatter([d[0] for d, l in zip(self.data, self.labels) if l > 0],\n",
        "                    [d[1] for d, l in zip(self.data, self.labels) if l > 0])\n",
        "        ax2.scatter([d[0] for d, l in zip(self.data, self.labels) if l <= 0],\n",
        "                    [d[1] for d, l in zip(self.data, self.labels) if l <= 0])\n",
        "        ax2.add_patch(plt.Circle(datum, 0.1, color='#FF0000' if not ok else '#00FF00', linewidth=3, fill=False))\n",
        "\n",
        "        ax3.set_title('model weights')\n",
        "        w = net.weight.cpu().detach()\n",
        "        lim = max(5, w.abs().max() * 1.05)\n",
        "        ax3.set_ylim(-lim, lim)\n",
        "        ax3.set_xlim(-lim, lim)\n",
        "        ax3.set_aspect(1.0)\n",
        "        ax3.arrow(0, 0, w[0, 0], w[0, 1], width=0.02, head_width=0.2, color='purple', length_includes_head=True)\n",
        "        d = label * datum\n",
        "        if not ok:\n",
        "            ax3.arrow(w[0, 0], w[0, 1], d[0], d[1], width=0.02, head_width=0.2, color='r', length_includes_head=True)\n",
        "\n"
      ]
    },
    {
      "cell_type": "markdown",
      "id": "7f67054b",
      "metadata": {
        "id": "7f67054b"
      },
      "source": [
        "## Perceptron Algorithm Learning on Separable Data\n",
        "\n",
        "The following code is a demo of Rosenblatt's Perception algorithm learning to classify linearly separable data.\n",
        "\n",
        "To make it work, first define the perceptron:\n",
        "\n",
        "1. First look at the Perceptron class.  It will define `__call__` which means that when you make a Perception object, it will be callable like a function.\n",
        "2. But unlike a regular function, it will be *parameterized*.  To define the two kinds of parameters, copy this code into the `__init__` method:\n",
        "```\n",
        "def __init__(self):\n",
        "    # It has two kinds of parameters: a weight for each input, and a bias\n",
        "    self.weight = torch.Tensor([[2.0, 0.0]])\n",
        "    self.bias = torch.Tensor([-2.0])\n",
        "```\n",
        "3. A perceptron takes a weighted sum of the inputs x, which we can write as `weight @ x`, with the appropriate matrix transposes; and then it applies a nonlinearity.  We will use the step function `torch.sign` as the nonlinearity.\n",
        "Add the following to the `__call__` method:\n",
        "```\n",
        "return torch.sign(self.weight @ x.t() + self.bias)\n",
        "```"
      ]
    },
    {
      "cell_type": "code",
      "execution_count": 70,
      "id": "093de4c4",
      "metadata": {
        "scrolled": false,
        "id": "093de4c4"
      },
      "outputs": [],
      "source": [
        "# A perceptron is a parameterized function\n",
        "class Perceptron():\n",
        "    def __init__(self):\n",
        "        # It has two kinds of parameters: a weight for each input, and a bias\n",
        "        self.weight = None # Fill me in\n",
        "        self.bias = None # Fill me in\n",
        "    def __call__(self, x):\n",
        "        # When it is called with a two-dimensional input, it does this.\n",
        "        if x.dim() == 1: x = x.unsqueeze(0)\n",
        "        return None # Fill me in\n"
      ]
    },
    {
      "cell_type": "markdown",
      "source": [
        "Now let us implement Rosenblatt's perception algorithm.\n",
        "\n",
        "There are three main steps that Rosenblatt iterated forever.\n",
        "\n",
        "1. Choose a random data point x from the data set, with label y (-1 or 1).\n",
        "2. Run the network on x to make a prediction.\n",
        "3. If the prediction is wrong, update the network by:\n",
        "  * adding x to the network weight if the right label was 1\n",
        "  * subtracting x from the network weight if the right label was -1.\n",
        "\n",
        "In other words, add y*x to the weight."
      ],
      "metadata": {
        "id": "bExZbymx1ygP"
      },
      "id": "bExZbymx1ygP"
    },
    {
      "cell_type": "code",
      "source": [
        "net = Perceptron()\n",
        "\n",
        "widget = PerceptronVisualizingWidget(data, labels)\n",
        "\n",
        "# The perceptron learning algorithm.\n",
        "for it in range(60):\n",
        "    # Step 1: choose a random data point\n",
        "    i = prng.randint(len(data))\n",
        "    y = labels[i]\n",
        "    x = data[i]\n",
        "    pw.add(net, x, y)\n",
        "\n",
        "    # Step 2: run the network to make a prediction\n",
        "    pred = None # fill me in. How do we run the network on x?\n",
        "\n",
        "    # Step 3: if the prediction is wrong, update the weights\n",
        "    if pred.item() != y:\n",
        "        # Rosenblatt's update rule\n",
        "        net.weight += None # fill me in\n",
        "        net.bias += y # Another detail\n",
        "\n",
        "show(widget)\n"
      ],
      "metadata": {
        "id": "QhPmqLeN1ckG"
      },
      "id": "QhPmqLeN1ckG",
      "execution_count": null,
      "outputs": []
    },
    {
      "cell_type": "code",
      "execution_count": null,
      "id": "c90f8536",
      "metadata": {
        "id": "c90f8536"
      },
      "outputs": [],
      "source": [
        "import time\n",
        "for i in range(60):\n",
        "    widget.plot.index = i\n",
        "    time.sleep(0.5)"
      ]
    },
    {
      "cell_type": "markdown",
      "id": "9bceb00a",
      "metadata": {
        "id": "9bceb00a"
      },
      "source": [
        "## Perceptron Algorithm Failing on non-Separable Data\n",
        "\n",
        "Now we can try on harder data..."
      ]
    },
    {
      "cell_type": "code",
      "execution_count": 71,
      "id": "d52be879",
      "metadata": {
        "scrolled": false,
        "id": "d52be879"
      },
      "outputs": [],
      "source": [
        "# labels = torch.Tensor(numpy.stack([(d[0].sign() == d[1].sign()) for d in data])) * 2 - 1\n"
      ]
    }
  ],
  "metadata": {
    "kernelspec": {
      "display_name": "Python 3 (ipykernel)",
      "language": "python",
      "name": "python3"
    },
    "language_info": {
      "codemirror_mode": {
        "name": "ipython",
        "version": 3
      },
      "file_extension": ".py",
      "mimetype": "text/x-python",
      "name": "python",
      "nbconvert_exporter": "python",
      "pygments_lexer": "ipython3",
      "version": "3.10.6"
    },
    "colab": {
      "provenance": [],
      "collapsed_sections": [
        "rZPnN6ELpYcT"
      ]
    }
  },
  "nbformat": 4,
  "nbformat_minor": 5
}