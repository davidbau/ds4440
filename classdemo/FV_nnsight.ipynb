{
  "cells": [
    {
      "cell_type": "markdown",
      "metadata": {
        "id": "29tMgKOSfPT4"
      },
      "source": [
        "# Introduction"
      ],
      "id": "29tMgKOSfPT4"
    },
    {
      "cell_type": "markdown",
      "metadata": {
        "id": "jFb2nW35fRqA"
      },
      "source": [
        "These exercises serve as an exploration of the following question: ***can we steer a model to produce different outputs / have a different behaviour, by intervening on the model's forward pass using vectors found by non gradient descent-based methods?***\n",
        "\n",
        "The majority of the exercises focus on [function vectors](https://functions.baulab.info/): vectors which are extracted from forward passes on in-context learning (ICL) tasks, and added to the residual stream in order to trigger the execution of this task from a zero-shot prompt. The diagram below illustrates this.\n",
        "\n",
        "<img src=\"https://functions.baulab.info/images/Paper/fv-demonstrations.png\" width=\"650\">\n",
        "\n",
        "The exercises also take you through use of the `nnsight` library, which is designed to support this kind of work (and other interpretability research) on very large language models - i.e. larger than models like GPT2-Small which you might be used to at this point in the course.\n",
        "\n",
        "The final set of exercises look at Alex Turner et al's work on [steering vectors](https://www.lesswrong.com/posts/5spBue2z2tw4JuDCx/steering-gpt-2-xl-by-adding-an-activation-vector), which is conceptually related but has different aims and methodologies."
      ],
      "id": "jFb2nW35fRqA"
    },
    {
      "cell_type": "markdown",
      "metadata": {
        "id": "c5CF2fOYLt1x"
      },
      "source": [
        "## Content & Learning Objectives\n"
      ],
      "id": "c5CF2fOYLt1x"
    },
    {
      "cell_type": "markdown",
      "metadata": {
        "id": "3DdwJ_RBPtXg"
      },
      "source": [
        "### 1️⃣ Introduction to `nnsight`\n",
        "\n",
        "In this section, you'll learn the basics of how to use the `nnsight` library: running forward passes on your model, and saving the internal states. You'll also learn some basics of HuggingFace models which translate over into `nnsight` models (e.g. tokenization, and how to work with model output).\n",
        "\n",
        "> ##### Learning Objectives\n",
        ">\n",
        "> * Learn the basics of the `nnsight` library, and what it can be useful for\n",
        "\n",
        "<br>\n",
        "\n",
        "### 2️⃣ Task-encoding hidden states\n",
        "\n",
        "We'll begin with the following question, posed by the Function Vectors paper:\n",
        "\n",
        "> *When a transformer processes an ICL (in-context-learning) prompt with exemplars demonstrating task $T$, do any hidden states encode the task itself?*\n",
        "\n",
        "We'll prove that the answer is yes, by constructing a vector $h$ from a set of ICL prompts for the **antonym task**, and intervening with our vector to make our model produce antonyms on zero-shot prompts.\n",
        "\n",
        "This will require you to learn how to perform causal interventions with `nnsight`, not just save activations.\n",
        "\n",
        "(Note - this section structurally follows section 2.1 of the function vectors paper).\n",
        "\n",
        "> ##### Learning Objectives\n",
        ">\n",
        "> * Understand how `nnsight` can be used to perform causal interventions, and perform some yourself\n",
        "> * Reproduce the \"h-vector results\" from the function vectors paper; that the residual stream does contain a vector which encodes the task and can induce task behaviour on zero-shot prompts\n",
        "\n",
        "<br>\n",
        "\n",
        "### 3️⃣ Function Vectors\n",
        "\n",
        "In this section, we'll replicate the crux of the paper's results, by identifying a set of attention heads whose outputs have a large effect on the model's ICL performance, and showing we can patch with these vectors to induce task-solving behaviour on randomly shuffled prompts.\n",
        "\n",
        "We'll also learn how to use `nnsight` for multi-token generation, and steer the model's behaviour. There exist exercises where you can try this out for different tasks, e.g. the Country-Capitals task, where you'll be able to steer the model to complete prompts like `\"When you think of Netherlands, you usually think of\"` by talking about Amsterdam.\n",
        "\n",
        "(Note - this section structurally follows sections 2.2, 2.3 and some of section 3 from the function vectors paper).\n",
        "\n",
        "> ##### Learning Objectives\n",
        ">\n",
        "> * Define a metric to measure the causal effect of each attention head on the correct performance of the in-context learning task\n",
        "> * Understand how to rearrange activations in a model during an `nnsight` forward pass, to extract activations corresponding to a particular attention head\n",
        "> * Learn how to use `nnsight` for multi-token generation\n",
        "\n",
        "<br>\n",
        "\n",
        "### ⭐️ Steering Vectors in GPT2-XL\n",
        "\n",
        "Here, we discuss a different but related set of research: Alex Turner's work on steering vectors. This also falls under the umbrella of \"interventions in the residual stream using vectors found with forward pass (non-SGD) based methods in order to alter behaviour\", but it has a different setup, objectives, and approach.\n",
        "\n",
        "> ##### Learning Objectives\n",
        ">\n",
        "> * Understand the goals & main results from Alex Turner et al's work on steering vectors\n",
        "> * Reproduce the changes in behaviour described in their initial post\n",
        "\n",
        "<br>"
      ],
      "id": "3DdwJ_RBPtXg"
    },
    {
      "cell_type": "markdown",
      "metadata": {
        "id": "97292f90-5c2e-444d-88e4-41265e8ad0d9"
      },
      "source": [
        "# Setup (don't read, just run!)"
      ],
      "id": "97292f90-5c2e-444d-88e4-41265e8ad0d9"
    },
    {
      "cell_type": "code",
      "execution_count": null,
      "metadata": {
        "colab": {
          "base_uri": "https://localhost:8080/"
        },
        "id": "bC46t3VqNu0S",
        "outputId": "e3d940dc-1eac-4a9d-efcf-7e6d4ee8b2ac"
      },
      "outputs": [
        {
          "output_type": "stream",
          "name": "stdout",
          "text": [
            "Requirement already satisfied: nnsight in /usr/local/lib/python3.10/dist-packages (0.2.8)\n",
            "Requirement already satisfied: transformers in /usr/local/lib/python3.10/dist-packages (from nnsight) (4.38.2)\n",
            "Requirement already satisfied: protobuf in /usr/local/lib/python3.10/dist-packages (from nnsight) (3.20.3)\n",
            "Requirement already satisfied: python-socketio[client] in /usr/local/lib/python3.10/dist-packages (from nnsight) (5.11.1)\n",
            "Requirement already satisfied: tokenizers>=0.13.0 in /usr/local/lib/python3.10/dist-packages (from nnsight) (0.15.2)\n",
            "Requirement already satisfied: pydantic>=2.4.0 in /usr/local/lib/python3.10/dist-packages (from nnsight) (2.6.4)\n",
            "Requirement already satisfied: torch>=2.1.0 in /usr/local/lib/python3.10/dist-packages (from nnsight) (2.2.1+cu121)\n",
            "Requirement already satisfied: sentencepiece in /usr/local/lib/python3.10/dist-packages (from nnsight) (0.1.99)\n",
            "Requirement already satisfied: torchvision in /usr/local/lib/python3.10/dist-packages (from nnsight) (0.17.1+cu121)\n",
            "Requirement already satisfied: accelerate in /usr/local/lib/python3.10/dist-packages (from nnsight) (0.28.0)\n",
            "Requirement already satisfied: diffusers in /usr/local/lib/python3.10/dist-packages (from nnsight) (0.27.0)\n",
            "Requirement already satisfied: einops in /usr/local/lib/python3.10/dist-packages (from nnsight) (0.7.0)\n",
            "Requirement already satisfied: annotated-types>=0.4.0 in /usr/local/lib/python3.10/dist-packages (from pydantic>=2.4.0->nnsight) (0.6.0)\n",
            "Requirement already satisfied: pydantic-core==2.16.3 in /usr/local/lib/python3.10/dist-packages (from pydantic>=2.4.0->nnsight) (2.16.3)\n",
            "Requirement already satisfied: typing-extensions>=4.6.1 in /usr/local/lib/python3.10/dist-packages (from pydantic>=2.4.0->nnsight) (4.10.0)\n",
            "Requirement already satisfied: huggingface_hub<1.0,>=0.16.4 in /usr/local/lib/python3.10/dist-packages (from tokenizers>=0.13.0->nnsight) (0.20.3)\n",
            "Requirement already satisfied: filelock in /usr/local/lib/python3.10/dist-packages (from torch>=2.1.0->nnsight) (3.13.1)\n",
            "Requirement already satisfied: sympy in /usr/local/lib/python3.10/dist-packages (from torch>=2.1.0->nnsight) (1.12)\n",
            "Requirement already satisfied: networkx in /usr/local/lib/python3.10/dist-packages (from torch>=2.1.0->nnsight) (3.2.1)\n",
            "Requirement already satisfied: jinja2 in /usr/local/lib/python3.10/dist-packages (from torch>=2.1.0->nnsight) (3.1.3)\n",
            "Requirement already satisfied: fsspec in /usr/local/lib/python3.10/dist-packages (from torch>=2.1.0->nnsight) (2023.6.0)\n",
            "Requirement already satisfied: nvidia-cuda-nvrtc-cu12==12.1.105 in /usr/local/lib/python3.10/dist-packages (from torch>=2.1.0->nnsight) (12.1.105)\n",
            "Requirement already satisfied: nvidia-cuda-runtime-cu12==12.1.105 in /usr/local/lib/python3.10/dist-packages (from torch>=2.1.0->nnsight) (12.1.105)\n",
            "Requirement already satisfied: nvidia-cuda-cupti-cu12==12.1.105 in /usr/local/lib/python3.10/dist-packages (from torch>=2.1.0->nnsight) (12.1.105)\n",
            "Requirement already satisfied: nvidia-cudnn-cu12==8.9.2.26 in /usr/local/lib/python3.10/dist-packages (from torch>=2.1.0->nnsight) (8.9.2.26)\n",
            "Requirement already satisfied: nvidia-cublas-cu12==12.1.3.1 in /usr/local/lib/python3.10/dist-packages (from torch>=2.1.0->nnsight) (12.1.3.1)\n",
            "Requirement already satisfied: nvidia-cufft-cu12==11.0.2.54 in /usr/local/lib/python3.10/dist-packages (from torch>=2.1.0->nnsight) (11.0.2.54)\n",
            "Requirement already satisfied: nvidia-curand-cu12==10.3.2.106 in /usr/local/lib/python3.10/dist-packages (from torch>=2.1.0->nnsight) (10.3.2.106)\n",
            "Requirement already satisfied: nvidia-cusolver-cu12==11.4.5.107 in /usr/local/lib/python3.10/dist-packages (from torch>=2.1.0->nnsight) (11.4.5.107)\n",
            "Requirement already satisfied: nvidia-cusparse-cu12==12.1.0.106 in /usr/local/lib/python3.10/dist-packages (from torch>=2.1.0->nnsight) (12.1.0.106)\n",
            "Requirement already satisfied: nvidia-nccl-cu12==2.19.3 in /usr/local/lib/python3.10/dist-packages (from torch>=2.1.0->nnsight) (2.19.3)\n",
            "Requirement already satisfied: nvidia-nvtx-cu12==12.1.105 in /usr/local/lib/python3.10/dist-packages (from torch>=2.1.0->nnsight) (12.1.105)\n",
            "Requirement already satisfied: triton==2.2.0 in /usr/local/lib/python3.10/dist-packages (from torch>=2.1.0->nnsight) (2.2.0)\n",
            "Requirement already satisfied: nvidia-nvjitlink-cu12 in /usr/local/lib/python3.10/dist-packages (from nvidia-cusolver-cu12==11.4.5.107->torch>=2.1.0->nnsight) (12.4.99)\n",
            "Requirement already satisfied: numpy>=1.17 in /usr/local/lib/python3.10/dist-packages (from accelerate->nnsight) (1.25.2)\n",
            "Requirement already satisfied: packaging>=20.0 in /usr/local/lib/python3.10/dist-packages (from accelerate->nnsight) (24.0)\n",
            "Requirement already satisfied: psutil in /usr/local/lib/python3.10/dist-packages (from accelerate->nnsight) (5.9.5)\n",
            "Requirement already satisfied: pyyaml in /usr/local/lib/python3.10/dist-packages (from accelerate->nnsight) (6.0.1)\n",
            "Requirement already satisfied: safetensors>=0.3.1 in /usr/local/lib/python3.10/dist-packages (from accelerate->nnsight) (0.4.2)\n",
            "Requirement already satisfied: importlib-metadata in /usr/local/lib/python3.10/dist-packages (from diffusers->nnsight) (5.2.0)\n",
            "Requirement already satisfied: regex!=2019.12.17 in /usr/local/lib/python3.10/dist-packages (from diffusers->nnsight) (2023.12.25)\n",
            "Requirement already satisfied: requests in /usr/local/lib/python3.10/dist-packages (from diffusers->nnsight) (2.31.0)\n",
            "Requirement already satisfied: Pillow in /usr/local/lib/python3.10/dist-packages (from diffusers->nnsight) (9.4.0)\n",
            "Requirement already satisfied: bidict>=0.21.0 in /usr/local/lib/python3.10/dist-packages (from python-socketio[client]->nnsight) (0.23.1)\n",
            "Requirement already satisfied: python-engineio>=4.8.0 in /usr/local/lib/python3.10/dist-packages (from python-socketio[client]->nnsight) (4.9.0)\n",
            "Requirement already satisfied: websocket-client>=0.54.0 in /usr/local/lib/python3.10/dist-packages (from python-socketio[client]->nnsight) (1.7.0)\n",
            "Requirement already satisfied: tqdm>=4.27 in /usr/local/lib/python3.10/dist-packages (from transformers->nnsight) (4.66.2)\n",
            "Requirement already satisfied: simple-websocket>=0.10.0 in /usr/local/lib/python3.10/dist-packages (from python-engineio>=4.8.0->python-socketio[client]->nnsight) (1.0.0)\n",
            "Requirement already satisfied: charset-normalizer<4,>=2 in /usr/local/lib/python3.10/dist-packages (from requests->diffusers->nnsight) (3.3.2)\n",
            "Requirement already satisfied: idna<4,>=2.5 in /usr/local/lib/python3.10/dist-packages (from requests->diffusers->nnsight) (3.6)\n",
            "Requirement already satisfied: urllib3<3,>=1.21.1 in /usr/local/lib/python3.10/dist-packages (from requests->diffusers->nnsight) (2.0.7)\n",
            "Requirement already satisfied: certifi>=2017.4.17 in /usr/local/lib/python3.10/dist-packages (from requests->diffusers->nnsight) (2024.2.2)\n",
            "Requirement already satisfied: zipp>=0.5 in /usr/local/lib/python3.10/dist-packages (from importlib-metadata->diffusers->nnsight) (3.18.0)\n",
            "Requirement already satisfied: MarkupSafe>=2.0 in /usr/local/lib/python3.10/dist-packages (from jinja2->torch>=2.1.0->nnsight) (2.1.5)\n",
            "Requirement already satisfied: mpmath>=0.19 in /usr/local/lib/python3.10/dist-packages (from sympy->torch>=2.1.0->nnsight) (1.3.0)\n",
            "Requirement already satisfied: wsproto in /usr/local/lib/python3.10/dist-packages (from simple-websocket>=0.10.0->python-engineio>=4.8.0->python-socketio[client]->nnsight) (1.2.0)\n",
            "Requirement already satisfied: h11<1,>=0.9.0 in /usr/local/lib/python3.10/dist-packages (from wsproto->simple-websocket>=0.10.0->python-engineio>=4.8.0->python-socketio[client]->nnsight) (0.14.0)\n",
            "Requirement already satisfied: einops in /usr/local/lib/python3.10/dist-packages (0.7.0)\n",
            "Requirement already satisfied: openai==0.28 in /usr/local/lib/python3.10/dist-packages (0.28.0)\n",
            "Requirement already satisfied: requests>=2.20 in /usr/local/lib/python3.10/dist-packages (from openai==0.28) (2.31.0)\n",
            "Requirement already satisfied: tqdm in /usr/local/lib/python3.10/dist-packages (from openai==0.28) (4.66.2)\n",
            "Requirement already satisfied: aiohttp in /usr/local/lib/python3.10/dist-packages (from openai==0.28) (3.9.3)\n",
            "Requirement already satisfied: charset-normalizer<4,>=2 in /usr/local/lib/python3.10/dist-packages (from requests>=2.20->openai==0.28) (3.3.2)\n",
            "Requirement already satisfied: idna<4,>=2.5 in /usr/local/lib/python3.10/dist-packages (from requests>=2.20->openai==0.28) (3.6)\n",
            "Requirement already satisfied: urllib3<3,>=1.21.1 in /usr/local/lib/python3.10/dist-packages (from requests>=2.20->openai==0.28) (2.0.7)\n",
            "Requirement already satisfied: certifi>=2017.4.17 in /usr/local/lib/python3.10/dist-packages (from requests>=2.20->openai==0.28) (2024.2.2)\n",
            "Requirement already satisfied: aiosignal>=1.1.2 in /usr/local/lib/python3.10/dist-packages (from aiohttp->openai==0.28) (1.3.1)\n",
            "Requirement already satisfied: attrs>=17.3.0 in /usr/local/lib/python3.10/dist-packages (from aiohttp->openai==0.28) (23.2.0)\n",
            "Requirement already satisfied: frozenlist>=1.1.1 in /usr/local/lib/python3.10/dist-packages (from aiohttp->openai==0.28) (1.4.1)\n",
            "Requirement already satisfied: multidict<7.0,>=4.5 in /usr/local/lib/python3.10/dist-packages (from aiohttp->openai==0.28) (6.0.5)\n",
            "Requirement already satisfied: yarl<2.0,>=1.0 in /usr/local/lib/python3.10/dist-packages (from aiohttp->openai==0.28) (1.9.4)\n",
            "Requirement already satisfied: async-timeout<5.0,>=4.0 in /usr/local/lib/python3.10/dist-packages (from aiohttp->openai==0.28) (4.0.3)\n",
            "Requirement already satisfied: jaxtyping in /usr/local/lib/python3.10/dist-packages (0.2.28)\n",
            "Requirement already satisfied: numpy>=1.20.0 in /usr/local/lib/python3.10/dist-packages (from jaxtyping) (1.25.2)\n",
            "Requirement already satisfied: typeguard==2.13.3 in /usr/local/lib/python3.10/dist-packages (from jaxtyping) (2.13.3)\n",
            "Requirement already satisfied: plotly in /usr/local/lib/python3.10/dist-packages (5.15.0)\n",
            "Requirement already satisfied: tenacity>=6.2.0 in /usr/local/lib/python3.10/dist-packages (from plotly) (8.2.3)\n",
            "Requirement already satisfied: packaging in /usr/local/lib/python3.10/dist-packages (from plotly) (24.0)\n",
            "Requirement already satisfied: transformer_lens in /usr/local/lib/python3.10/dist-packages (1.14.0)\n",
            "Requirement already satisfied: accelerate>=0.23.0 in /usr/local/lib/python3.10/dist-packages (from transformer_lens) (0.28.0)\n",
            "Requirement already satisfied: beartype<0.15.0,>=0.14.1 in /usr/local/lib/python3.10/dist-packages (from transformer_lens) (0.14.1)\n",
            "Requirement already satisfied: better-abc<0.0.4,>=0.0.3 in /usr/local/lib/python3.10/dist-packages (from transformer_lens) (0.0.3)\n",
            "Requirement already satisfied: datasets>=2.7.1 in /usr/local/lib/python3.10/dist-packages (from transformer_lens) (2.18.0)\n",
            "Requirement already satisfied: einops>=0.6.0 in /usr/local/lib/python3.10/dist-packages (from transformer_lens) (0.7.0)\n",
            "Requirement already satisfied: fancy-einsum>=0.0.3 in /usr/local/lib/python3.10/dist-packages (from transformer_lens) (0.0.3)\n",
            "Requirement already satisfied: jaxtyping>=0.2.11 in /usr/local/lib/python3.10/dist-packages (from transformer_lens) (0.2.28)\n",
            "Requirement already satisfied: numpy>=1.24 in /usr/local/lib/python3.10/dist-packages (from transformer_lens) (1.25.2)\n",
            "Requirement already satisfied: pandas>=1.1.5 in /usr/local/lib/python3.10/dist-packages (from transformer_lens) (1.5.3)\n",
            "Requirement already satisfied: rich>=12.6.0 in /usr/local/lib/python3.10/dist-packages (from transformer_lens) (13.7.1)\n",
            "Requirement already satisfied: torch!=2.0,!=2.1.0,>=1.10 in /usr/local/lib/python3.10/dist-packages (from transformer_lens) (2.2.1+cu121)\n",
            "Requirement already satisfied: tqdm>=4.64.1 in /usr/local/lib/python3.10/dist-packages (from transformer_lens) (4.66.2)\n",
            "Requirement already satisfied: transformers>=4.34 in /usr/local/lib/python3.10/dist-packages (from transformer_lens) (4.38.2)\n",
            "Requirement already satisfied: typing-extensions in /usr/local/lib/python3.10/dist-packages (from transformer_lens) (4.10.0)\n",
            "Requirement already satisfied: wandb>=0.13.5 in /usr/local/lib/python3.10/dist-packages (from transformer_lens) (0.16.4)\n",
            "Requirement already satisfied: packaging>=20.0 in /usr/local/lib/python3.10/dist-packages (from accelerate>=0.23.0->transformer_lens) (24.0)\n",
            "Requirement already satisfied: psutil in /usr/local/lib/python3.10/dist-packages (from accelerate>=0.23.0->transformer_lens) (5.9.5)\n",
            "Requirement already satisfied: pyyaml in /usr/local/lib/python3.10/dist-packages (from accelerate>=0.23.0->transformer_lens) (6.0.1)\n",
            "Requirement already satisfied: huggingface-hub in /usr/local/lib/python3.10/dist-packages (from accelerate>=0.23.0->transformer_lens) (0.20.3)\n",
            "Requirement already satisfied: safetensors>=0.3.1 in /usr/local/lib/python3.10/dist-packages (from accelerate>=0.23.0->transformer_lens) (0.4.2)\n",
            "Requirement already satisfied: filelock in /usr/local/lib/python3.10/dist-packages (from datasets>=2.7.1->transformer_lens) (3.13.1)\n",
            "Requirement already satisfied: pyarrow>=12.0.0 in /usr/local/lib/python3.10/dist-packages (from datasets>=2.7.1->transformer_lens) (14.0.2)\n",
            "Requirement already satisfied: pyarrow-hotfix in /usr/local/lib/python3.10/dist-packages (from datasets>=2.7.1->transformer_lens) (0.6)\n",
            "Requirement already satisfied: dill<0.3.9,>=0.3.0 in /usr/local/lib/python3.10/dist-packages (from datasets>=2.7.1->transformer_lens) (0.3.8)\n",
            "Requirement already satisfied: requests>=2.19.0 in /usr/local/lib/python3.10/dist-packages (from datasets>=2.7.1->transformer_lens) (2.31.0)\n",
            "Requirement already satisfied: xxhash in /usr/local/lib/python3.10/dist-packages (from datasets>=2.7.1->transformer_lens) (3.4.1)\n",
            "Requirement already satisfied: multiprocess in /usr/local/lib/python3.10/dist-packages (from datasets>=2.7.1->transformer_lens) (0.70.16)\n",
            "Requirement already satisfied: fsspec[http]<=2024.2.0,>=2023.1.0 in /usr/local/lib/python3.10/dist-packages (from datasets>=2.7.1->transformer_lens) (2023.6.0)\n",
            "Requirement already satisfied: aiohttp in /usr/local/lib/python3.10/dist-packages (from datasets>=2.7.1->transformer_lens) (3.9.3)\n",
            "Requirement already satisfied: typeguard==2.13.3 in /usr/local/lib/python3.10/dist-packages (from jaxtyping>=0.2.11->transformer_lens) (2.13.3)\n",
            "Requirement already satisfied: python-dateutil>=2.8.1 in /usr/local/lib/python3.10/dist-packages (from pandas>=1.1.5->transformer_lens) (2.8.2)\n",
            "Requirement already satisfied: pytz>=2020.1 in /usr/local/lib/python3.10/dist-packages (from pandas>=1.1.5->transformer_lens) (2023.4)\n",
            "Requirement already satisfied: markdown-it-py>=2.2.0 in /usr/local/lib/python3.10/dist-packages (from rich>=12.6.0->transformer_lens) (3.0.0)\n",
            "Requirement already satisfied: pygments<3.0.0,>=2.13.0 in /usr/local/lib/python3.10/dist-packages (from rich>=12.6.0->transformer_lens) (2.16.1)\n",
            "Requirement already satisfied: sympy in /usr/local/lib/python3.10/dist-packages (from torch!=2.0,!=2.1.0,>=1.10->transformer_lens) (1.12)\n",
            "Requirement already satisfied: networkx in /usr/local/lib/python3.10/dist-packages (from torch!=2.0,!=2.1.0,>=1.10->transformer_lens) (3.2.1)\n",
            "Requirement already satisfied: jinja2 in /usr/local/lib/python3.10/dist-packages (from torch!=2.0,!=2.1.0,>=1.10->transformer_lens) (3.1.3)\n",
            "Requirement already satisfied: nvidia-cuda-nvrtc-cu12==12.1.105 in /usr/local/lib/python3.10/dist-packages (from torch!=2.0,!=2.1.0,>=1.10->transformer_lens) (12.1.105)\n",
            "Requirement already satisfied: nvidia-cuda-runtime-cu12==12.1.105 in /usr/local/lib/python3.10/dist-packages (from torch!=2.0,!=2.1.0,>=1.10->transformer_lens) (12.1.105)\n",
            "Requirement already satisfied: nvidia-cuda-cupti-cu12==12.1.105 in /usr/local/lib/python3.10/dist-packages (from torch!=2.0,!=2.1.0,>=1.10->transformer_lens) (12.1.105)\n",
            "Requirement already satisfied: nvidia-cudnn-cu12==8.9.2.26 in /usr/local/lib/python3.10/dist-packages (from torch!=2.0,!=2.1.0,>=1.10->transformer_lens) (8.9.2.26)\n",
            "Requirement already satisfied: nvidia-cublas-cu12==12.1.3.1 in /usr/local/lib/python3.10/dist-packages (from torch!=2.0,!=2.1.0,>=1.10->transformer_lens) (12.1.3.1)\n",
            "Requirement already satisfied: nvidia-cufft-cu12==11.0.2.54 in /usr/local/lib/python3.10/dist-packages (from torch!=2.0,!=2.1.0,>=1.10->transformer_lens) (11.0.2.54)\n",
            "Requirement already satisfied: nvidia-curand-cu12==10.3.2.106 in /usr/local/lib/python3.10/dist-packages (from torch!=2.0,!=2.1.0,>=1.10->transformer_lens) (10.3.2.106)\n",
            "Requirement already satisfied: nvidia-cusolver-cu12==11.4.5.107 in /usr/local/lib/python3.10/dist-packages (from torch!=2.0,!=2.1.0,>=1.10->transformer_lens) (11.4.5.107)\n",
            "Requirement already satisfied: nvidia-cusparse-cu12==12.1.0.106 in /usr/local/lib/python3.10/dist-packages (from torch!=2.0,!=2.1.0,>=1.10->transformer_lens) (12.1.0.106)\n",
            "Requirement already satisfied: nvidia-nccl-cu12==2.19.3 in /usr/local/lib/python3.10/dist-packages (from torch!=2.0,!=2.1.0,>=1.10->transformer_lens) (2.19.3)\n",
            "Requirement already satisfied: nvidia-nvtx-cu12==12.1.105 in /usr/local/lib/python3.10/dist-packages (from torch!=2.0,!=2.1.0,>=1.10->transformer_lens) (12.1.105)\n",
            "Requirement already satisfied: triton==2.2.0 in /usr/local/lib/python3.10/dist-packages (from torch!=2.0,!=2.1.0,>=1.10->transformer_lens) (2.2.0)\n",
            "Requirement already satisfied: nvidia-nvjitlink-cu12 in /usr/local/lib/python3.10/dist-packages (from nvidia-cusolver-cu12==11.4.5.107->torch!=2.0,!=2.1.0,>=1.10->transformer_lens) (12.4.99)\n",
            "Requirement already satisfied: regex!=2019.12.17 in /usr/local/lib/python3.10/dist-packages (from transformers>=4.34->transformer_lens) (2023.12.25)\n",
            "Requirement already satisfied: tokenizers<0.19,>=0.14 in /usr/local/lib/python3.10/dist-packages (from transformers>=4.34->transformer_lens) (0.15.2)\n",
            "Requirement already satisfied: Click!=8.0.0,>=7.1 in /usr/local/lib/python3.10/dist-packages (from wandb>=0.13.5->transformer_lens) (8.1.7)\n",
            "Requirement already satisfied: GitPython!=3.1.29,>=1.0.0 in /usr/local/lib/python3.10/dist-packages (from wandb>=0.13.5->transformer_lens) (3.1.42)\n",
            "Requirement already satisfied: sentry-sdk>=1.0.0 in /usr/local/lib/python3.10/dist-packages (from wandb>=0.13.5->transformer_lens) (1.42.0)\n",
            "Requirement already satisfied: docker-pycreds>=0.4.0 in /usr/local/lib/python3.10/dist-packages (from wandb>=0.13.5->transformer_lens) (0.4.0)\n",
            "Requirement already satisfied: setproctitle in /usr/local/lib/python3.10/dist-packages (from wandb>=0.13.5->transformer_lens) (1.3.3)\n",
            "Requirement already satisfied: setuptools in /usr/local/lib/python3.10/dist-packages (from wandb>=0.13.5->transformer_lens) (67.7.2)\n",
            "Requirement already satisfied: appdirs>=1.4.3 in /usr/local/lib/python3.10/dist-packages (from wandb>=0.13.5->transformer_lens) (1.4.4)\n",
            "Requirement already satisfied: protobuf!=4.21.0,<5,>=3.19.0 in /usr/local/lib/python3.10/dist-packages (from wandb>=0.13.5->transformer_lens) (3.20.3)\n",
            "Requirement already satisfied: six>=1.4.0 in /usr/local/lib/python3.10/dist-packages (from docker-pycreds>=0.4.0->wandb>=0.13.5->transformer_lens) (1.16.0)\n",
            "Requirement already satisfied: aiosignal>=1.1.2 in /usr/local/lib/python3.10/dist-packages (from aiohttp->datasets>=2.7.1->transformer_lens) (1.3.1)\n",
            "Requirement already satisfied: attrs>=17.3.0 in /usr/local/lib/python3.10/dist-packages (from aiohttp->datasets>=2.7.1->transformer_lens) (23.2.0)\n",
            "Requirement already satisfied: frozenlist>=1.1.1 in /usr/local/lib/python3.10/dist-packages (from aiohttp->datasets>=2.7.1->transformer_lens) (1.4.1)\n",
            "Requirement already satisfied: multidict<7.0,>=4.5 in /usr/local/lib/python3.10/dist-packages (from aiohttp->datasets>=2.7.1->transformer_lens) (6.0.5)\n",
            "Requirement already satisfied: yarl<2.0,>=1.0 in /usr/local/lib/python3.10/dist-packages (from aiohttp->datasets>=2.7.1->transformer_lens) (1.9.4)\n",
            "Requirement already satisfied: async-timeout<5.0,>=4.0 in /usr/local/lib/python3.10/dist-packages (from aiohttp->datasets>=2.7.1->transformer_lens) (4.0.3)\n",
            "Requirement already satisfied: gitdb<5,>=4.0.1 in /usr/local/lib/python3.10/dist-packages (from GitPython!=3.1.29,>=1.0.0->wandb>=0.13.5->transformer_lens) (4.0.11)\n",
            "Requirement already satisfied: mdurl~=0.1 in /usr/local/lib/python3.10/dist-packages (from markdown-it-py>=2.2.0->rich>=12.6.0->transformer_lens) (0.1.2)\n",
            "Requirement already satisfied: charset-normalizer<4,>=2 in /usr/local/lib/python3.10/dist-packages (from requests>=2.19.0->datasets>=2.7.1->transformer_lens) (3.3.2)\n",
            "Requirement already satisfied: idna<4,>=2.5 in /usr/local/lib/python3.10/dist-packages (from requests>=2.19.0->datasets>=2.7.1->transformer_lens) (3.6)\n",
            "Requirement already satisfied: urllib3<3,>=1.21.1 in /usr/local/lib/python3.10/dist-packages (from requests>=2.19.0->datasets>=2.7.1->transformer_lens) (2.0.7)\n",
            "Requirement already satisfied: certifi>=2017.4.17 in /usr/local/lib/python3.10/dist-packages (from requests>=2.19.0->datasets>=2.7.1->transformer_lens) (2024.2.2)\n",
            "Requirement already satisfied: MarkupSafe>=2.0 in /usr/local/lib/python3.10/dist-packages (from jinja2->torch!=2.0,!=2.1.0,>=1.10->transformer_lens) (2.1.5)\n",
            "Requirement already satisfied: mpmath>=0.19 in /usr/local/lib/python3.10/dist-packages (from sympy->torch!=2.0,!=2.1.0,>=1.10->transformer_lens) (1.3.0)\n",
            "Requirement already satisfied: smmap<6,>=3.0.1 in /usr/local/lib/python3.10/dist-packages (from gitdb<5,>=4.0.1->GitPython!=3.1.29,>=1.0.0->wandb>=0.13.5->transformer_lens) (5.0.1)\n",
            "Collecting git+https://github.com/callummcdougall/CircuitsVis.git#subdirectory=python\n",
            "  Cloning https://github.com/callummcdougall/CircuitsVis.git to /tmp/pip-req-build-14tc5h2u\n",
            "  Running command git clone --filter=blob:none --quiet https://github.com/callummcdougall/CircuitsVis.git /tmp/pip-req-build-14tc5h2u\n",
            "  Resolved https://github.com/callummcdougall/CircuitsVis.git to commit 1e6129d08cae7af9242d9ab5d3ed322dd44b4dd3\n",
            "  Installing build dependencies ... \u001b[?25l\u001b[?25hdone\n",
            "  Getting requirements to build wheel ... \u001b[?25l\u001b[?25hdone\n",
            "  Preparing metadata (pyproject.toml) ... \u001b[?25l\u001b[?25hdone\n",
            "Requirement already satisfied: importlib-metadata<6.0.0,>=5.1.0 in /usr/local/lib/python3.10/dist-packages (from circuitsvis==0.0.0) (5.2.0)\n",
            "Requirement already satisfied: numpy<2.0,>=1.23 in /usr/local/lib/python3.10/dist-packages (from circuitsvis==0.0.0) (1.25.2)\n",
            "Requirement already satisfied: torch<3.0,>=2.0 in /usr/local/lib/python3.10/dist-packages (from circuitsvis==0.0.0) (2.2.1+cu121)\n",
            "Requirement already satisfied: zipp>=0.5 in /usr/local/lib/python3.10/dist-packages (from importlib-metadata<6.0.0,>=5.1.0->circuitsvis==0.0.0) (3.18.0)\n",
            "Requirement already satisfied: filelock in /usr/local/lib/python3.10/dist-packages (from torch<3.0,>=2.0->circuitsvis==0.0.0) (3.13.1)\n",
            "Requirement already satisfied: typing-extensions>=4.8.0 in /usr/local/lib/python3.10/dist-packages (from torch<3.0,>=2.0->circuitsvis==0.0.0) (4.10.0)\n",
            "Requirement already satisfied: sympy in /usr/local/lib/python3.10/dist-packages (from torch<3.0,>=2.0->circuitsvis==0.0.0) (1.12)\n",
            "Requirement already satisfied: networkx in /usr/local/lib/python3.10/dist-packages (from torch<3.0,>=2.0->circuitsvis==0.0.0) (3.2.1)\n",
            "Requirement already satisfied: jinja2 in /usr/local/lib/python3.10/dist-packages (from torch<3.0,>=2.0->circuitsvis==0.0.0) (3.1.3)\n",
            "Requirement already satisfied: fsspec in /usr/local/lib/python3.10/dist-packages (from torch<3.0,>=2.0->circuitsvis==0.0.0) (2023.6.0)\n",
            "Requirement already satisfied: nvidia-cuda-nvrtc-cu12==12.1.105 in /usr/local/lib/python3.10/dist-packages (from torch<3.0,>=2.0->circuitsvis==0.0.0) (12.1.105)\n",
            "Requirement already satisfied: nvidia-cuda-runtime-cu12==12.1.105 in /usr/local/lib/python3.10/dist-packages (from torch<3.0,>=2.0->circuitsvis==0.0.0) (12.1.105)\n",
            "Requirement already satisfied: nvidia-cuda-cupti-cu12==12.1.105 in /usr/local/lib/python3.10/dist-packages (from torch<3.0,>=2.0->circuitsvis==0.0.0) (12.1.105)\n",
            "Requirement already satisfied: nvidia-cudnn-cu12==8.9.2.26 in /usr/local/lib/python3.10/dist-packages (from torch<3.0,>=2.0->circuitsvis==0.0.0) (8.9.2.26)\n",
            "Requirement already satisfied: nvidia-cublas-cu12==12.1.3.1 in /usr/local/lib/python3.10/dist-packages (from torch<3.0,>=2.0->circuitsvis==0.0.0) (12.1.3.1)\n",
            "Requirement already satisfied: nvidia-cufft-cu12==11.0.2.54 in /usr/local/lib/python3.10/dist-packages (from torch<3.0,>=2.0->circuitsvis==0.0.0) (11.0.2.54)\n",
            "Requirement already satisfied: nvidia-curand-cu12==10.3.2.106 in /usr/local/lib/python3.10/dist-packages (from torch<3.0,>=2.0->circuitsvis==0.0.0) (10.3.2.106)\n",
            "Requirement already satisfied: nvidia-cusolver-cu12==11.4.5.107 in /usr/local/lib/python3.10/dist-packages (from torch<3.0,>=2.0->circuitsvis==0.0.0) (11.4.5.107)\n",
            "Requirement already satisfied: nvidia-cusparse-cu12==12.1.0.106 in /usr/local/lib/python3.10/dist-packages (from torch<3.0,>=2.0->circuitsvis==0.0.0) (12.1.0.106)\n",
            "Requirement already satisfied: nvidia-nccl-cu12==2.19.3 in /usr/local/lib/python3.10/dist-packages (from torch<3.0,>=2.0->circuitsvis==0.0.0) (2.19.3)\n",
            "Requirement already satisfied: nvidia-nvtx-cu12==12.1.105 in /usr/local/lib/python3.10/dist-packages (from torch<3.0,>=2.0->circuitsvis==0.0.0) (12.1.105)\n",
            "Requirement already satisfied: triton==2.2.0 in /usr/local/lib/python3.10/dist-packages (from torch<3.0,>=2.0->circuitsvis==0.0.0) (2.2.0)\n",
            "Requirement already satisfied: nvidia-nvjitlink-cu12 in /usr/local/lib/python3.10/dist-packages (from nvidia-cusolver-cu12==11.4.5.107->torch<3.0,>=2.0->circuitsvis==0.0.0) (12.4.99)\n",
            "Requirement already satisfied: MarkupSafe>=2.0 in /usr/local/lib/python3.10/dist-packages (from jinja2->torch<3.0,>=2.0->circuitsvis==0.0.0) (2.1.5)\n",
            "Requirement already satisfied: mpmath>=0.19 in /usr/local/lib/python3.10/dist-packages (from sympy->torch<3.0,>=2.0->circuitsvis==0.0.0) (1.3.0)\n",
            "Requirement already satisfied: gradio in /usr/local/lib/python3.10/dist-packages (4.21.0)\n",
            "Requirement already satisfied: typing-extensions in /usr/local/lib/python3.10/dist-packages (4.10.0)\n",
            "Requirement already satisfied: aiofiles<24.0,>=22.0 in /usr/local/lib/python3.10/dist-packages (from gradio) (23.2.1)\n",
            "Requirement already satisfied: altair<6.0,>=4.2.0 in /usr/local/lib/python3.10/dist-packages (from gradio) (4.2.2)\n",
            "Requirement already satisfied: fastapi in /usr/local/lib/python3.10/dist-packages (from gradio) (0.110.0)\n",
            "Requirement already satisfied: ffmpy in /usr/local/lib/python3.10/dist-packages (from gradio) (0.3.2)\n",
            "Requirement already satisfied: gradio-client==0.12.0 in /usr/local/lib/python3.10/dist-packages (from gradio) (0.12.0)\n",
            "Requirement already satisfied: httpx>=0.24.1 in /usr/local/lib/python3.10/dist-packages (from gradio) (0.27.0)\n",
            "Requirement already satisfied: huggingface-hub>=0.19.3 in /usr/local/lib/python3.10/dist-packages (from gradio) (0.20.3)\n",
            "Requirement already satisfied: importlib-resources<7.0,>=1.3 in /usr/local/lib/python3.10/dist-packages (from gradio) (6.3.0)\n",
            "Requirement already satisfied: jinja2<4.0 in /usr/local/lib/python3.10/dist-packages (from gradio) (3.1.3)\n",
            "Requirement already satisfied: markupsafe~=2.0 in /usr/local/lib/python3.10/dist-packages (from gradio) (2.1.5)\n",
            "Requirement already satisfied: matplotlib~=3.0 in /usr/local/lib/python3.10/dist-packages (from gradio) (3.7.1)\n",
            "Requirement already satisfied: numpy~=1.0 in /usr/local/lib/python3.10/dist-packages (from gradio) (1.25.2)\n",
            "Requirement already satisfied: orjson~=3.0 in /usr/local/lib/python3.10/dist-packages (from gradio) (3.9.15)\n",
            "Requirement already satisfied: packaging in /usr/local/lib/python3.10/dist-packages (from gradio) (24.0)\n",
            "Requirement already satisfied: pandas<3.0,>=1.0 in /usr/local/lib/python3.10/dist-packages (from gradio) (1.5.3)\n",
            "Requirement already satisfied: pillow<11.0,>=8.0 in /usr/local/lib/python3.10/dist-packages (from gradio) (9.4.0)\n",
            "Requirement already satisfied: pydantic>=2.0 in /usr/local/lib/python3.10/dist-packages (from gradio) (2.6.4)\n",
            "Requirement already satisfied: pydub in /usr/local/lib/python3.10/dist-packages (from gradio) (0.25.1)\n",
            "Requirement already satisfied: python-multipart>=0.0.9 in /usr/local/lib/python3.10/dist-packages (from gradio) (0.0.9)\n",
            "Requirement already satisfied: pyyaml<7.0,>=5.0 in /usr/local/lib/python3.10/dist-packages (from gradio) (6.0.1)\n",
            "Requirement already satisfied: ruff>=0.2.2 in /usr/local/lib/python3.10/dist-packages (from gradio) (0.3.3)\n",
            "Requirement already satisfied: semantic-version~=2.0 in /usr/local/lib/python3.10/dist-packages (from gradio) (2.10.0)\n",
            "Requirement already satisfied: tomlkit==0.12.0 in /usr/local/lib/python3.10/dist-packages (from gradio) (0.12.0)\n",
            "Requirement already satisfied: typer[all]<1.0,>=0.9 in /usr/local/lib/python3.10/dist-packages (from gradio) (0.9.0)\n",
            "Requirement already satisfied: uvicorn>=0.14.0 in /usr/local/lib/python3.10/dist-packages (from gradio) (0.28.0)\n",
            "Requirement already satisfied: fsspec in /usr/local/lib/python3.10/dist-packages (from gradio-client==0.12.0->gradio) (2023.6.0)\n",
            "Requirement already satisfied: websockets<12.0,>=10.0 in /usr/local/lib/python3.10/dist-packages (from gradio-client==0.12.0->gradio) (11.0.3)\n",
            "Requirement already satisfied: entrypoints in /usr/local/lib/python3.10/dist-packages (from altair<6.0,>=4.2.0->gradio) (0.4)\n",
            "Requirement already satisfied: jsonschema>=3.0 in /usr/local/lib/python3.10/dist-packages (from altair<6.0,>=4.2.0->gradio) (4.19.2)\n",
            "Requirement already satisfied: toolz in /usr/local/lib/python3.10/dist-packages (from altair<6.0,>=4.2.0->gradio) (0.12.1)\n",
            "Requirement already satisfied: anyio in /usr/local/lib/python3.10/dist-packages (from httpx>=0.24.1->gradio) (3.7.1)\n",
            "Requirement already satisfied: certifi in /usr/local/lib/python3.10/dist-packages (from httpx>=0.24.1->gradio) (2024.2.2)\n",
            "Requirement already satisfied: httpcore==1.* in /usr/local/lib/python3.10/dist-packages (from httpx>=0.24.1->gradio) (1.0.4)\n",
            "Requirement already satisfied: idna in /usr/local/lib/python3.10/dist-packages (from httpx>=0.24.1->gradio) (3.6)\n",
            "Requirement already satisfied: sniffio in /usr/local/lib/python3.10/dist-packages (from httpx>=0.24.1->gradio) (1.3.1)\n",
            "Requirement already satisfied: h11<0.15,>=0.13 in /usr/local/lib/python3.10/dist-packages (from httpcore==1.*->httpx>=0.24.1->gradio) (0.14.0)\n",
            "Requirement already satisfied: filelock in /usr/local/lib/python3.10/dist-packages (from huggingface-hub>=0.19.3->gradio) (3.13.1)\n",
            "Requirement already satisfied: requests in /usr/local/lib/python3.10/dist-packages (from huggingface-hub>=0.19.3->gradio) (2.31.0)\n",
            "Requirement already satisfied: tqdm>=4.42.1 in /usr/local/lib/python3.10/dist-packages (from huggingface-hub>=0.19.3->gradio) (4.66.2)\n",
            "Requirement already satisfied: contourpy>=1.0.1 in /usr/local/lib/python3.10/dist-packages (from matplotlib~=3.0->gradio) (1.2.0)\n",
            "Requirement already satisfied: cycler>=0.10 in /usr/local/lib/python3.10/dist-packages (from matplotlib~=3.0->gradio) (0.12.1)\n",
            "Requirement already satisfied: fonttools>=4.22.0 in /usr/local/lib/python3.10/dist-packages (from matplotlib~=3.0->gradio) (4.49.0)\n",
            "Requirement already satisfied: kiwisolver>=1.0.1 in /usr/local/lib/python3.10/dist-packages (from matplotlib~=3.0->gradio) (1.4.5)\n",
            "Requirement already satisfied: pyparsing>=2.3.1 in /usr/local/lib/python3.10/dist-packages (from matplotlib~=3.0->gradio) (3.1.2)\n",
            "Requirement already satisfied: python-dateutil>=2.7 in /usr/local/lib/python3.10/dist-packages (from matplotlib~=3.0->gradio) (2.8.2)\n",
            "Requirement already satisfied: pytz>=2020.1 in /usr/local/lib/python3.10/dist-packages (from pandas<3.0,>=1.0->gradio) (2023.4)\n",
            "Requirement already satisfied: annotated-types>=0.4.0 in /usr/local/lib/python3.10/dist-packages (from pydantic>=2.0->gradio) (0.6.0)\n",
            "Requirement already satisfied: pydantic-core==2.16.3 in /usr/local/lib/python3.10/dist-packages (from pydantic>=2.0->gradio) (2.16.3)\n",
            "Requirement already satisfied: click<9.0.0,>=7.1.1 in /usr/local/lib/python3.10/dist-packages (from typer[all]<1.0,>=0.9->gradio) (8.1.7)\n",
            "Requirement already satisfied: colorama<0.5.0,>=0.4.3 in /usr/local/lib/python3.10/dist-packages (from typer[all]<1.0,>=0.9->gradio) (0.4.6)\n",
            "Requirement already satisfied: shellingham<2.0.0,>=1.3.0 in /usr/local/lib/python3.10/dist-packages (from typer[all]<1.0,>=0.9->gradio) (1.5.4)\n",
            "Requirement already satisfied: rich<14.0.0,>=10.11.0 in /usr/local/lib/python3.10/dist-packages (from typer[all]<1.0,>=0.9->gradio) (13.7.1)\n",
            "Requirement already satisfied: starlette<0.37.0,>=0.36.3 in /usr/local/lib/python3.10/dist-packages (from fastapi->gradio) (0.36.3)\n",
            "Requirement already satisfied: attrs>=22.2.0 in /usr/local/lib/python3.10/dist-packages (from jsonschema>=3.0->altair<6.0,>=4.2.0->gradio) (23.2.0)\n",
            "Requirement already satisfied: jsonschema-specifications>=2023.03.6 in /usr/local/lib/python3.10/dist-packages (from jsonschema>=3.0->altair<6.0,>=4.2.0->gradio) (2023.12.1)\n",
            "Requirement already satisfied: referencing>=0.28.4 in /usr/local/lib/python3.10/dist-packages (from jsonschema>=3.0->altair<6.0,>=4.2.0->gradio) (0.33.0)\n",
            "Requirement already satisfied: rpds-py>=0.7.1 in /usr/local/lib/python3.10/dist-packages (from jsonschema>=3.0->altair<6.0,>=4.2.0->gradio) (0.18.0)\n",
            "Requirement already satisfied: six>=1.5 in /usr/local/lib/python3.10/dist-packages (from python-dateutil>=2.7->matplotlib~=3.0->gradio) (1.16.0)\n",
            "Requirement already satisfied: markdown-it-py>=2.2.0 in /usr/local/lib/python3.10/dist-packages (from rich<14.0.0,>=10.11.0->typer[all]<1.0,>=0.9->gradio) (3.0.0)\n",
            "Requirement already satisfied: pygments<3.0.0,>=2.13.0 in /usr/local/lib/python3.10/dist-packages (from rich<14.0.0,>=10.11.0->typer[all]<1.0,>=0.9->gradio) (2.16.1)\n",
            "Requirement already satisfied: exceptiongroup in /usr/local/lib/python3.10/dist-packages (from anyio->httpx>=0.24.1->gradio) (1.2.0)\n",
            "Requirement already satisfied: charset-normalizer<4,>=2 in /usr/local/lib/python3.10/dist-packages (from requests->huggingface-hub>=0.19.3->gradio) (3.3.2)\n",
            "Requirement already satisfied: urllib3<3,>=1.21.1 in /usr/local/lib/python3.10/dist-packages (from requests->huggingface-hub>=0.19.3->gradio) (2.0.7)\n",
            "Requirement already satisfied: mdurl~=0.1 in /usr/local/lib/python3.10/dist-packages (from markdown-it-py>=2.2.0->rich<14.0.0,>=10.11.0->typer[all]<1.0,>=0.9->gradio) (0.1.2)\n",
            "Requirement already satisfied: pydantic in /usr/local/lib/python3.10/dist-packages (2.6.4)\n",
            "Requirement already satisfied: annotated-types>=0.4.0 in /usr/local/lib/python3.10/dist-packages (from pydantic) (0.6.0)\n",
            "Requirement already satisfied: pydantic-core==2.16.3 in /usr/local/lib/python3.10/dist-packages (from pydantic) (2.16.3)\n",
            "Requirement already satisfied: typing-extensions>=4.6.1 in /usr/local/lib/python3.10/dist-packages (from pydantic) (4.10.0)\n"
          ]
        }
      ],
      "source": [
        "try:\n",
        "    import google.colab # type: ignore\n",
        "    IN_COLAB = True\n",
        "except:\n",
        "    IN_COLAB = False\n",
        "\n",
        "import os, sys\n",
        "chapter = \"chapter1_transformer_interp\"\n",
        "repo = \"ARENA_3.0\"\n",
        "\n",
        "if IN_COLAB:\n",
        "    # Install packages\n",
        "    %pip install nnsight\n",
        "    %pip install einops\n",
        "    %pip install openai==0.28\n",
        "    %pip install jaxtyping\n",
        "    %pip install plotly\n",
        "    %pip install transformer_lens\n",
        "    %pip install git+https://github.com/callummcdougall/CircuitsVis.git#subdirectory=python\n",
        "    %pip install gradio typing-extensions\n",
        "    %pip install --upgrade pydantic\n",
        "\n",
        "    # Code to download the necessary files (e.g. solutions, test funcs)\n",
        "    if not os.path.exists(f\"/content/{chapter}\"):\n",
        "        !wget https://github.com/callummcdougall/ARENA_3.0/archive/refs/heads/main.zip\n",
        "        !unzip /content/main.zip 'ARENA_3.0-main/chapter1_transformer_interp/exercises/*'\n",
        "        sys.path.append(f\"/content/{repo}-main/{chapter}/exercises\")\n",
        "        os.remove(\"/content/main.zip\")\n",
        "        os.rename(f\"{repo}-main/{chapter}\", chapter)\n",
        "        os.rmdir(f\"{repo}-main\")\n",
        "        os.chdir(f\"{chapter}/exercises\")\n",
        "else:\n",
        "    chapter_dir = r\"./\" if chapter in os.listdir() else os.getcwd().split(chapter)[0]\n",
        "    sys.path.append(chapter_dir + f\"{chapter}/exercises\")"
      ],
      "id": "bC46t3VqNu0S"
    },
    {
      "cell_type": "code",
      "execution_count": null,
      "metadata": {
        "id": "h0hiZDSMm7-m"
      },
      "outputs": [],
      "source": [
        "import time\n",
        "from pathlib import Path\n",
        "from typing import List, Optional, Tuple, Union\n",
        "import circuitsvis as cv\n",
        "import numpy as np\n",
        "import openai\n",
        "import plotly.express as px\n",
        "import torch as t\n",
        "import torch.nn as nn\n",
        "import torch.nn.functional as F\n",
        "from IPython.display import display\n",
        "from jaxtyping import Float, Int\n",
        "from rich import print as rprint\n",
        "from rich.table import Table\n",
        "from torch import Tensor\n",
        "from tqdm import tqdm\n",
        "import einops\n",
        "import os\n",
        "import sys\n",
        "import gdown\n",
        "import zipfile\n",
        "from IPython.display import clear_output\n",
        "from collections import defaultdict\n",
        "\n",
        "import nnsight\n",
        "from nnsight import LanguageModel\n",
        "from nnsight.intervention import InterventionProxy\n",
        "\n",
        "from nnsight import CONFIG\n",
        "CONFIG.set_default_api_key(\"cPew0ubqSd0avWE74oyD\")\n",
        "\n",
        "# Hide bunch of info logging messages from nnsight\n",
        "import logging\n",
        "logging.disable(sys.maxsize)\n",
        "\n",
        "device = t.device(\"cuda\" if t.cuda.is_available() else \"cpu\")\n",
        "\n",
        "t.set_grad_enabled(False);\n",
        "\n",
        "# Make sure exercises are in the path\n",
        "exercises_dir = Path(f\"{os.getcwd().split(chapter)[0]}/{chapter}/exercises\").resolve()\n",
        "section_dir = (exercises_dir / \"part5_function_vectors_and_model_steering\").resolve()\n",
        "if str(exercises_dir) not in sys.path: sys.path.append(str(exercises_dir))\n",
        "\n",
        "from plotly_utils import imshow\n",
        "import part5_function_vectors_and_model_steering.solutions as solutions\n",
        "import part5_function_vectors_and_model_steering.tests as tests"
      ],
      "id": "h0hiZDSMm7-m"
    },
    {
      "cell_type": "markdown",
      "metadata": {
        "id": "fae35f9e"
      },
      "source": [
        "# 1️⃣ Introduction to `nnsight`"
      ],
      "id": "fae35f9e"
    },
    {
      "cell_type": "markdown",
      "metadata": {
        "id": "zTqg0RAxiN-8"
      },
      "source": [
        "In this section, you'll learn the basics of how to use the nnsight library: running forward passes on your model, and saving the internal states. You'll also learn some basics of HuggingFace models which translate over into nnsight models (e.g. tokenization, and how to work with model output).\n",
        "\n",
        "> ##### Learning Objectives\n",
        ">\n",
        "> * Learn the basics of the `nnsight` library, and what it can be useful for\n",
        "> * Use it to extract & visualise GPT-J-6B's internal activations\n",
        "\n",
        "<br>\n",
        "\n",
        "---\n"
      ],
      "id": "zTqg0RAxiN-8"
    },
    {
      "cell_type": "markdown",
      "metadata": {
        "id": "c43466c5"
      },
      "source": [
        "## Important syntax\n",
        "\n",
        "Here, we'll discuss some important syntax for interacting with `nnsight` models. Since these models are extensions of HuggingFace models, some of this information (e.g. tokenization) applies to plain HuggingFace models as well as `nnsight` models, and some of it (e.g. forward passes) is specific to `nnsight`, i.e. it would work differently if you just had a standard HuggingFace model. Make sure to keep this distinction in mind, otherwise syntax can get confusing!\n",
        "\n",
        "### Model config\n",
        "\n",
        "Each model comes with a `model.config`, which contains lots of useful information about the model (e.g. number of heads and layers, size of hidden layers, etc.). You can access this with `model.config`. Run the code below to see this in action, and to define some useful variables for later."
      ],
      "id": "c43466c5"
    },
    {
      "cell_type": "code",
      "execution_count": null,
      "metadata": {
        "id": "ShVWMHFh7Ock",
        "colab": {
          "base_uri": "https://localhost:8080/"
        },
        "outputId": "998f2d7e-3784-499d-9fd0-cae9124e80d9"
      },
      "outputs": [
        {
          "output_type": "stream",
          "name": "stdout",
          "text": [
            "Number of heads: 16\n",
            "Number of layers: 28\n",
            "Model dimension: 4096\n",
            "Head dimension: 256\n",
            "\n",
            "Entire config:  GPTJConfig {\n",
            "  \"_name_or_path\": \"EleutherAI/gpt-j-6b\",\n",
            "  \"activation_function\": \"gelu_new\",\n",
            "  \"architectures\": [\n",
            "    \"GPTJForCausalLM\"\n",
            "  ],\n",
            "  \"attn_pdrop\": 0.0,\n",
            "  \"bos_token_id\": 50256,\n",
            "  \"embd_pdrop\": 0.0,\n",
            "  \"eos_token_id\": 50256,\n",
            "  \"gradient_checkpointing\": false,\n",
            "  \"initializer_range\": 0.02,\n",
            "  \"layer_norm_epsilon\": 1e-05,\n",
            "  \"model_type\": \"gptj\",\n",
            "  \"n_embd\": 4096,\n",
            "  \"n_head\": 16,\n",
            "  \"n_inner\": null,\n",
            "  \"n_layer\": 28,\n",
            "  \"n_positions\": 2048,\n",
            "  \"resid_pdrop\": 0.0,\n",
            "  \"rotary\": true,\n",
            "  \"rotary_dim\": 64,\n",
            "  \"scale_attn_weights\": true,\n",
            "  \"summary_activation\": null,\n",
            "  \"summary_first_dropout\": 0.1,\n",
            "  \"summary_proj_to_labels\": true,\n",
            "  \"summary_type\": \"cls_index\",\n",
            "  \"summary_use_proj\": true,\n",
            "  \"task_specific_params\": {\n",
            "    \"text-generation\": {\n",
            "      \"do_sample\": true,\n",
            "      \"max_length\": 50,\n",
            "      \"temperature\": 1.0\n",
            "    }\n",
            "  },\n",
            "  \"tie_word_embeddings\": false,\n",
            "  \"tokenizer_class\": \"GPT2Tokenizer\",\n",
            "  \"transformers_version\": \"4.38.2\",\n",
            "  \"use_cache\": true,\n",
            "  \"vocab_size\": 50400\n",
            "}\n",
            "\n"
          ]
        }
      ],
      "source": [
        "model = LanguageModel('EleutherAI/gpt-j-6b')\n",
        "tokenizer = model.tokenizer\n",
        "\n",
        "N_HEADS = model.config.n_head\n",
        "N_LAYERS = model.config.n_layer\n",
        "D_MODEL = model.config.n_embd\n",
        "D_HEAD = D_MODEL // N_HEADS\n",
        "\n",
        "print(f\"Number of heads: {N_HEADS}\")\n",
        "print(f\"Number of layers: {N_LAYERS}\")\n",
        "print(f\"Model dimension: {D_MODEL}\")\n",
        "print(f\"Head dimension: {D_HEAD}\\n\")\n",
        "\n",
        "print(\"Entire config: \", model.config)"
      ],
      "id": "ShVWMHFh7Ock"
    },
    {
      "cell_type": "markdown",
      "metadata": {
        "id": "7d6e143e"
      },
      "source": [
        "### Tokenizers\n",
        "\n",
        "A model comes with a tokenizer, accessable with `model.tokenizer` (just like TransformerLens). Unlike TransformerLens, we won't be using utility functions like `model.to_str_tokens`, instead we'll be using the tokenizer directly. Some important functions for today's exercises are:\n",
        "\n",
        "* `tokenizer` (i.e. just calling it on some input)\n",
        "    * This takes in a string (or list of strings) and returns the tokenized version.\n",
        "    * It will return a dictionary, always containing `input_ids` (i.e. the actual tokens) but also other things which are specific to the transformer model (e.g. `attention_mask` - see dropdown).\n",
        "    * Other useful arguments for this function:\n",
        "        * `return_tensors` - if this is `\"pt\"`, you'll get results returned as PyTorch tensors, rather than lists (which is the default).\n",
        "        * `padding` - if True (default is False), the tokenizer can accept sequences of variable length. The shorter sequences get padded at the beginning (see dropdown below for more).\n",
        "* `tokenizer.decode`\n",
        "    * This takes in tokens, and returns the decoded string.\n",
        "    * If the input is an integer, it returns the corresponding string. If the input is a list / 1D array of integers, it returns all those strings concatenated (which can sometimes not be what you want).\n",
        "* `tokenizer.batch_decode`\n",
        "    * Equivalent to `tokenizer.decode`, but it doesn't concatenate.\n",
        "    * If the input is a list / 1D integer array, it returns a list of strings. If the input is 2D, it will concatenate within each list.\n",
        "* `tokenizer.tokenize`\n",
        "    * Takes in a string, and returns a list of strings.\n",
        "\n",
        "Run the code below to see some examples of these functions in action."
      ],
      "id": "7d6e143e"
    },
    {
      "cell_type": "code",
      "execution_count": null,
      "metadata": {
        "id": "RwJmEfYJ7Qq9",
        "colab": {
          "base_uri": "https://localhost:8080/"
        },
        "outputId": "92d65872-9027-4a6a-aa80-cce23545b321"
      },
      "outputs": [
        {
          "output_type": "stream",
          "name": "stdout",
          "text": [
            "{'input_ids': tensor([[1212, 1276,  307, 3635]]), 'attention_mask': tensor([[1, 1, 1, 1]])}\n",
            "I never could get the hang of Thursdays.\n",
            "['These', ' words', ' will', ' be', ' split', ' up']\n",
            "['This sentence will be together', 'So will this one']\n",
            "['This', 'Ġsentence', 'Ġwill', 'Ġbe', 'Ġtoken', 'ized']\n"
          ]
        }
      ],
      "source": [
        "# Calling tokenizer returns a dictionary, containing input ids & other data.\n",
        "# If returned as a tensor, then by default it will have a batch dimension.\n",
        "print(tokenizer(\"This must be Thursday\", return_tensors=\"pt\"))\n",
        "\n",
        "# Decoding a list of integers, into a concatenated string.\n",
        "print(tokenizer.decode([40, 1239, 714, 651, 262, 8181, 286, 48971, 12545, 13]))\n",
        "\n",
        "# Using batch decode, on both 1D and 2D input.\n",
        "print(tokenizer.batch_decode([4711, 2456, 481, 307, 6626, 510]))\n",
        "print(tokenizer.batch_decode([[1212, 6827, 481, 307, 1978], [2396, 481, 428, 530]]))\n",
        "\n",
        "# Split sentence into tokens (note we see the special Ġ character in place of prepended spaces).\n",
        "print(tokenizer.tokenize(\"This sentence will be tokenized\"))"
      ],
      "id": "RwJmEfYJ7Qq9"
    },
    {
      "cell_type": "markdown",
      "metadata": {
        "id": "1c800352"
      },
      "source": [
        "<details>\n",
        "<summary>Note on <code>attention_mask</code> (optional)</summary>\n",
        "\n",
        "`attention_mask`, which is a series of 1s and 0s. We mask attention at all 0-positions (i.e. we don't allow these tokens to be attended to). This is useful when you have to do padding. For example:\n",
        "\n",
        "```python\n",
        "model.tokenizer([\"Hello world\", \"Hello\"], return_tensors=\"pt\", padding=True)\n",
        "```\n",
        "\n",
        "will return:\n",
        "\n",
        "```\n",
        "{\n",
        "    'attention_mask': tensor([[1, 1], [0, 1]]),\n",
        "    'input_ids': tensor([[15496,   995], [50256, 15496]])\n",
        "}\n",
        "```\n",
        "\n",
        "We can see how the shorter sequence has been padded at the beginning, and attention to this token will be masked.\n",
        "\n",
        "</details>\n",
        "\n",
        "### Model outputs\n",
        "\n",
        "At a high level, there are 2 ways to run our model: using the `forward` method and the `generate` method. We'll focus on `forward` for now, and we'll discuss `generate` when it comes to multi-token generation later.\n",
        "\n",
        "The default behaviour of `forward` in normal HuggingFace models is to return an object containing logits (and optionally a bunch of other things). In `nnsight` we use `trace` instead of `forward` and anything that we choose to return is explicitly returned inside the context manager.\n",
        "\n",
        "Below is the simplest example of code to run the model (and also access the internal states of the model). Run it and look at the output, then read the explanation below."
      ],
      "id": "1c800352"
    },
    {
      "cell_type": "code",
      "execution_count": null,
      "metadata": {
        "id": "389156b2",
        "colab": {
          "base_uri": "https://localhost:8080/"
        },
        "outputId": "325063ce-e9ad-4b49-f985-02514facffc8"
      },
      "outputs": [
        {
          "output_type": "stream",
          "name": "stdout",
          "text": [
            "65f5e1eeb96392ec7b7abe38 - RECEIVED: Your job has been received and is waiting approval.\n",
            "65f5e1eeb96392ec7b7abe38 - APPROVED: Your job was approved and is waiting to be run.\n",
            "65f5e1eeb96392ec7b7abe38 - COMPLETED: Your job has been completed.\n"
          ]
        },
        {
          "output_type": "stream",
          "name": "stderr",
          "text": [
            "Downloading result: 100%|██████████| 4.20M/4.20M [00:00<00:00, 12.7MB/s]"
          ]
        },
        {
          "output_type": "stream",
          "name": "stdout",
          "text": [
            "\n",
            "logits.shape = torch.Size([2, 10, 50400]) = (vocab_size,)\n",
            "Predicted token ID = 101217\n",
            "Predicted token = ''\n",
            "\n",
            "resid.shape = torch.Size([1, 10, 4096]) = (batch_size, seq_len, d_model)\n"
          ]
        },
        {
          "output_type": "stream",
          "name": "stderr",
          "text": [
            "\n"
          ]
        }
      ],
      "source": [
        "REMOTE = True\n",
        "\n",
        "prompt = 'The Eiffel Tower is in the city of'\n",
        "\n",
        "with model.trace(remote=REMOTE) as runner:\n",
        "    with runner.invoke(prompt) as invoker:\n",
        "\n",
        "        # Save the model's hidden states\n",
        "        hidden_states = model.transformer.h[-1].output[0].save()\n",
        "\n",
        "        # Save the model's logit output\n",
        "        logits = model.lm_head.output[0, -1].save()\n",
        "\n",
        "# Get the model's logit output, and it's next token prediction\n",
        "print(f\"\\nlogits.shape = {logits.value.shape} = (vocab_size,)\")\n",
        "\n",
        "predicted_token_id = logits.value.argmax().item()\n",
        "print(f\"Predicted token ID = {predicted_token_id}\")\n",
        "print(f\"Predicted token = {tokenizer.decode(predicted_token_id)!r}\")\n",
        "\n",
        "# Print the shape of the model's residual stream\n",
        "print(f\"\\nresid.shape = {hidden_states.value.shape} = (batch_size, seq_len, d_model)\")"
      ],
      "id": "389156b2"
    },
    {
      "cell_type": "markdown",
      "metadata": {
        "id": "28a06fca-66e8-4c42-abe1-0e3c09d65c27"
      },
      "source": [
        "Lets go over this piece by piece.\n",
        "\n",
        "**First, we create a context block** by calling `.trace(...)` on the model object. This denotes that we wish to generate tokens given some prompts.\n",
        "\n",
        "```python\n",
        "with model.trace(remote=REMOTE) as runner:\n",
        "```\n",
        "\n",
        "By default, running this will cause your model to be loaded & run locally, but by passing `remote=True`, it causes the model to be run on the server instead. This is very useful when working with models too large to fit on your machine (or even models which can fit on your machine, but run slowly due to their size).\n",
        "\n",
        "Calling `.trace(...)` does not actually initialize or run the model. Only after the `with ... as runner:` block is exited is the model actually loaded and run. All operations in the block are \"proxies\" which essentially creates a graph of operations we wish to carry out later.\n",
        "\n",
        "**Within the runner context,** we create invocation contexts to specify the actual prompts we want to run.\n",
        "\n",
        "```python\n",
        "with runner.invoke(prompt) as invoker:\n",
        "```\n",
        "\n",
        "**Within an invoke context**, all operations/interventions will be applied to the processing of the prompt. Models can be run on a variety of input formats: strings, lists of tokens, tensors of tokens, etc.\n",
        "\n",
        "This is all we actually need to run a forward pass on the model. We could replace the `hidden_states` line with just `pass`, and we'd still be able to access the model output in the same way. But the most interesting part of `nnsight` is the ability to access the model's internal states (like you might already have done with TransformerLens). Let's see how this works!\n",
        "\n",
        "```python\n",
        "hidden_states = model.transformer.h[-1].output[0].save()\n",
        "```\n",
        "\n",
        "On this line we're saying: access the last layer of the transformer `model.transformer.h[-1]`, access this layer's output `.output` (which is a tuple of tensors), index the first tensor in this tuple `.output[0]`, and save it `.save()`.\n",
        "\n",
        "Let's break down this line in a bit more detail:\n",
        "\n",
        "* `model.transformer.h[-1]` is a way of indexing an appropriate module in the transformer. If you `print(model)`, you'll see that it consists of `transformer` and `lm_head` (for \"language modelling head\"). The `transformer` module is made up of embeddings & dropout, a series of layers (called `.h`, for \"hidden states\"), and a final layernorm. So indexing `.h[-1]` gives you the final layer.\n",
        "    * Note - it's often useful to visit the documentation page for whatever model you're working on, e.g. you can find GPT-J [here](https://huggingface.co/transformers/v4.11.3/_modules/transformers/models/gptj/modeling_gptj.html). Not all models will have a nice uniform standardized architecture like you might be used to in TransformerLens!\n",
        "* `.output[0]` gives you this module's output, as a **proxy**.\n",
        "    * The output of a module is often a tuple (again, you can see on the [documentation page](https://huggingface.co/transformers/v4.11.3/_modules/transformers/models/gptj/modeling_gptj.html) what the output of each module is). In this case, it's a tuple of 2 tensors, the first of which is the actual layer output (the thing we want).\n",
        "    * When debugging, you can call `.shape` on a proxy. This will even work if the proxy represents a tuple of tensors; you'll get a tuple of all the sizes of these tensors.\n",
        "    * Doing operations on a proxy still returns a proxy - this is why we can index into the `output` proxy tuple and get a proxy tensor!\n",
        "    * You can also use `.input` to access the inputs to a module - this works in the same way (often also stored as a tuple).\n",
        "* `.save()` takes this proxy output, and returns the actual object.\n",
        "    * To be more specific, this informs the computation graph to clone the value of a proxy, allowing us to access the value of a proxy after the forward pass.\n",
        "    * During processing of the intervention computational graph we are building, when the value of a proxy is no longer ever needed, its value is dereferenced and destroyed. If you've saved it, then you'll be able to access the value of the proxy after this happens (i.e. outside the context manager), using the `.value` attribute.\n",
        "\n",
        "<details>\n",
        "<summary>Optional exercise - we mentioned that <code>.output</code> returns a tuple of 2 tensors. Can you find what the second tensor in this tuple is?</summary>\n",
        "\n",
        "The second output is also a tuple of tensors, of length 2. In the GPT-J source code, they are called `present`. They represent the keys and values which were calculated in this forward pass (as opposed to those that were calculated in an earlier forward pass, and cached by the model). Since we're only generating one new token, these are just the full keys and values.\n",
        "\n",
        "</details>\n",
        "\n",
        "The next command:\n",
        "\n",
        "```python\n",
        "logits = model.lm_head.output[0, -1].save()\n",
        "```\n",
        "\n",
        "works in a very similar way. If you look at the [documentation page](https://huggingface.co/transformers/v4.11.3/_modules/transformers/models/gptj/modeling_gptj.html), you'll see that `lm_head` is the linear layer mapping the final value of the residual stream to the final logits. The output is just a single tensor, not a tuple of tensors. Our indexing returns the vector of logits for the token after the last one on the sequence.\n",
        "\n",
        "If you've worked with Hugging Face models then you might be used to getting logits directly from the model output, but here we generally extract logits from the model internals just like any other activation because this allows us to **control exactly what we return.** If we return lots of very large tensors, this can take quite a while to download from the server (remember that `d_vocab` is often very large for transformers, i.e. around 50k). See the \"which objects to save\" section below for more discussion on this.\n",
        "\n",
        "### Output vs input\n",
        "\n",
        "You can also extract a module's input using `.input`, although the syntax is slightly different. Whereas `.output` gives you the same object as returned by the module's forward function, `.input` gives you a tuple of (tuple of args, dictionary of kwargs), with args and kwargs being the input arguments to the forward function. This usually means you'll need to use `.input[0][0]` to get a tensor input to a particular module. If you're not sure exactly what the `.input` object type will be, then you can debug by printing its shape (remember printing shape works for tuples containing `InterventionProxy` objects, it's not just something which works on objects corresponding to acual tensors!).\n",
        "\n",
        "### Which objects to save\n",
        "\n",
        "Note that we saved `logits` above, which is a vector of length 50k. In general, it's best to save as small an object as possible, because this reduces the size of object you'll have to download from the server. For example, if you only want the next token completions, just argmax the logits and then save the result! All basic tensor operations can be performed within your context manager."
      ],
      "id": "28a06fca-66e8-4c42-abe1-0e3c09d65c27"
    },
    {
      "cell_type": "markdown",
      "metadata": {
        "id": "886c7964"
      },
      "source": [
        "# 2️⃣ Task-encoding hidden states"
      ],
      "id": "886c7964"
    },
    {
      "cell_type": "markdown",
      "metadata": {
        "id": "4UNdoTCCiU-z"
      },
      "source": [
        "We'll begin with the following question, posed by the Function Vectors paper:\n",
        "\n",
        "> *When a transformer processes an ICL (in-context-learning) prompt with exemplars demonstrating task $T$, do any hidden states encode the task itself?*\n",
        "\n",
        "We'll prove that the answer is yes, by constructing a vector $h$ from a set of ICL prompts for the **antonym task**, and intervening with our vector to make our model produce antonyms on zero-shot prompts.\n",
        "\n",
        "This will require you to learn how to perform causal interventions with `nnsight`, not just save activations.\n",
        "\n",
        "(Note - this section structurally follows section 2.1 of the function vectors paper).\n",
        "\n",
        "\n",
        "> ##### Learning Objectives\n",
        ">\n",
        "> * Understand how `nnsight` can be used to perform causal interventions, and perform some yourself\n",
        "> * Reproduce the \"h-vector results\" from the function vectors paper; that the residual stream does contain a vector which encodes the task and can induce task behaviour on zero-shot prompts\n",
        "\n",
        "<br>\n",
        "\n",
        "---"
      ],
      "id": "4UNdoTCCiU-z"
    },
    {
      "cell_type": "markdown",
      "metadata": {
        "id": "7NLsqpK5rz9C"
      },
      "source": [
        "## ICL Task"
      ],
      "id": "7NLsqpK5rz9C"
    },
    {
      "cell_type": "markdown",
      "metadata": {
        "id": "b39766f8"
      },
      "source": [
        "Note - it's possible that not all the antonyms returned will be solvable by GPT-J. In this section, we won't worry too much about this. When it comes to testing out our zero-shot intervention, we'll make sure to only use cases where GPT-J can actually solve it."
      ],
      "id": "b39766f8"
    },
    {
      "cell_type": "code",
      "execution_count": null,
      "metadata": {
        "id": "83fcb573"
      },
      "outputs": [],
      "source": [
        "# Load the word pairs from the text file\n",
        "with open(section_dir / \"data\" / \"antonym_pairs.txt\", \"r\") as f:\n",
        "    ANTONYM_PAIRS = [line.split() for line in f.readlines()]"
      ],
      "id": "83fcb573"
    },
    {
      "cell_type": "code",
      "execution_count": null,
      "metadata": {
        "colab": {
          "base_uri": "https://localhost:8080/"
        },
        "id": "2ab53287",
        "outputId": "2a38f5fb-6da7-4d08-8257-0050e2b0349e"
      },
      "outputs": [
        {
          "output_type": "execute_result",
          "data": {
            "text/plain": [
              "[['old', 'young'],\n",
              " ['top', 'bottom'],\n",
              " ['awake', 'asleep'],\n",
              " ['future', 'past'],\n",
              " ['appear', 'disappear'],\n",
              " ['early', 'late'],\n",
              " ['empty', 'full'],\n",
              " ['innocent', 'guilty'],\n",
              " ['ancient', 'modern'],\n",
              " ['arrive', 'depart']]"
            ]
          },
          "metadata": {},
          "execution_count": 10
        }
      ],
      "source": [
        "ANTONYM_PAIRS[:10]"
      ],
      "id": "2ab53287"
    },
    {
      "cell_type": "markdown",
      "metadata": {
        "id": "fecc199e"
      },
      "source": [
        "## ICL Dataset"
      ],
      "id": "fecc199e"
    },
    {
      "cell_type": "markdown",
      "metadata": {
        "id": "ee713227"
      },
      "source": [
        "To handle this list of word pairs, we've given you some helpful classes.\n",
        "\n",
        "Firstly, there's the `ICLSequence` class, which takes in a list of word pairs and contains methods for constructing a prompt (and completion) from these words. Run the code below to see how it works."
      ],
      "id": "ee713227"
    },
    {
      "cell_type": "code",
      "execution_count": null,
      "metadata": {
        "colab": {
          "base_uri": "https://localhost:8080/"
        },
        "id": "f477b99a",
        "outputId": "e675d3e0-810e-45e2-e752-98f69d78d893"
      },
      "outputs": [
        {
          "output_type": "stream",
          "name": "stdout",
          "text": [
            "Tuple-representation of the sequence:\n",
            "(hot, cold), (yes, no), (in, out), up ->\n",
            "\n",
            "Actual prompt, which will be fed into the model:\n",
            "Q: hot\n",
            "A: cold\n",
            "\n",
            "Q: yes\n",
            "A: no\n",
            "\n",
            "Q: in\n",
            "A: out\n",
            "\n",
            "Q: up\n",
            "A:\n"
          ]
        }
      ],
      "source": [
        "class ICLSequence:\n",
        "    '''\n",
        "    Class to store a single antonym sequence.\n",
        "\n",
        "    Uses the default template \"Q: {x}\\nA: {y}\" (with separate pairs split by \"\\n\\n\").\n",
        "    '''\n",
        "    def __init__(self, word_pairs: List[List[str]]):\n",
        "        self.word_pairs = word_pairs\n",
        "        self.x, self.y = zip(*word_pairs)\n",
        "\n",
        "    def __len__(self):\n",
        "        return len(self.word_pairs)\n",
        "\n",
        "    def __getitem__(self, idx: int):\n",
        "        return self.word_pairs[idx]\n",
        "\n",
        "    def prompt(self):\n",
        "        '''Returns the prompt, which contains all but the second element in the last word pair.'''\n",
        "        p = \"\\n\\n\".join([f\"Q: {x}\\nA: {y}\" for x, y in self.word_pairs])\n",
        "        return p[:-len(self.completion())]\n",
        "\n",
        "    def completion(self):\n",
        "        '''Returns the second element in the last word pair (with padded space).'''\n",
        "        return \" \" + self.y[-1]\n",
        "\n",
        "    def __str__(self):\n",
        "        '''Prints a readable string representation of the prompt & completion (indep of template).'''\n",
        "        return f\"{', '.join([f'({x}, {y})' for x, y in self[:-1]])}, {self.x[-1]} ->\".strip(\", \")\n",
        "\n",
        "\n",
        "word_list = [[\"hot\", \"cold\"], [\"yes\", \"no\"], [\"in\", \"out\"], [\"up\", \"down\"]]\n",
        "seq = ICLSequence(word_list)\n",
        "\n",
        "print(\"Tuple-representation of the sequence:\")\n",
        "print(seq)\n",
        "print(\"\\nActual prompt, which will be fed into the model:\")\n",
        "print(seq.prompt())"
      ],
      "id": "f477b99a"
    },
    {
      "cell_type": "markdown",
      "metadata": {
        "id": "702cb3db"
      },
      "source": [
        "Secondly, we have the `ICLDataset` class. This is also fed a word pair list, and it has methods for generating batches of prompts and completions. It can generate both clean prompts (where each pair is actually an antonym pair) and corrupted prompts (where the answers for each pair are randomly chosen from the dataset)."
      ],
      "id": "702cb3db"
    },
    {
      "cell_type": "code",
      "execution_count": null,
      "metadata": {
        "id": "b0b4eea8"
      },
      "outputs": [],
      "source": [
        "class ICLDataset:\n",
        "    '''\n",
        "    Dataset to create antonym pair prompts, in ICL task format. We use random seeds for consistency\n",
        "    between the corrupted and clean datasets.\n",
        "\n",
        "    Inputs:\n",
        "        word_pairs:\n",
        "            list of ICL task, e.g. [[\"old\", \"young\"], [\"top\", \"bottom\"], ...] for the antonym task\n",
        "        size:\n",
        "            number of prompts to generate\n",
        "        n_prepended:\n",
        "            number of antonym pairs before the single-word ICL task\n",
        "        bidirectional:\n",
        "            if True, then we also consider the reversed antonym pairs\n",
        "        corrupted:\n",
        "            if True, then the second word in each pair is replaced with a random word\n",
        "        seed:\n",
        "            random seed, for consistency & reproducibility\n",
        "    '''\n",
        "\n",
        "    def __init__(\n",
        "        self,\n",
        "        word_pairs: List[List[str]],\n",
        "        size: int,\n",
        "        n_prepended: int,\n",
        "        bidirectional: bool = True,\n",
        "        seed: int = 0,\n",
        "        corrupted: bool = False,\n",
        "    ):\n",
        "        assert n_prepended+1 <= len(word_pairs), \"Not enough antonym pairs in dataset to create prompt.\"\n",
        "\n",
        "        self.word_pairs = word_pairs\n",
        "        self.word_list = [word for word_pair in word_pairs for word in word_pair]\n",
        "        self.size = size\n",
        "        self.n_prepended = n_prepended\n",
        "        self.bidirectional = bidirectional\n",
        "        self.corrupted = corrupted\n",
        "        self.seed = seed\n",
        "\n",
        "        self.seqs = []\n",
        "        self.prompts = []\n",
        "        self.completions = []\n",
        "\n",
        "        # Generate the dataset (by choosing random word pairs, and constructing `ICLSequence` objects)\n",
        "        for n in range(size):\n",
        "            np.random.seed(seed + n)\n",
        "            random_pairs = np.random.choice(len(self.word_pairs), n_prepended+1, replace=False)\n",
        "            # Randomize the order of each word pair (x, y). If not bidirectional, we always have x -> y not y -> x\n",
        "            random_orders = np.random.choice([1, -1], n_prepended+1)\n",
        "            if not(bidirectional): random_orders[:] = 1\n",
        "            word_pairs = [self.word_pairs[pair][::order] for pair, order in zip(random_pairs, random_orders)]\n",
        "            # If corrupted, then replace y with a random word in all (x, y) pairs except the last one\n",
        "            if corrupted:\n",
        "                for i in range(len(word_pairs) - 1):\n",
        "                    word_pairs[i][1] = np.random.choice(self.word_list)\n",
        "            seq = ICLSequence(word_pairs)\n",
        "\n",
        "            self.seqs.append(seq)\n",
        "            self.prompts.append(seq.prompt())\n",
        "            self.completions.append(seq.completion())\n",
        "\n",
        "    def create_corrupted_dataset(self):\n",
        "        '''Creates a corrupted version of the dataset (with same random seed).'''\n",
        "        return ICLDataset(self.word_pairs, self.size, self.n_prepended, self.bidirectional, corrupted=True, seed=self.seed)\n",
        "\n",
        "    def __len__(self):\n",
        "        return self.size\n",
        "\n",
        "    def __getitem__(self, idx: int):\n",
        "        return self.seqs[idx]"
      ],
      "id": "b0b4eea8"
    },
    {
      "cell_type": "markdown",
      "metadata": {
        "id": "bdcd4b89"
      },
      "source": [
        "You can see how this dataset works below. **Note that the correct completions have a prepended space**, because this is how the antonym prompts are structured - the answers are tokenized as `\"A: answer\" -> [\"A\", \":\", \" answer\"]`. Forgetting prepended spaces is a classic mistake when working with transformers!"
      ],
      "id": "bdcd4b89"
    },
    {
      "cell_type": "code",
      "execution_count": null,
      "metadata": {
        "colab": {
          "base_uri": "https://localhost:8080/"
        },
        "id": "cda6ba22",
        "outputId": "fae1bc1c-09db-4796-c9f3-2c24f19b5929"
      },
      "outputs": [
        {
          "output_type": "display_data",
          "data": {
            "text/plain": [
              "┏━━━━━━━━━━━━━━━━━━━━━━━━━━━━━━━━━━━━━━━━━━━━━━━━━━━━━━┳━━━━━━━━━━━━━━━━━━━━┓\n",
              "┃\u001b[1m \u001b[0m\u001b[1mPrompt                                              \u001b[0m\u001b[1m \u001b[0m┃\u001b[1m \u001b[0m\u001b[1mCorrect completion\u001b[0m\u001b[1m \u001b[0m┃\n",
              "┡━━━━━━━━━━━━━━━━━━━━━━━━━━━━━━━━━━━━━━━━━━━━━━━━━━━━━━╇━━━━━━━━━━━━━━━━━━━━┩\n",
              "│ (right, left), (maximum, minimum), melt ->           │ ' freeze'          │\n",
              "│ (minimum, maximum), (old, new), punishment ->        │ ' reward'          │\n",
              "│ (arrogant, humble), (blunt, sharp), compulsory ->    │ ' voluntary'       │\n",
              "│ (inside, outside), (freeze, melt), full ->           │ ' empty'           │\n",
              "│ (reject, accept), (awake, asleep), dusk ->           │ ' dawn'            │\n",
              "│ (invisible, visible), (punishment, reward), heavy -> │ ' light'           │\n",
              "│ (victory, defeat), (forward, backward), young ->     │ ' old'             │\n",
              "│ (up, down), (compulsory, voluntary), right ->        │ ' wrong'           │\n",
              "│ (open, closed), (domestic, foreign), brave ->        │ ' cowardly'        │\n",
              "│ (under, over), (past, future), increase ->           │ ' decrease'        │\n",
              "└──────────────────────────────────────────────────────┴────────────────────┘\n"
            ],
            "text/html": [
              "<pre style=\"white-space:pre;overflow-x:auto;line-height:normal;font-family:Menlo,'DejaVu Sans Mono',consolas,'Courier New',monospace\">┏━━━━━━━━━━━━━━━━━━━━━━━━━━━━━━━━━━━━━━━━━━━━━━━━━━━━━━┳━━━━━━━━━━━━━━━━━━━━┓\n",
              "┃<span style=\"font-weight: bold\"> Prompt                                               </span>┃<span style=\"font-weight: bold\"> Correct completion </span>┃\n",
              "┡━━━━━━━━━━━━━━━━━━━━━━━━━━━━━━━━━━━━━━━━━━━━━━━━━━━━━━╇━━━━━━━━━━━━━━━━━━━━┩\n",
              "│ (right, left), (maximum, minimum), melt -&gt;           │ ' freeze'          │\n",
              "│ (minimum, maximum), (old, new), punishment -&gt;        │ ' reward'          │\n",
              "│ (arrogant, humble), (blunt, sharp), compulsory -&gt;    │ ' voluntary'       │\n",
              "│ (inside, outside), (freeze, melt), full -&gt;           │ ' empty'           │\n",
              "│ (reject, accept), (awake, asleep), dusk -&gt;           │ ' dawn'            │\n",
              "│ (invisible, visible), (punishment, reward), heavy -&gt; │ ' light'           │\n",
              "│ (victory, defeat), (forward, backward), young -&gt;     │ ' old'             │\n",
              "│ (up, down), (compulsory, voluntary), right -&gt;        │ ' wrong'           │\n",
              "│ (open, closed), (domestic, foreign), brave -&gt;        │ ' cowardly'        │\n",
              "│ (under, over), (past, future), increase -&gt;           │ ' decrease'        │\n",
              "└──────────────────────────────────────────────────────┴────────────────────┘\n",
              "</pre>\n"
            ]
          },
          "metadata": {}
        }
      ],
      "source": [
        "dataset = ICLDataset(ANTONYM_PAIRS, size=10, n_prepended=2, corrupted=False)\n",
        "\n",
        "table = Table(\"Prompt\", \"Correct completion\")\n",
        "for seq, completion in zip(dataset.seqs, dataset.completions):\n",
        "    table.add_row(str(seq), repr(completion))\n",
        "\n",
        "rprint(table)"
      ],
      "id": "cda6ba22"
    },
    {
      "cell_type": "markdown",
      "metadata": {
        "id": "8083654d"
      },
      "source": [
        "Compare this output to what it looks like when `corrupted=True`. Each of the pairs before the last one has their second element replaced with a random one (but the last pair is unchanged)."
      ],
      "id": "8083654d"
    },
    {
      "cell_type": "code",
      "execution_count": null,
      "metadata": {
        "colab": {
          "base_uri": "https://localhost:8080/"
        },
        "id": "12ba4c23",
        "outputId": "6eb58615-6b5d-4a0b-85c2-e6f0c180a5a5"
      },
      "outputs": [
        {
          "output_type": "display_data",
          "data": {
            "text/plain": [
              "┏━━━━━━━━━━━━━━━━━━━━━━━━━━━━━━━━━━━━━━━━━━━━━━━━━━━┳━━━━━━━━━━━━━━━━━━━━┓\n",
              "┃\u001b[1m \u001b[0m\u001b[1mPrompt                                           \u001b[0m\u001b[1m \u001b[0m┃\u001b[1m \u001b[0m\u001b[1mCorrect completion\u001b[0m\u001b[1m \u001b[0m┃\n",
              "┡━━━━━━━━━━━━━━━━━━━━━━━━━━━━━━━━━━━━━━━━━━━━━━━━━━━╇━━━━━━━━━━━━━━━━━━━━┩\n",
              "│ (right, private), (maximum, destroy), melt ->     │ ' freeze'          │\n",
              "│ (minimum, increase), (old, sharp), punishment ->  │ ' reward'          │\n",
              "│ (arrogant, humble), (blunt, deep), compulsory ->  │ ' voluntary'       │\n",
              "│ (inside, voluntary), (freeze, exterior), full ->  │ ' empty'           │\n",
              "│ (reject, profit), (awake, start), dusk ->         │ ' dawn'            │\n",
              "│ (invisible, birth), (punishment, spend), heavy -> │ ' light'           │\n",
              "│ (victory, rich), (forward, honest), young ->      │ ' old'             │\n",
              "│ (up, lie), (compulsory, short), right ->          │ ' wrong'           │\n",
              "│ (open, soft), (domestic, anxious), brave ->       │ ' cowardly'        │\n",
              "│ (under, melt), (past, young), increase ->         │ ' decrease'        │\n",
              "└───────────────────────────────────────────────────┴────────────────────┘\n"
            ],
            "text/html": [
              "<pre style=\"white-space:pre;overflow-x:auto;line-height:normal;font-family:Menlo,'DejaVu Sans Mono',consolas,'Courier New',monospace\">┏━━━━━━━━━━━━━━━━━━━━━━━━━━━━━━━━━━━━━━━━━━━━━━━━━━━┳━━━━━━━━━━━━━━━━━━━━┓\n",
              "┃<span style=\"font-weight: bold\"> Prompt                                            </span>┃<span style=\"font-weight: bold\"> Correct completion </span>┃\n",
              "┡━━━━━━━━━━━━━━━━━━━━━━━━━━━━━━━━━━━━━━━━━━━━━━━━━━━╇━━━━━━━━━━━━━━━━━━━━┩\n",
              "│ (right, private), (maximum, destroy), melt -&gt;     │ ' freeze'          │\n",
              "│ (minimum, increase), (old, sharp), punishment -&gt;  │ ' reward'          │\n",
              "│ (arrogant, humble), (blunt, deep), compulsory -&gt;  │ ' voluntary'       │\n",
              "│ (inside, voluntary), (freeze, exterior), full -&gt;  │ ' empty'           │\n",
              "│ (reject, profit), (awake, start), dusk -&gt;         │ ' dawn'            │\n",
              "│ (invisible, birth), (punishment, spend), heavy -&gt; │ ' light'           │\n",
              "│ (victory, rich), (forward, honest), young -&gt;      │ ' old'             │\n",
              "│ (up, lie), (compulsory, short), right -&gt;          │ ' wrong'           │\n",
              "│ (open, soft), (domestic, anxious), brave -&gt;       │ ' cowardly'        │\n",
              "│ (under, melt), (past, young), increase -&gt;         │ ' decrease'        │\n",
              "└───────────────────────────────────────────────────┴────────────────────┘\n",
              "</pre>\n"
            ]
          },
          "metadata": {}
        }
      ],
      "source": [
        "dataset = ICLDataset(ANTONYM_PAIRS, size=10, n_prepended=2, corrupted=True)\n",
        "\n",
        "table = Table(\"Prompt\", \"Correct completion\")\n",
        "for seq, completions in zip(dataset.seqs, dataset.completions):\n",
        "    table.add_row(str(seq), repr(completions))\n",
        "\n",
        "rprint(table)"
      ],
      "id": "12ba4c23"
    },
    {
      "cell_type": "markdown",
      "metadata": {
        "id": "74a8d9e3"
      },
      "source": [
        "<details>\n",
        "<summary>Aside - the <code>rich</code> library</summary>\n",
        "\n",
        "The `rich` library is a helpful little library to display outputs more clearly in a Python notebook or terminal. It's not necessary for this workshop, but it's a nice little tool to have in your toolbox.\n",
        "\n",
        "The most important function is `rich.print` (usually imported as `rprint`). This can print basic strings, but it also supports the following syntax for printing colors:\n",
        "\n",
        "```python\n",
        "rprint(\"[green]This is green text[/], this is default color\")\n",
        "```\n",
        "\n",
        "<img src=\"https://raw.githubusercontent.com/callummcdougall/computational-thread-art/master/example_images/misc/rprint-1.png\" width=\"350\">\n",
        "\n",
        "and for making text bold / underlined:\n",
        "\n",
        "```python\n",
        "rprint(\"[u dark_orange]This is underlined[/], and [b cyan]this is bold[/].\")\n",
        "```\n",
        "\n",
        "<img src=\"https://raw.githubusercontent.com/callummcdougall/computational-thread-art/master/example_images/misc/rprint-2.png\" width=\"350\">\n",
        "\n",
        "It can also print tables:\n",
        "\n",
        "```python\n",
        "from rich.table import Table\n",
        "\n",
        "table = Table(\"Col1\", \"Col2\", title=\"Title\") # title is optional\n",
        "table.add_row(\"A\", \"a\")\n",
        "table.add_row(\"B\", \"b\")\n",
        "\n",
        "rprint(table)\n",
        "```\n",
        "\n",
        "<img src=\"https://raw.githubusercontent.com/callummcdougall/computational-thread-art/master/example_images/misc/rprint-3.png\" width=\"150\">\n",
        "\n",
        "The text formatting (bold, underlined, colors, etc) is also supported within table cells.\n",
        "\n",
        "</details>"
      ],
      "id": "74a8d9e3"
    },
    {
      "cell_type": "markdown",
      "metadata": {
        "id": "VWPUGc9pr_48"
      },
      "source": [
        "## Task-encoding vector"
      ],
      "id": "VWPUGc9pr_48"
    },
    {
      "cell_type": "markdown",
      "metadata": {
        "id": "c466e56a"
      },
      "source": [
        "### Forward pass on antonym dataset\n",
        "\n",
        "\n",
        "Here is what `calculate_h` function below does\n",
        "\n",
        "* Runs a forward pass on the model with the dataset prompts (i.e. the `.prompts` attribute), using the `nnsight` syntax we've demonstrated previously,\n",
        "* Runs a forward pass on the model, using the `nnsight` syntax we've demonstrated previously,\n",
        "* Returns a tuple of the model's output (i.e. a list of its string-token completions, one for each prompt in the batch) and the residual stream value at the end of layer `layer` (e.g. if `layer = -1`, this means the final value of the residual stream before we convert into logits).\n",
        "\n",
        "<img src=\"https://raw.githubusercontent.com/callummcdougall/computational-thread-art/master/example_images/misc/h-intervention-1.png\" width=\"900\">\n",
        "\n",
        "It only returns the residual stream values for the very last sequence position in each prompt, i.e. the last `:` token (where the model makes the antonym prediction), and same for the completions.\n",
        "\n",
        "<details>\n",
        "<summary>How to run (and index into) a batch of inputs.</summary>\n",
        "\n",
        "If we pass a list of strings to the `generator.invoke` function, this will be tokenized with padding automatically.\n",
        "\n",
        "The type of padding which is applied is **left padding**, meaning if you index at sequence position `-1`, this will get the final token in the prompt for all prompts in the list, even if the prompts have different lengths.\n",
        "\n",
        "</details>"
      ],
      "id": "c466e56a"
    },
    {
      "cell_type": "code",
      "execution_count": null,
      "metadata": {
        "id": "21a77af1"
      },
      "outputs": [],
      "source": [
        "def calculate_h(model: LanguageModel, dataset: ICLDataset, layer: int = -1) -> Tuple[List[str], Tensor]:\n",
        "    '''\n",
        "    Averages over the model's hidden representations on each of the prompts in `dataset` at layer `layer`, to produce\n",
        "    a single vector `h`.\n",
        "\n",
        "    Inputs:\n",
        "        model: LanguageModel\n",
        "            the transformer you're doing this computation with\n",
        "        dataset: ICLDataset\n",
        "            the dataset whose prompts `dataset.prompts` you're extracting the activations from (at the last seq pos)\n",
        "        layer: int\n",
        "            the layer you're extracting activations from\n",
        "\n",
        "    Returns:\n",
        "        completions: List[str]\n",
        "            list of model completion strings (i.e. the strings the model predicts to follow the last token)\n",
        "        h: Tensor\n",
        "            average hidden state tensor at final sequence position, of shape (d_model,)\n",
        "    '''\n",
        "    with model.trace(remote=REMOTE) as runner:\n",
        "        with runner.invoke(dataset.prompts) as invoker:\n",
        "\n",
        "            hidden_states = model.transformer.h[layer].output[0][:, -1]\n",
        "            h = hidden_states.mean(dim=0).save()\n",
        "\n",
        "            logits = model.lm_head.output[:, -1]\n",
        "            token_ids = logits.argmax(dim=-1).save()\n",
        "\n",
        "    completions = model.tokenizer.batch_decode(token_ids.value)\n",
        "\n",
        "    return completions, h.value"
      ],
      "id": "21a77af1"
    },
    {
      "cell_type": "markdown",
      "metadata": {
        "id": "0e8b294d"
      },
      "source": [
        "We've provided you with a helper function, which displays the model's output on the antonym dataset (and highlights the examples where the model's prediction is correct). Note, we're using the `repr` function, because a lot of the completions are line breaks, and this helps us see them more clearly!\n",
        "\n",
        "If the antonyms dataset was constructed well, you should find that the model's completion is correct most of the time, and most of its mistakes are either copying (e.g. predicting `wet -> wet` rather than `wet -> dry`) or understandable completions which shouldn't really be considered mistakes (e.g. predicting `right -> left` rather than `right -> wrong`). If we were being rigorous, we'd want to filter this dataset to make sure it only contains examples where the model can correctly perform the task - but for these exercises, we won't worry about this."
      ],
      "id": "0e8b294d"
    },
    {
      "cell_type": "code",
      "execution_count": null,
      "metadata": {
        "id": "c7e4b849"
      },
      "outputs": [],
      "source": [
        "def display_model_completions_on_antonyms(\n",
        "    model: LanguageModel,\n",
        "    dataset: ICLDataset,\n",
        "    completions: List[str],\n",
        "    num_to_display: int = 20,\n",
        ") -> None:\n",
        "    table = Table(\"Prompt (tuple representation)\", \"Model's completion\\n(green=correct)\", \"Correct completion\", title=\"Model's antonym completions\")\n",
        "\n",
        "    for i in range(min(len(completions), num_to_display)):\n",
        "\n",
        "        # Get model's completion, and correct completion\n",
        "        completion = completions[i]\n",
        "        correct_completion = dataset.completions[i]\n",
        "        correct_completion_first_token = model.tokenizer.tokenize(correct_completion)[0].replace('Ġ', ' ')\n",
        "        seq = dataset.seqs[i]\n",
        "\n",
        "        # Color code the completion based on whether it's correct\n",
        "        is_correct = (completion == correct_completion_first_token)\n",
        "        completion = f\"[b green]{repr(completion)}[/]\" if is_correct else repr(completion)\n",
        "\n",
        "        table.add_row(str(seq), completion, repr(correct_completion))\n",
        "\n",
        "    rprint(table)"
      ],
      "id": "c7e4b849"
    },
    {
      "cell_type": "code",
      "execution_count": null,
      "metadata": {
        "colab": {
          "base_uri": "https://localhost:8080/"
        },
        "id": "19f556fb",
        "outputId": "3d5402f9-97b2-4063-b2bb-e5b878282122"
      },
      "outputs": [
        {
          "output_type": "stream",
          "name": "stdout",
          "text": [
            "65f5e1bcb96392ec7b7abe36 - RECEIVED: Your job has been received and is waiting approval.\n",
            "65f5e1bcb96392ec7b7abe36 - APPROVED: Your job was approved and is waiting to be run.\n",
            "65f5e1bcb96392ec7b7abe36 - COMPLETED: Your job has been completed.\n"
          ]
        },
        {
          "output_type": "stream",
          "name": "stderr",
          "text": [
            "Downloading result: 100%|██████████| 18.0k/18.0k [00:00<00:00, 505kB/s]\n"
          ]
        },
        {
          "output_type": "display_data",
          "data": {
            "text/plain": [
              "\u001b[3m                                    Model's antonym completions                                    \u001b[0m\n",
              "┏━━━━━━━━━━━━━━━━━━━━━━━━━━━━━━━━━━━━━━━━━━━━━━━━━━━━━━━┳━━━━━━━━━━━━━━━━━━━━┳━━━━━━━━━━━━━━━━━━━━┓\n",
              "┃\u001b[1m                                                       \u001b[0m┃\u001b[1m \u001b[0m\u001b[1mModel's completion\u001b[0m\u001b[1m \u001b[0m┃\u001b[1m                    \u001b[0m┃\n",
              "┃\u001b[1m \u001b[0m\u001b[1mPrompt (tuple representation)                        \u001b[0m\u001b[1m \u001b[0m┃\u001b[1m \u001b[0m\u001b[1m(green=correct)   \u001b[0m\u001b[1m \u001b[0m┃\u001b[1m \u001b[0m\u001b[1mCorrect completion\u001b[0m\u001b[1m \u001b[0m┃\n",
              "┡━━━━━━━━━━━━━━━━━━━━━━━━━━━━━━━━━━━━━━━━━━━━━━━━━━━━━━━╇━━━━━━━━━━━━━━━━━━━━╇━━━━━━━━━━━━━━━━━━━━┩\n",
              "│ (right, left), (maximum, minimum), melt ->            │ ' melt'            │ ' freeze'          │\n",
              "│ (minimum, maximum), (old, new), punishment ->         │ \u001b[1;32m' reward'\u001b[0m          │ ' reward'          │\n",
              "│ (arrogant, humble), (blunt, sharp), compulsory ->     │ ' optional'        │ ' voluntary'       │\n",
              "│ (inside, outside), (freeze, melt), full ->            │ \u001b[1;32m' empty'\u001b[0m           │ ' empty'           │\n",
              "│ (reject, accept), (awake, asleep), dusk ->            │ \u001b[1;32m' dawn'\u001b[0m            │ ' dawn'            │\n",
              "│ (invisible, visible), (punishment, reward), heavy ->  │ \u001b[1;32m' light'\u001b[0m           │ ' light'           │\n",
              "│ (victory, defeat), (forward, backward), young ->      │ \u001b[1;32m' old'\u001b[0m             │ ' old'             │\n",
              "│ (up, down), (compulsory, voluntary), right ->         │ \u001b[1;32m' wrong'\u001b[0m           │ ' wrong'           │\n",
              "│ (open, closed), (domestic, foreign), brave ->         │ \u001b[1;32m' cowardly'\u001b[0m        │ ' cowardly'        │\n",
              "│ (under, over), (past, future), increase ->            │ \u001b[1;32m' decrease'\u001b[0m        │ ' decrease'        │\n",
              "│ (inside, outside), (melt, freeze), over ->            │ \u001b[1;32m' under'\u001b[0m           │ ' under'           │\n",
              "│ (solid, liquid), (backward, forward), open ->         │ \u001b[1;32m' closed'\u001b[0m          │ ' closed'          │\n",
              "│ (optimist, pessimist), (invisible, visible), brave -> │ \u001b[1;32m' cowardly'\u001b[0m        │ ' cowardly'        │\n",
              "│ (noisy, quiet), (sell, buy), north ->                 │ \u001b[1;32m' south'\u001b[0m           │ ' south'           │\n",
              "│ (guilty, innocent), (birth, death), victory ->        │ \u001b[1;32m' defeat'\u001b[0m          │ ' defeat'          │\n",
              "│ (answer, question), (noisy, quiet), ancient ->        │ \u001b[1;32m' modern'\u001b[0m          │ ' modern'          │\n",
              "│ (on, off), (success, failure), flexible ->            │ \u001b[1;32m' rigid'\u001b[0m           │ ' rigid'           │\n",
              "│ (junior, senior), (arrive, depart), punishment ->     │ \u001b[1;32m' reward'\u001b[0m          │ ' reward'          │\n",
              "│ (loose, tight), (learn, teach), new ->                │ ' new'             │ ' old'             │\n",
              "│ (introduce, remove), (deficiency, quality), wet ->    │ ' wet'             │ ' dry'             │\n",
              "└───────────────────────────────────────────────────────┴────────────────────┴────────────────────┘\n"
            ],
            "text/html": [
              "<pre style=\"white-space:pre;overflow-x:auto;line-height:normal;font-family:Menlo,'DejaVu Sans Mono',consolas,'Courier New',monospace\"><span style=\"font-style: italic\">                                    Model's antonym completions                                    </span>\n",
              "┏━━━━━━━━━━━━━━━━━━━━━━━━━━━━━━━━━━━━━━━━━━━━━━━━━━━━━━━┳━━━━━━━━━━━━━━━━━━━━┳━━━━━━━━━━━━━━━━━━━━┓\n",
              "┃<span style=\"font-weight: bold\">                                                       </span>┃<span style=\"font-weight: bold\"> Model's completion </span>┃<span style=\"font-weight: bold\">                    </span>┃\n",
              "┃<span style=\"font-weight: bold\"> Prompt (tuple representation)                         </span>┃<span style=\"font-weight: bold\"> (green=correct)    </span>┃<span style=\"font-weight: bold\"> Correct completion </span>┃\n",
              "┡━━━━━━━━━━━━━━━━━━━━━━━━━━━━━━━━━━━━━━━━━━━━━━━━━━━━━━━╇━━━━━━━━━━━━━━━━━━━━╇━━━━━━━━━━━━━━━━━━━━┩\n",
              "│ (right, left), (maximum, minimum), melt -&gt;            │ ' melt'            │ ' freeze'          │\n",
              "│ (minimum, maximum), (old, new), punishment -&gt;         │ <span style=\"color: #008000; text-decoration-color: #008000; font-weight: bold\">' reward'</span>          │ ' reward'          │\n",
              "│ (arrogant, humble), (blunt, sharp), compulsory -&gt;     │ ' optional'        │ ' voluntary'       │\n",
              "│ (inside, outside), (freeze, melt), full -&gt;            │ <span style=\"color: #008000; text-decoration-color: #008000; font-weight: bold\">' empty'</span>           │ ' empty'           │\n",
              "│ (reject, accept), (awake, asleep), dusk -&gt;            │ <span style=\"color: #008000; text-decoration-color: #008000; font-weight: bold\">' dawn'</span>            │ ' dawn'            │\n",
              "│ (invisible, visible), (punishment, reward), heavy -&gt;  │ <span style=\"color: #008000; text-decoration-color: #008000; font-weight: bold\">' light'</span>           │ ' light'           │\n",
              "│ (victory, defeat), (forward, backward), young -&gt;      │ <span style=\"color: #008000; text-decoration-color: #008000; font-weight: bold\">' old'</span>             │ ' old'             │\n",
              "│ (up, down), (compulsory, voluntary), right -&gt;         │ <span style=\"color: #008000; text-decoration-color: #008000; font-weight: bold\">' wrong'</span>           │ ' wrong'           │\n",
              "│ (open, closed), (domestic, foreign), brave -&gt;         │ <span style=\"color: #008000; text-decoration-color: #008000; font-weight: bold\">' cowardly'</span>        │ ' cowardly'        │\n",
              "│ (under, over), (past, future), increase -&gt;            │ <span style=\"color: #008000; text-decoration-color: #008000; font-weight: bold\">' decrease'</span>        │ ' decrease'        │\n",
              "│ (inside, outside), (melt, freeze), over -&gt;            │ <span style=\"color: #008000; text-decoration-color: #008000; font-weight: bold\">' under'</span>           │ ' under'           │\n",
              "│ (solid, liquid), (backward, forward), open -&gt;         │ <span style=\"color: #008000; text-decoration-color: #008000; font-weight: bold\">' closed'</span>          │ ' closed'          │\n",
              "│ (optimist, pessimist), (invisible, visible), brave -&gt; │ <span style=\"color: #008000; text-decoration-color: #008000; font-weight: bold\">' cowardly'</span>        │ ' cowardly'        │\n",
              "│ (noisy, quiet), (sell, buy), north -&gt;                 │ <span style=\"color: #008000; text-decoration-color: #008000; font-weight: bold\">' south'</span>           │ ' south'           │\n",
              "│ (guilty, innocent), (birth, death), victory -&gt;        │ <span style=\"color: #008000; text-decoration-color: #008000; font-weight: bold\">' defeat'</span>          │ ' defeat'          │\n",
              "│ (answer, question), (noisy, quiet), ancient -&gt;        │ <span style=\"color: #008000; text-decoration-color: #008000; font-weight: bold\">' modern'</span>          │ ' modern'          │\n",
              "│ (on, off), (success, failure), flexible -&gt;            │ <span style=\"color: #008000; text-decoration-color: #008000; font-weight: bold\">' rigid'</span>           │ ' rigid'           │\n",
              "│ (junior, senior), (arrive, depart), punishment -&gt;     │ <span style=\"color: #008000; text-decoration-color: #008000; font-weight: bold\">' reward'</span>          │ ' reward'          │\n",
              "│ (loose, tight), (learn, teach), new -&gt;                │ ' new'             │ ' old'             │\n",
              "│ (introduce, remove), (deficiency, quality), wet -&gt;    │ ' wet'             │ ' dry'             │\n",
              "└───────────────────────────────────────────────────────┴────────────────────┴────────────────────┘\n",
              "</pre>\n"
            ]
          },
          "metadata": {}
        }
      ],
      "source": [
        "# Get uncorrupted dataset\n",
        "dataset = ICLDataset(ANTONYM_PAIRS, size=20, n_prepended=2)\n",
        "\n",
        "# Getting it from layer 12, cause the graph suggested this was where there was high accuracy\n",
        "model_completions, h = calculate_h(model, dataset, layer=12)\n",
        "\n",
        "# Displaying the output\n",
        "display_model_completions_on_antonyms(model, dataset, model_completions)"
      ],
      "id": "19f556fb"
    },
    {
      "cell_type": "markdown",
      "metadata": {
        "id": "3525cf03"
      },
      "source": [
        "### Intervene with $h$\n",
        "\n",
        "The function `intervene_with_h` is below. Here is what it does:\n",
        "\n",
        "* Defines a zero-shot dataset, i.e. with no prepended antonym pairs,\n",
        "* Runs two forward passes (within the same context manager):\n",
        "    * One with no intervention (i.e. `h` is unchanged),\n",
        "    * One with an intervention on `h` (i.e. the residual stream value is set to `h`, at the layer which `h` was taken from).\n",
        "* Returns the completions for no intervention and intervention cases respectively (see docstring).\n",
        "\n",
        "The diagram below shows how all of this works, when combined with the `calculate_h` function.\n",
        "\n",
        "<img src=\"https://raw.githubusercontent.com/callummcdougall/computational-thread-art/master/example_images/misc/h-intervention-2.png\" width=\"950\">\n",
        "\n",
        "<details>\n",
        "<summary>How best to get both the no-intervention and intervention completions.</summary>\n",
        "\n",
        "You can use `with runner.invoke...` more than once within the same context manager, in order to add to your batch. This will eventually give you output of shape (2*N, seq_len), which can then be indexed and reshaped to get the completions in the no intervention & intervention cases respectively.\n",
        "\n",
        "</details>\n",
        "\n",
        "<details>\n",
        "<summary>How to intervene on the hidden state.</summary>\n",
        "\n",
        "First, you can define the tensor of hidden states (i.e. using `.output[0]`, like you've done before).\n",
        "\n",
        "Then, you can add to this tensor directly (or add to some indexed version of it). You can use inplace operations (i.e. `tensor += h`) or redefining the tensor (i.e. `tensor = tensor + h`); either work.\n",
        "\n",
        "</details>"
      ],
      "id": "3525cf03"
    },
    {
      "cell_type": "code",
      "execution_count": null,
      "metadata": {
        "id": "c31eccf6"
      },
      "outputs": [],
      "source": [
        "def intervene_with_h(\n",
        "    model: LanguageModel,\n",
        "    zero_shot_dataset: ICLDataset,\n",
        "    h: Tensor,\n",
        "    layer: int,\n",
        ") -> Tuple[List[str], List[str]]:\n",
        "    '''\n",
        "    Extracts the vector `h` using previously defined function, and intervenes by adding `h` to the\n",
        "    residual stream of a set of generated zero-shot prompts.\n",
        "\n",
        "    Inputs:\n",
        "        model: LanguageModel\n",
        "            the transformer you're doing this computation with\n",
        "        zero_shot_dataset: ICLDataset\n",
        "            the dataset of zero-shot prompts which we'll intervene on, using the `h`-vector\n",
        "        h: Tensor\n",
        "            the `h`-vector we'll be adding to the residual stream\n",
        "        layer: int\n",
        "            the layer we'll be extracting the `h`-vector from\n",
        "\n",
        "    Returns:\n",
        "        completions_zero_shot: List[str]\n",
        "            list of string completions for the zero-shot prompts, without intervention\n",
        "        completions_intervention: List[str]\n",
        "            list of string completions for the zero-shot prompts, with h-intervention\n",
        "    '''\n",
        "    with model.trace(remote=REMOTE) as runner:\n",
        "\n",
        "        # First, run a forward pass where we don't intervene, just save token id completions\n",
        "        with runner.invoke(zero_shot_dataset.prompts) as invoker:\n",
        "            token_completions_zero_shot = model.lm_head.output[:, -1].argmax(dim=-1).save()\n",
        "\n",
        "        # Next, run a forward pass on the zero-shot prompts where we do intervene\n",
        "        with runner.invoke(zero_shot_dataset.prompts) as invoker:\n",
        "            # Add the h-vector to the residual stream, at the last sequence position\n",
        "            hidden_states = model.transformer.h[layer].output[0]\n",
        "            hidden_states[:, -1] += h\n",
        "            # Also save completions\n",
        "            token_completions_intervention = model.lm_head.output[:, -1].argmax(dim=-1).save()\n",
        "\n",
        "    # Decode to get the string tokens\n",
        "    completions_zero_shot = model.tokenizer.batch_decode(token_completions_zero_shot.value)\n",
        "    completions_intervention = model.tokenizer.batch_decode(token_completions_intervention.value)\n",
        "\n",
        "    return completions_zero_shot, completions_intervention"
      ],
      "id": "c31eccf6"
    },
    {
      "cell_type": "markdown",
      "metadata": {
        "id": "2317b7eb"
      },
      "source": [
        "Run the code below to calculate completions for the function.\n",
        "\n",
        "**Note, it's very important that we set a different random seed for the zero shot dataset, otherwise we'll be intervening on examples which were actually in the dataset we used to compute $h$!**"
      ],
      "id": "2317b7eb"
    },
    {
      "cell_type": "code",
      "execution_count": null,
      "metadata": {
        "colab": {
          "base_uri": "https://localhost:8080/"
        },
        "id": "968379fb",
        "outputId": "ec6f9565-1cc9-491b-8cd7-87cc7a2ff9c3"
      },
      "outputs": [
        {
          "output_type": "stream",
          "name": "stdout",
          "text": [
            "65f5e1c3030f7dba0ad2ec38 - RECEIVED: Your job has been received and is waiting approval.\n",
            "65f5e1c3030f7dba0ad2ec38 - APPROVED: Your job was approved and is waiting to be run.\n",
            "65f5e1c3030f7dba0ad2ec38 - COMPLETED: Your job has been completed.\n"
          ]
        },
        {
          "output_type": "stream",
          "name": "stderr",
          "text": [
            "Downloading result: 100%|██████████| 18.0k/18.0k [00:00<00:00, 471kB/s]\n"
          ]
        },
        {
          "output_type": "stream",
          "name": "stdout",
          "text": [
            "65f5e1d08d882ff08ecddd0d - RECEIVED: Your job has been received and is waiting approval.\n",
            "65f5e1d08d882ff08ecddd0d - APPROVED: Your job was approved and is waiting to be run.\n",
            "65f5e1d08d882ff08ecddd0d - COMPLETED: Your job has been completed.\n"
          ]
        },
        {
          "output_type": "stream",
          "name": "stderr",
          "text": [
            "Downloading result: 100%|██████████| 1.75k/1.75k [00:00<00:00, 5.75MB/s]"
          ]
        },
        {
          "output_type": "stream",
          "name": "stdout",
          "text": [
            "\n",
            "Zero-shot completions:  [' minimum', ' arrogant', ' inside', ' reject', ' invisible', ' victory', ' up', ' open', ' under', ' inside', ' solid', '\\n', ' noisy', ' guilty', ' yes', ' I', ' senior', ' loose', ' introduce', ' innocent']\n",
            "Completions with intervention:  [' maximum', ' arrogant', ' outside', ' reject', ' invisible', ' victory', ' down', ' closed', ' under', ' outside', ' solid', ' optim', ' noisy', ' guilty', ' answer', ' on', ' senior', ' loose', ' introduce', ' guilty']\n"
          ]
        },
        {
          "output_type": "stream",
          "name": "stderr",
          "text": [
            "\n"
          ]
        }
      ],
      "source": [
        "layer = 12\n",
        "dataset = ICLDataset(ANTONYM_PAIRS, size=20, n_prepended=3, seed=0)\n",
        "zero_shot_dataset = ICLDataset(ANTONYM_PAIRS, size=20, n_prepended=0, seed=1)\n",
        "\n",
        "# Run previous function to get h-vector\n",
        "h = calculate_h(model, dataset, layer=layer)[1]\n",
        "\n",
        "# Run new function to intervene with h-vector\n",
        "completions_zero_shot, completions_intervention = intervene_with_h(model, zero_shot_dataset, h, layer=layer)\n",
        "\n",
        "print(\"\\nZero-shot completions: \", completions_zero_shot)\n",
        "print(\"Completions with intervention: \", completions_intervention)"
      ],
      "id": "968379fb"
    },
    {
      "cell_type": "markdown",
      "metadata": {
        "id": "e54fbd1d"
      },
      "source": [
        "Next, run the code below to visualise the completions in a table. You should see:\n",
        "\n",
        "* ~0% correct completions on the zero-shot prompt with no intervention, because the model usually just copies the first and only word in the prompt\n",
        "* ~25% correct completions on the zero-shot prompt with intervention"
      ],
      "id": "e54fbd1d"
    },
    {
      "cell_type": "code",
      "execution_count": null,
      "metadata": {
        "colab": {
          "base_uri": "https://localhost:8080/"
        },
        "id": "ebf13407",
        "outputId": "75822f7d-8108-46bd-efb4-f04978e5a616"
      },
      "outputs": [
        {
          "output_type": "display_data",
          "data": {
            "text/plain": [
              "\u001b[3m                          Model's antonym completions                          \u001b[0m\n",
              "┏━━━━━━━━━━━━━━┳━━━━━━━━━━━━━━━━━━━━┳━━━━━━━━━━━━━━━━━━━━┳━━━━━━━━━━━━━━━━━━━━┓\n",
              "┃\u001b[1m              \u001b[0m┃\u001b[1m \u001b[0m\u001b[1mModel's completion\u001b[0m\u001b[1m \u001b[0m┃\u001b[1m \u001b[0m\u001b[1mModel's completion\u001b[0m\u001b[1m \u001b[0m┃\u001b[1m                    \u001b[0m┃\n",
              "┃\u001b[1m \u001b[0m\u001b[1mPrompt      \u001b[0m\u001b[1m \u001b[0m┃\u001b[1m \u001b[0m\u001b[1m(no intervention) \u001b[0m\u001b[1m \u001b[0m┃\u001b[1m \u001b[0m\u001b[1m(intervention)    \u001b[0m\u001b[1m \u001b[0m┃\u001b[1m \u001b[0m\u001b[1mCorrect completion\u001b[0m\u001b[1m \u001b[0m┃\n",
              "┡━━━━━━━━━━━━━━╇━━━━━━━━━━━━━━━━━━━━╇━━━━━━━━━━━━━━━━━━━━╇━━━━━━━━━━━━━━━━━━━━┩\n",
              "│ minimum ->   │ ' minimum'         │ \u001b[1;32m' maximum'\u001b[0m         │ ' maximum'         │\n",
              "│ arrogant ->  │ ' arrogant'        │ ' arrogant'        │ ' humble'          │\n",
              "│ inside ->    │ ' inside'          │ \u001b[1;32m' outside'\u001b[0m         │ ' outside'         │\n",
              "│ reject ->    │ ' reject'          │ ' reject'          │ ' accept'          │\n",
              "│ invisible -> │ ' invisible'       │ ' invisible'       │ ' visible'         │\n",
              "│ victory ->   │ ' victory'         │ ' victory'         │ ' defeat'          │\n",
              "│ up ->        │ ' up'              │ \u001b[1;32m' down'\u001b[0m            │ ' down'            │\n",
              "│ open ->      │ ' open'            │ \u001b[1;32m' closed'\u001b[0m          │ ' closed'          │\n",
              "│ under ->     │ ' under'           │ ' under'           │ ' over'            │\n",
              "│ inside ->    │ ' inside'          │ \u001b[1;32m' outside'\u001b[0m         │ ' outside'         │\n",
              "│ solid ->     │ ' solid'           │ ' solid'           │ ' liquid'          │\n",
              "│ optimist ->  │ '\\n'               │ ' optim'           │ ' pessimist'       │\n",
              "│ noisy ->     │ ' noisy'           │ ' noisy'           │ ' quiet'           │\n",
              "│ guilty ->    │ ' guilty'          │ ' guilty'          │ ' innocent'        │\n",
              "│ answer ->    │ ' yes'             │ ' answer'          │ ' question'        │\n",
              "│ on ->        │ ' I'               │ ' on'              │ ' off'             │\n",
              "│ junior ->    │ ' senior'          │ \u001b[1;32m' senior'\u001b[0m          │ ' senior'          │\n",
              "│ loose ->     │ ' loose'           │ ' loose'           │ ' tight'           │\n",
              "│ introduce -> │ ' introduce'       │ ' introduce'       │ ' remove'          │\n",
              "│ innocent ->  │ ' innocent'        │ \u001b[1;32m' guilty'\u001b[0m          │ ' guilty'          │\n",
              "└──────────────┴────────────────────┴────────────────────┴────────────────────┘\n"
            ],
            "text/html": [
              "<pre style=\"white-space:pre;overflow-x:auto;line-height:normal;font-family:Menlo,'DejaVu Sans Mono',consolas,'Courier New',monospace\"><span style=\"font-style: italic\">                          Model's antonym completions                          </span>\n",
              "┏━━━━━━━━━━━━━━┳━━━━━━━━━━━━━━━━━━━━┳━━━━━━━━━━━━━━━━━━━━┳━━━━━━━━━━━━━━━━━━━━┓\n",
              "┃<span style=\"font-weight: bold\">              </span>┃<span style=\"font-weight: bold\"> Model's completion </span>┃<span style=\"font-weight: bold\"> Model's completion </span>┃<span style=\"font-weight: bold\">                    </span>┃\n",
              "┃<span style=\"font-weight: bold\"> Prompt       </span>┃<span style=\"font-weight: bold\"> (no intervention)  </span>┃<span style=\"font-weight: bold\"> (intervention)     </span>┃<span style=\"font-weight: bold\"> Correct completion </span>┃\n",
              "┡━━━━━━━━━━━━━━╇━━━━━━━━━━━━━━━━━━━━╇━━━━━━━━━━━━━━━━━━━━╇━━━━━━━━━━━━━━━━━━━━┩\n",
              "│ minimum -&gt;   │ ' minimum'         │ <span style=\"color: #008000; text-decoration-color: #008000; font-weight: bold\">' maximum'</span>         │ ' maximum'         │\n",
              "│ arrogant -&gt;  │ ' arrogant'        │ ' arrogant'        │ ' humble'          │\n",
              "│ inside -&gt;    │ ' inside'          │ <span style=\"color: #008000; text-decoration-color: #008000; font-weight: bold\">' outside'</span>         │ ' outside'         │\n",
              "│ reject -&gt;    │ ' reject'          │ ' reject'          │ ' accept'          │\n",
              "│ invisible -&gt; │ ' invisible'       │ ' invisible'       │ ' visible'         │\n",
              "│ victory -&gt;   │ ' victory'         │ ' victory'         │ ' defeat'          │\n",
              "│ up -&gt;        │ ' up'              │ <span style=\"color: #008000; text-decoration-color: #008000; font-weight: bold\">' down'</span>            │ ' down'            │\n",
              "│ open -&gt;      │ ' open'            │ <span style=\"color: #008000; text-decoration-color: #008000; font-weight: bold\">' closed'</span>          │ ' closed'          │\n",
              "│ under -&gt;     │ ' under'           │ ' under'           │ ' over'            │\n",
              "│ inside -&gt;    │ ' inside'          │ <span style=\"color: #008000; text-decoration-color: #008000; font-weight: bold\">' outside'</span>         │ ' outside'         │\n",
              "│ solid -&gt;     │ ' solid'           │ ' solid'           │ ' liquid'          │\n",
              "│ optimist -&gt;  │ '\\n'               │ ' optim'           │ ' pessimist'       │\n",
              "│ noisy -&gt;     │ ' noisy'           │ ' noisy'           │ ' quiet'           │\n",
              "│ guilty -&gt;    │ ' guilty'          │ ' guilty'          │ ' innocent'        │\n",
              "│ answer -&gt;    │ ' yes'             │ ' answer'          │ ' question'        │\n",
              "│ on -&gt;        │ ' I'               │ ' on'              │ ' off'             │\n",
              "│ junior -&gt;    │ ' senior'          │ <span style=\"color: #008000; text-decoration-color: #008000; font-weight: bold\">' senior'</span>          │ ' senior'          │\n",
              "│ loose -&gt;     │ ' loose'           │ ' loose'           │ ' tight'           │\n",
              "│ introduce -&gt; │ ' introduce'       │ ' introduce'       │ ' remove'          │\n",
              "│ innocent -&gt;  │ ' innocent'        │ <span style=\"color: #008000; text-decoration-color: #008000; font-weight: bold\">' guilty'</span>          │ ' guilty'          │\n",
              "└──────────────┴────────────────────┴────────────────────┴────────────────────┘\n",
              "</pre>\n"
            ]
          },
          "metadata": {}
        }
      ],
      "source": [
        "def display_model_completions_on_h_intervention(\n",
        "    dataset: ICLDataset,\n",
        "    completions: List[str],\n",
        "    completions_intervention: List[str],\n",
        "    num_to_display: int = 20,\n",
        ") -> None:\n",
        "    table = Table(\"Prompt\", \"Model's completion\\n(no intervention)\", \"Model's completion\\n(intervention)\", \"Correct completion\", title=\"Model's antonym completions\")\n",
        "\n",
        "    for i in range(min(len(completions), num_to_display)):\n",
        "\n",
        "        completion_ni = completions[i]\n",
        "        completion_i = completions_intervention[i]\n",
        "        correct_completion = dataset.completions[i]\n",
        "        correct_completion_first_token = tokenizer.tokenize(correct_completion)[0].replace('Ġ', ' ')\n",
        "        seq = dataset.seqs[i]\n",
        "\n",
        "        # Color code the completion based on whether it's correct\n",
        "        is_correct = (completion_i == correct_completion_first_token)\n",
        "        completion_i = f\"[b green]{repr(completion_i)}[/]\" if is_correct else repr(completion_i)\n",
        "\n",
        "        table.add_row(str(seq), repr(completion_ni), completion_i, repr(correct_completion))\n",
        "\n",
        "    rprint(table)\n",
        "\n",
        "\n",
        "display_model_completions_on_h_intervention(zero_shot_dataset, completions_zero_shot, completions_intervention)"
      ],
      "id": "ebf13407"
    },
    {
      "cell_type": "markdown",
      "metadata": {
        "id": "fc4af4e1"
      },
      "source": [
        "### Combining the last two functions\n",
        "\n",
        "One great feature of the `nnsight` library is its ability to parallelize forward passes and perform complex interventions within a single context manager.\n",
        "\n",
        "In the code above, we had one function to extract the hidden states from the model, and another function where we intervened with those hidden states. But we can actually do both at once: we can compute $h$ within our forward pass, and then intervene with it on a different forward pass (using our zero-shot prompts), all within the same `model.trace` context manager. In other words, **we'll be using `with runner.invoke...` three times** in this context manager.\n",
        "\n",
        "<img src=\"https://raw.githubusercontent.com/callummcdougall/computational-thread-art/master/example_images/misc/h-intervention-3.png\" width=\"1000\">\n",
        "\n",
        "The function below is combining `calculate_h` and `intervene_with_h` functions, and wrapping the forward passes in the same context manager.\n",
        "\n",
        "The output is exactly the same as before (since the `ICLDataset` class is deterministic). However, this time around the code should run twice as fast, because we're batching the operations of \"compute $h$\" and \"intervene with $h$\" together into a single forward pass.\n",
        "\n",
        "<details>\n",
        "<summary>How to use the <code>h</code> vector inside the context manager.</summary>\n",
        "\n",
        "You extract `h` the same way as before, but you don't need to save it, or ever reference its `.value` attribute. It is kept as a proxy. You can still use it later in the context manager, just like it actually was a tensor.\n",
        "\n",
        "You shouldn't have to `.save()` anything inside your context manager, other than the token completions.\n",
        "\n",
        "</details>"
      ],
      "id": "fc4af4e1"
    },
    {
      "cell_type": "code",
      "execution_count": null,
      "metadata": {
        "id": "194f3025"
      },
      "outputs": [],
      "source": [
        "def calculate_h_and_intervene(\n",
        "    model: LanguageModel,\n",
        "    dataset: ICLDataset,\n",
        "    zero_shot_dataset: ICLDataset,\n",
        "    layer: int,\n",
        ") -> Tuple[List[str], List[str]]:\n",
        "    '''\n",
        "    Extracts the vector `h`, intervenes by adding `h` to the residual stream of a set of generated zero-shot prompts,\n",
        "    all within the same forward pass. Returns the completions from this intervention.\n",
        "\n",
        "    Inputs:\n",
        "        model: LanguageModel\n",
        "            the model we're using to generate completions\n",
        "        dataset: ICLDataset\n",
        "            the dataset of clean prompts from which we'll extract the `h`-vector\n",
        "        zero_shot_dataset: ICLDataset\n",
        "            the dataset of zero-shot prompts which we'll intervene on, using the `h`-vector\n",
        "        layer: int\n",
        "            the layer we'll be extracting the `h`-vector from\n",
        "\n",
        "    Returns:\n",
        "        completions_zero_shot: List[str]\n",
        "            list of string completions for the zero-shot prompts, without intervention\n",
        "        completions_intervention: List[str]\n",
        "            list of string completions for the zero-shot prompts, with h-intervention\n",
        "    '''\n",
        "    with model.trace(remote=REMOTE) as runner:\n",
        "\n",
        "        # Run on the clean prompts, to get the h-vector\n",
        "        with runner.invoke(dataset.prompts) as invoker:\n",
        "            # Define h (we don't need to save it, cause we don't need it outside `runner:`)\n",
        "            hidden_states = model.transformer.h[layer].output[0]\n",
        "            h = hidden_states[:, -1].mean(dim=0)\n",
        "\n",
        "        # First, run a forward pass where we don't intervene\n",
        "        with runner.invoke(zero_shot_dataset.prompts) as invoker:\n",
        "            token_completions_zero_shot = model.lm_head.output[:, -1].argmax(dim=-1).save()\n",
        "\n",
        "        # Next, run a forward pass on the zero-shot prompts where we do intervene\n",
        "        with runner.invoke(zero_shot_dataset.prompts) as invoker:\n",
        "            # Add the h-vector to the residual stream, at the last sequence position\n",
        "            hidden_states = model.transformer.h[layer].output[0]\n",
        "            hidden_states[:, -1] += h\n",
        "            # Also save completions\n",
        "            token_completions_intervention = model.lm_head.output[:, -1].argmax(dim=-1).save()\n",
        "\n",
        "    # Decode to get the string tokens\n",
        "    completions_zero_shot = model.tokenizer.batch_decode(token_completions_zero_shot.value)\n",
        "    completions_intervention = model.tokenizer.batch_decode(token_completions_intervention.value)\n",
        "\n",
        "    return completions_zero_shot, completions_intervention"
      ],
      "id": "194f3025"
    },
    {
      "cell_type": "code",
      "execution_count": null,
      "metadata": {
        "colab": {
          "base_uri": "https://localhost:8080/"
        },
        "id": "700ee3ea",
        "outputId": "b0cc4cc3-e386-4a2f-8644-d90634616fa1"
      },
      "outputs": [
        {
          "output_type": "stream",
          "name": "stdout",
          "text": [
            "65f5e1de8d882ff08ecddd0e - RECEIVED: Your job has been received and is waiting approval.\n",
            "65f5e1de8d882ff08ecddd0e - APPROVED: Your job was approved and is waiting to be run.\n",
            "65f5e1de8d882ff08ecddd0e - COMPLETED: Your job has been completed.\n"
          ]
        },
        {
          "output_type": "stream",
          "name": "stderr",
          "text": [
            "Downloading result: 100%|██████████| 1.75k/1.75k [00:00<00:00, 5.17MB/s]\n"
          ]
        },
        {
          "output_type": "display_data",
          "data": {
            "text/plain": [
              "\u001b[3m                          Model's antonym completions                          \u001b[0m\n",
              "┏━━━━━━━━━━━━━━┳━━━━━━━━━━━━━━━━━━━━┳━━━━━━━━━━━━━━━━━━━━┳━━━━━━━━━━━━━━━━━━━━┓\n",
              "┃\u001b[1m              \u001b[0m┃\u001b[1m \u001b[0m\u001b[1mModel's completion\u001b[0m\u001b[1m \u001b[0m┃\u001b[1m \u001b[0m\u001b[1mModel's completion\u001b[0m\u001b[1m \u001b[0m┃\u001b[1m                    \u001b[0m┃\n",
              "┃\u001b[1m \u001b[0m\u001b[1mPrompt      \u001b[0m\u001b[1m \u001b[0m┃\u001b[1m \u001b[0m\u001b[1m(no intervention) \u001b[0m\u001b[1m \u001b[0m┃\u001b[1m \u001b[0m\u001b[1m(intervention)    \u001b[0m\u001b[1m \u001b[0m┃\u001b[1m \u001b[0m\u001b[1mCorrect completion\u001b[0m\u001b[1m \u001b[0m┃\n",
              "┡━━━━━━━━━━━━━━╇━━━━━━━━━━━━━━━━━━━━╇━━━━━━━━━━━━━━━━━━━━╇━━━━━━━━━━━━━━━━━━━━┩\n",
              "│ minimum ->   │ ' minimum'         │ \u001b[1;32m' maximum'\u001b[0m         │ ' maximum'         │\n",
              "│ arrogant ->  │ ' arrogant'        │ ' arrogant'        │ ' humble'          │\n",
              "│ inside ->    │ ' inside'          │ \u001b[1;32m' outside'\u001b[0m         │ ' outside'         │\n",
              "│ reject ->    │ ' reject'          │ ' reject'          │ ' accept'          │\n",
              "│ invisible -> │ ' invisible'       │ ' invisible'       │ ' visible'         │\n",
              "│ victory ->   │ ' victory'         │ ' victory'         │ ' defeat'          │\n",
              "│ up ->        │ ' up'              │ \u001b[1;32m' down'\u001b[0m            │ ' down'            │\n",
              "│ open ->      │ ' open'            │ \u001b[1;32m' closed'\u001b[0m          │ ' closed'          │\n",
              "│ under ->     │ ' under'           │ ' under'           │ ' over'            │\n",
              "│ inside ->    │ ' inside'          │ \u001b[1;32m' outside'\u001b[0m         │ ' outside'         │\n",
              "│ solid ->     │ ' solid'           │ ' solid'           │ ' liquid'          │\n",
              "│ optimist ->  │ '\\n'               │ ' optim'           │ ' pessimist'       │\n",
              "│ noisy ->     │ ' noisy'           │ ' noisy'           │ ' quiet'           │\n",
              "│ guilty ->    │ ' guilty'          │ ' guilty'          │ ' innocent'        │\n",
              "│ answer ->    │ ' yes'             │ ' answer'          │ ' question'        │\n",
              "│ on ->        │ ' I'               │ ' on'              │ ' off'             │\n",
              "│ junior ->    │ ' senior'          │ \u001b[1;32m' senior'\u001b[0m          │ ' senior'          │\n",
              "│ loose ->     │ ' loose'           │ ' loose'           │ ' tight'           │\n",
              "│ introduce -> │ ' introduce'       │ ' introduce'       │ ' remove'          │\n",
              "│ innocent ->  │ ' innocent'        │ \u001b[1;32m' guilty'\u001b[0m          │ ' guilty'          │\n",
              "└──────────────┴────────────────────┴────────────────────┴────────────────────┘\n"
            ],
            "text/html": [
              "<pre style=\"white-space:pre;overflow-x:auto;line-height:normal;font-family:Menlo,'DejaVu Sans Mono',consolas,'Courier New',monospace\"><span style=\"font-style: italic\">                          Model's antonym completions                          </span>\n",
              "┏━━━━━━━━━━━━━━┳━━━━━━━━━━━━━━━━━━━━┳━━━━━━━━━━━━━━━━━━━━┳━━━━━━━━━━━━━━━━━━━━┓\n",
              "┃<span style=\"font-weight: bold\">              </span>┃<span style=\"font-weight: bold\"> Model's completion </span>┃<span style=\"font-weight: bold\"> Model's completion </span>┃<span style=\"font-weight: bold\">                    </span>┃\n",
              "┃<span style=\"font-weight: bold\"> Prompt       </span>┃<span style=\"font-weight: bold\"> (no intervention)  </span>┃<span style=\"font-weight: bold\"> (intervention)     </span>┃<span style=\"font-weight: bold\"> Correct completion </span>┃\n",
              "┡━━━━━━━━━━━━━━╇━━━━━━━━━━━━━━━━━━━━╇━━━━━━━━━━━━━━━━━━━━╇━━━━━━━━━━━━━━━━━━━━┩\n",
              "│ minimum -&gt;   │ ' minimum'         │ <span style=\"color: #008000; text-decoration-color: #008000; font-weight: bold\">' maximum'</span>         │ ' maximum'         │\n",
              "│ arrogant -&gt;  │ ' arrogant'        │ ' arrogant'        │ ' humble'          │\n",
              "│ inside -&gt;    │ ' inside'          │ <span style=\"color: #008000; text-decoration-color: #008000; font-weight: bold\">' outside'</span>         │ ' outside'         │\n",
              "│ reject -&gt;    │ ' reject'          │ ' reject'          │ ' accept'          │\n",
              "│ invisible -&gt; │ ' invisible'       │ ' invisible'       │ ' visible'         │\n",
              "│ victory -&gt;   │ ' victory'         │ ' victory'         │ ' defeat'          │\n",
              "│ up -&gt;        │ ' up'              │ <span style=\"color: #008000; text-decoration-color: #008000; font-weight: bold\">' down'</span>            │ ' down'            │\n",
              "│ open -&gt;      │ ' open'            │ <span style=\"color: #008000; text-decoration-color: #008000; font-weight: bold\">' closed'</span>          │ ' closed'          │\n",
              "│ under -&gt;     │ ' under'           │ ' under'           │ ' over'            │\n",
              "│ inside -&gt;    │ ' inside'          │ <span style=\"color: #008000; text-decoration-color: #008000; font-weight: bold\">' outside'</span>         │ ' outside'         │\n",
              "│ solid -&gt;     │ ' solid'           │ ' solid'           │ ' liquid'          │\n",
              "│ optimist -&gt;  │ '\\n'               │ ' optim'           │ ' pessimist'       │\n",
              "│ noisy -&gt;     │ ' noisy'           │ ' noisy'           │ ' quiet'           │\n",
              "│ guilty -&gt;    │ ' guilty'          │ ' guilty'          │ ' innocent'        │\n",
              "│ answer -&gt;    │ ' yes'             │ ' answer'          │ ' question'        │\n",
              "│ on -&gt;        │ ' I'               │ ' on'              │ ' off'             │\n",
              "│ junior -&gt;    │ ' senior'          │ <span style=\"color: #008000; text-decoration-color: #008000; font-weight: bold\">' senior'</span>          │ ' senior'          │\n",
              "│ loose -&gt;     │ ' loose'           │ ' loose'           │ ' tight'           │\n",
              "│ introduce -&gt; │ ' introduce'       │ ' introduce'       │ ' remove'          │\n",
              "│ innocent -&gt;  │ ' innocent'        │ <span style=\"color: #008000; text-decoration-color: #008000; font-weight: bold\">' guilty'</span>          │ ' guilty'          │\n",
              "└──────────────┴────────────────────┴────────────────────┴────────────────────┘\n",
              "</pre>\n"
            ]
          },
          "metadata": {}
        }
      ],
      "source": [
        "dataset = ICLDataset(ANTONYM_PAIRS, size=20, n_prepended=3, seed=0)\n",
        "zero_shot_dataset = ICLDataset(ANTONYM_PAIRS, size=20, n_prepended=0, seed=1)\n",
        "\n",
        "completions_zero_shot, completions_intervention = calculate_h_and_intervene(model, dataset, zero_shot_dataset, layer=layer)\n",
        "\n",
        "display_model_completions_on_h_intervention(zero_shot_dataset, completions_zero_shot, completions_intervention)"
      ],
      "id": "700ee3ea"
    },
    {
      "cell_type": "markdown",
      "metadata": {
        "id": "f6c0d643"
      },
      "source": [
        "### Compute change in accuracy\n",
        "\n",
        "So far, all we've done is look at the most likely completions, and see what fraction of the time these were correct. But our forward pass doesn't just give us token completions, it gives us logits too!\n",
        "\n",
        "We can now rewrite the `calculate_h_and_intervene` function so that, rather than returning two lists of string completions, it returns two lists of floats containing the **logprobs assigned by the model to the correct antonym** in the no intervention / intervention cases respectively.\n",
        "\n",
        "<details>\n",
        "<summary>How to get the correct logprobs from the logits.</summary>\n",
        "\n",
        "First, apply log softmax to the logits, to get logprobs.\n",
        "\n",
        "Second, you can use `tokenizer(dataset.completions)[\"input_ids\"]` to get the token IDs of the correct completions. (Gotcha - some words might be tokenized into multiple tokens, so make sure you're just picking the first token ID for each completion.)\n",
        "\n",
        "Note - we recommend doing all this inside the context manager, then saving and returning just the correct logprobs not all the logits (this means less to download from the server!).\n",
        "\n",
        "</details>"
      ],
      "id": "f6c0d643"
    },
    {
      "cell_type": "code",
      "execution_count": null,
      "metadata": {
        "id": "a73a3db9"
      },
      "outputs": [],
      "source": [
        "def calculate_h_and_intervene_logprobs(\n",
        "    model: LanguageModel,\n",
        "    dataset: ICLDataset,\n",
        "    zero_shot_dataset: ICLDataset,\n",
        "    layer: int,\n",
        ") -> Tuple[List[float], List[float]]:\n",
        "    '''\n",
        "    Extracts the vector `h`, intervenes by adding `h` to the residual stream of a set of generated zero-shot prompts,\n",
        "    all within the same forward pass. Returns the logprobs on correct tokens from this intervention.\n",
        "\n",
        "    Inputs:\n",
        "        model: LanguageModel\n",
        "            the model we're using to generate completions\n",
        "        dataset: ICLDataset\n",
        "            the dataset of clean prompts from which we'll extract the `h`-vector\n",
        "        zero_shot_dataset: ICLDataset\n",
        "            the dataset of zero-shot prompts which we'll intervene on, using the `h`-vector\n",
        "        layer: int\n",
        "            the layer we'll be extracting the `h`-vector from\n",
        "\n",
        "    Returns:\n",
        "        correct_logprobs: List[float]\n",
        "            list of correct-token logprobs for the zero-shot prompts, without intervention\n",
        "        correct_logprobs_intervention: List[float]\n",
        "            list of correct-token logprobs for the zero-shot prompts, with h-intervention\n",
        "    '''\n",
        "    # Get correct completions from `dataset`, to be used for indexing into the logprobs\n",
        "    correct_completion_ids = [toks[0] for toks in tokenizer(zero_shot_dataset.completions)[\"input_ids\"]]\n",
        "\n",
        "    with model.trace(remote=REMOTE) as runner:\n",
        "\n",
        "        # Run on the clean prompts, to get the h-vector\n",
        "        with runner.invoke(dataset.prompts) as invoker:\n",
        "            # Define h (we don't need to save it, cause we don't need it outside `runner:`)\n",
        "            hidden_states = model.transformer.h[layer].output[0]\n",
        "            h = hidden_states[:, -1].mean(dim=0)\n",
        "\n",
        "        # First, run a forward pass where we don't intervene\n",
        "        with runner.invoke(zero_shot_dataset.prompts) as invoker:\n",
        "            # We save correct-token logprobs, not all logits - this means less for us to download!\n",
        "            logprobs = model.lm_head.output[:, -1].log_softmax(dim=-1)\n",
        "            correct_logprobs_zero_shot = logprobs[t.arange(len(zero_shot_dataset)), correct_completion_ids].save()\n",
        "\n",
        "        # Next, run a forward pass on the zero-shot prompts where we do intervene\n",
        "        with runner.invoke(zero_shot_dataset.prompts) as invoker:\n",
        "            # Add the h-vector to the residual stream, at the last sequence position\n",
        "            hidden_states = model.transformer.h[layer].output[0]\n",
        "            hidden_states[:, -1] += h\n",
        "            # We save correct-token logprobs, not all logits - this means less for us to download!\n",
        "            logprobs = model.lm_head.output[:, -1].log_softmax(dim=-1)\n",
        "            correct_logprobs_intervention = logprobs[t.arange(len(zero_shot_dataset)), correct_completion_ids].save()\n",
        "\n",
        "    return correct_logprobs_zero_shot.value.tolist(), correct_logprobs_intervention.value.tolist()"
      ],
      "id": "a73a3db9"
    },
    {
      "cell_type": "markdown",
      "metadata": {
        "id": "5bf626f8"
      },
      "source": [
        "When you run the code below this function, it will display the log-probabilities (highlighting green when they increase from the zero-shot case). You should find that in every sequence, the logprobs on the correct token increase in the intervention. This helps make something clear - **even if the maximum-likelihood token doesn't change, this doesn't mean that the intervention isn't having a significant effect.**"
      ],
      "id": "5bf626f8"
    },
    {
      "cell_type": "code",
      "execution_count": null,
      "metadata": {
        "id": "d09fdabb"
      },
      "outputs": [],
      "source": [
        "def display_model_logprobs_on_h_intervention(\n",
        "    dataset: ICLDataset,\n",
        "    correct_logprobs_zero_shot: List[float],\n",
        "    correct_logprobs_intervention: List[float],\n",
        "    num_to_display: int = 20,\n",
        ") -> None:\n",
        "    table = Table(\n",
        "        \"Zero-shot prompt\", \"Model's logprob\\n(no intervention)\", \"Model's logprob\\n(intervention)\", \"Change in logprob\",\n",
        "        title=\"Model's antonym logprobs, with zero-shot h-intervention\\n(green = intervention improves accuracy)\"\n",
        "    )\n",
        "\n",
        "    for i in range(min(len(correct_logprobs_zero_shot), num_to_display)):\n",
        "\n",
        "        logprob_ni = correct_logprobs_zero_shot[i]\n",
        "        logprob_i = correct_logprobs_intervention[i]\n",
        "        delta_logprob = logprob_i - logprob_ni\n",
        "        zero_shot_prompt = f\"{dataset[i].x[0]:>8} -> {dataset[i].y[0]}\"\n",
        "\n",
        "        # Color code the logprob based on whether it's increased with this intervention\n",
        "        is_improvement = (delta_logprob >= 0)\n",
        "        delta_logprob = f\"[b green]{delta_logprob:+.2f}[/]\" if is_improvement else f\"{delta_logprob:+.2f}\"\n",
        "\n",
        "        table.add_row(zero_shot_prompt, f\"{logprob_ni:.2f}\", f\"{logprob_i:.2f}\", delta_logprob)\n",
        "\n",
        "    rprint(table)"
      ],
      "id": "d09fdabb"
    },
    {
      "cell_type": "code",
      "execution_count": null,
      "metadata": {
        "colab": {
          "base_uri": "https://localhost:8080/"
        },
        "id": "a823d788",
        "outputId": "58f82cac-af41-4834-9db7-490559a03e1d"
      },
      "outputs": [
        {
          "output_type": "stream",
          "name": "stdout",
          "text": [
            "65f5e1e8030f7dba0ad2ec3a - RECEIVED: Your job has been received and is waiting approval.\n",
            "65f5e1e8030f7dba0ad2ec3a - APPROVED: Your job was approved and is waiting to be run.\n",
            "65f5e1e8030f7dba0ad2ec3a - COMPLETED: Your job has been completed.\n"
          ]
        },
        {
          "output_type": "stream",
          "name": "stderr",
          "text": [
            "Downloading result: 100%|██████████| 1.62k/1.62k [00:00<00:00, 6.00MB/s]\n"
          ]
        },
        {
          "output_type": "display_data",
          "data": {
            "text/plain": [
              "\u001b[3m              Model's antonym logprobs, with zero-shot h-intervention              \u001b[0m\n",
              "\u001b[3m                     (green = intervention improves accuracy)                      \u001b[0m\n",
              "┏━━━━━━━━━━━━━━━━━━━━━━━┳━━━━━━━━━━━━━━━━━━━┳━━━━━━━━━━━━━━━━━┳━━━━━━━━━━━━━━━━━━━┓\n",
              "┃\u001b[1m                       \u001b[0m┃\u001b[1m \u001b[0m\u001b[1mModel's logprob  \u001b[0m\u001b[1m \u001b[0m┃\u001b[1m \u001b[0m\u001b[1mModel's logprob\u001b[0m\u001b[1m \u001b[0m┃\u001b[1m                   \u001b[0m┃\n",
              "┃\u001b[1m \u001b[0m\u001b[1mZero-shot prompt     \u001b[0m\u001b[1m \u001b[0m┃\u001b[1m \u001b[0m\u001b[1m(no intervention)\u001b[0m\u001b[1m \u001b[0m┃\u001b[1m \u001b[0m\u001b[1m(intervention) \u001b[0m\u001b[1m \u001b[0m┃\u001b[1m \u001b[0m\u001b[1mChange in logprob\u001b[0m\u001b[1m \u001b[0m┃\n",
              "┡━━━━━━━━━━━━━━━━━━━━━━━╇━━━━━━━━━━━━━━━━━━━╇━━━━━━━━━━━━━━━━━╇━━━━━━━━━━━━━━━━━━━┩\n",
              "│  minimum -> maximum   │ -2.70             │ -0.62           │ \u001b[1;32m+2.09\u001b[0m             │\n",
              "│ arrogant -> humble    │ -6.21             │ -3.93           │ \u001b[1;32m+2.28\u001b[0m             │\n",
              "│   inside -> outside   │ -3.71             │ -1.02           │ \u001b[1;32m+2.68\u001b[0m             │\n",
              "│   reject -> accept    │ -3.92             │ -1.97           │ \u001b[1;32m+1.96\u001b[0m             │\n",
              "│ invisible -> visible  │ -3.76             │ -2.00           │ \u001b[1;32m+1.76\u001b[0m             │\n",
              "│  victory -> defeat    │ -4.44             │ -2.27           │ \u001b[1;32m+2.16\u001b[0m             │\n",
              "│       up -> down      │ -3.91             │ -1.22           │ \u001b[1;32m+2.69\u001b[0m             │\n",
              "│     open -> closed    │ -5.05             │ -1.40           │ \u001b[1;32m+3.65\u001b[0m             │\n",
              "│    under -> over      │ -4.79             │ -3.43           │ \u001b[1;32m+1.36\u001b[0m             │\n",
              "│   inside -> outside   │ -3.71             │ -1.02           │ \u001b[1;32m+2.68\u001b[0m             │\n",
              "│    solid -> liquid    │ -5.54             │ -3.03           │ \u001b[1;32m+2.51\u001b[0m             │\n",
              "│ optimist -> pessimist │ -6.42             │ -3.38           │ \u001b[1;32m+3.05\u001b[0m             │\n",
              "│    noisy -> quiet     │ -4.22             │ -3.35           │ \u001b[1;32m+0.87\u001b[0m             │\n",
              "│   guilty -> innocent  │ -4.94             │ -2.72           │ \u001b[1;32m+2.23\u001b[0m             │\n",
              "│   answer -> question  │ -5.14             │ -3.95           │ \u001b[1;32m+1.19\u001b[0m             │\n",
              "│       on -> off       │ -7.04             │ -4.37           │ \u001b[1;32m+2.66\u001b[0m             │\n",
              "│   junior -> senior    │ -2.23             │ -1.06           │ \u001b[1;32m+1.17\u001b[0m             │\n",
              "│    loose -> tight     │ -5.53             │ -2.96           │ \u001b[1;32m+2.57\u001b[0m             │\n",
              "│ introduce -> remove   │ -7.47             │ -6.16           │ \u001b[1;32m+1.32\u001b[0m             │\n",
              "│ innocent -> guilty    │ -2.86             │ -1.66           │ \u001b[1;32m+1.20\u001b[0m             │\n",
              "└───────────────────────┴───────────────────┴─────────────────┴───────────────────┘\n"
            ],
            "text/html": [
              "<pre style=\"white-space:pre;overflow-x:auto;line-height:normal;font-family:Menlo,'DejaVu Sans Mono',consolas,'Courier New',monospace\"><span style=\"font-style: italic\">              Model's antonym logprobs, with zero-shot h-intervention              </span>\n",
              "<span style=\"font-style: italic\">                     (green = intervention improves accuracy)                      </span>\n",
              "┏━━━━━━━━━━━━━━━━━━━━━━━┳━━━━━━━━━━━━━━━━━━━┳━━━━━━━━━━━━━━━━━┳━━━━━━━━━━━━━━━━━━━┓\n",
              "┃<span style=\"font-weight: bold\">                       </span>┃<span style=\"font-weight: bold\"> Model's logprob   </span>┃<span style=\"font-weight: bold\"> Model's logprob </span>┃<span style=\"font-weight: bold\">                   </span>┃\n",
              "┃<span style=\"font-weight: bold\"> Zero-shot prompt      </span>┃<span style=\"font-weight: bold\"> (no intervention) </span>┃<span style=\"font-weight: bold\"> (intervention)  </span>┃<span style=\"font-weight: bold\"> Change in logprob </span>┃\n",
              "┡━━━━━━━━━━━━━━━━━━━━━━━╇━━━━━━━━━━━━━━━━━━━╇━━━━━━━━━━━━━━━━━╇━━━━━━━━━━━━━━━━━━━┩\n",
              "│  minimum -&gt; maximum   │ -2.70             │ -0.62           │ <span style=\"color: #008000; text-decoration-color: #008000; font-weight: bold\">+2.09</span>             │\n",
              "│ arrogant -&gt; humble    │ -6.21             │ -3.93           │ <span style=\"color: #008000; text-decoration-color: #008000; font-weight: bold\">+2.28</span>             │\n",
              "│   inside -&gt; outside   │ -3.71             │ -1.02           │ <span style=\"color: #008000; text-decoration-color: #008000; font-weight: bold\">+2.68</span>             │\n",
              "│   reject -&gt; accept    │ -3.92             │ -1.97           │ <span style=\"color: #008000; text-decoration-color: #008000; font-weight: bold\">+1.96</span>             │\n",
              "│ invisible -&gt; visible  │ -3.76             │ -2.00           │ <span style=\"color: #008000; text-decoration-color: #008000; font-weight: bold\">+1.76</span>             │\n",
              "│  victory -&gt; defeat    │ -4.44             │ -2.27           │ <span style=\"color: #008000; text-decoration-color: #008000; font-weight: bold\">+2.16</span>             │\n",
              "│       up -&gt; down      │ -3.91             │ -1.22           │ <span style=\"color: #008000; text-decoration-color: #008000; font-weight: bold\">+2.69</span>             │\n",
              "│     open -&gt; closed    │ -5.05             │ -1.40           │ <span style=\"color: #008000; text-decoration-color: #008000; font-weight: bold\">+3.65</span>             │\n",
              "│    under -&gt; over      │ -4.79             │ -3.43           │ <span style=\"color: #008000; text-decoration-color: #008000; font-weight: bold\">+1.36</span>             │\n",
              "│   inside -&gt; outside   │ -3.71             │ -1.02           │ <span style=\"color: #008000; text-decoration-color: #008000; font-weight: bold\">+2.68</span>             │\n",
              "│    solid -&gt; liquid    │ -5.54             │ -3.03           │ <span style=\"color: #008000; text-decoration-color: #008000; font-weight: bold\">+2.51</span>             │\n",
              "│ optimist -&gt; pessimist │ -6.42             │ -3.38           │ <span style=\"color: #008000; text-decoration-color: #008000; font-weight: bold\">+3.05</span>             │\n",
              "│    noisy -&gt; quiet     │ -4.22             │ -3.35           │ <span style=\"color: #008000; text-decoration-color: #008000; font-weight: bold\">+0.87</span>             │\n",
              "│   guilty -&gt; innocent  │ -4.94             │ -2.72           │ <span style=\"color: #008000; text-decoration-color: #008000; font-weight: bold\">+2.23</span>             │\n",
              "│   answer -&gt; question  │ -5.14             │ -3.95           │ <span style=\"color: #008000; text-decoration-color: #008000; font-weight: bold\">+1.19</span>             │\n",
              "│       on -&gt; off       │ -7.04             │ -4.37           │ <span style=\"color: #008000; text-decoration-color: #008000; font-weight: bold\">+2.66</span>             │\n",
              "│   junior -&gt; senior    │ -2.23             │ -1.06           │ <span style=\"color: #008000; text-decoration-color: #008000; font-weight: bold\">+1.17</span>             │\n",
              "│    loose -&gt; tight     │ -5.53             │ -2.96           │ <span style=\"color: #008000; text-decoration-color: #008000; font-weight: bold\">+2.57</span>             │\n",
              "│ introduce -&gt; remove   │ -7.47             │ -6.16           │ <span style=\"color: #008000; text-decoration-color: #008000; font-weight: bold\">+1.32</span>             │\n",
              "│ innocent -&gt; guilty    │ -2.86             │ -1.66           │ <span style=\"color: #008000; text-decoration-color: #008000; font-weight: bold\">+1.20</span>             │\n",
              "└───────────────────────┴───────────────────┴─────────────────┴───────────────────┘\n",
              "</pre>\n"
            ]
          },
          "metadata": {}
        }
      ],
      "source": [
        "dataset = ICLDataset(ANTONYM_PAIRS, size=20, n_prepended=3, seed=0)\n",
        "zero_shot_dataset = ICLDataset(ANTONYM_PAIRS, size=20, n_prepended=0, seed=1)\n",
        "\n",
        "correct_logprobs_zero_shot, correct_logprobs_intervention = calculate_h_and_intervene_logprobs(model, dataset, zero_shot_dataset, layer=layer)\n",
        "\n",
        "display_model_logprobs_on_h_intervention(zero_shot_dataset, correct_logprobs_zero_shot, correct_logprobs_intervention)"
      ],
      "id": "a823d788"
    },
    {
      "cell_type": "markdown",
      "metadata": {
        "id": "e99652a3"
      },
      "source": [
        "# 3️⃣ Function Vectors"
      ],
      "id": "e99652a3"
    },
    {
      "cell_type": "markdown",
      "metadata": {
        "id": "1LeHPthEiXLj"
      },
      "source": [
        "In this section, we'll replicate the crux of the paper's results, by identifying a set of attention heads whose outputs have a large effect on the model's ICL performance, and showing we can patch with these vectors to induce task-solving behaviour on randomly shuffled prompts.\n",
        "\n",
        "We'll also learn how to use `nnsight` for multi-token generation, and steer the model's behaviour. There exist exercises where you can try this out for different tasks, e.g. the Country-Capitals task, where you'll be able to steer the model to complete prompts like `\"When you think of Netherlands, you usually think of\"` by talking about Amsterdam.\n",
        "\n",
        "(Note - this section structurally follows sections 2.2, 2.3 and some of section 3 from the function vectors paper).\n",
        "\n",
        "> ##### Learning Objectives\n",
        ">\n",
        "> * Define a metric to measure the causal effect of each attention head on the correct performance of the in-context learning task\n",
        "> * Understand how to rearrange activations in a model during an `nnsight` forward pass, to extract activations corresponding to a particular attention head\n",
        "> * Learn how to use `nnsight` for multi-token generation\n",
        "\n",
        "<br>\n",
        "\n",
        "---"
      ],
      "id": "1LeHPthEiXLj"
    },
    {
      "cell_type": "markdown",
      "metadata": {
        "id": "a1a9deb5"
      },
      "source": [
        "Here, we'll move from thinking about residual stream states to thinking about the **output of specific attention heads.**\n",
        "\n"
      ],
      "id": "a1a9deb5"
    },
    {
      "cell_type": "markdown",
      "metadata": {
        "id": "wXRQ6pFtvABD"
      },
      "source": [
        "## Extracting & using FVs"
      ],
      "id": "wXRQ6pFtvABD"
    },
    {
      "cell_type": "markdown",
      "metadata": {
        "id": "X-aL04b3LOrx"
      },
      "source": [
        "### A note on `out_proj`\n",
        "\n",
        "First, a bit of a technical complication. Most HuggingFace models don't have the nice attention head representations. What we have is the linear layer `out_proj` which implicitly combines the \"projection per attention head\" and the \"sum over attention head\" operations (if you can't see how this is possible, see the section \"Attention Heads are Independent and Additive\" from Anthropic's [Mathematical Framework](https://transformer-circuits.pub/2021/framework/index.html)).\n",
        "\n",
        "<img src=\"https://raw.githubusercontent.com/callummcdougall/computational-thread-art/master/example_images/misc/rearrange-output-2.png\" width=\"950\">\n",
        "\n",
        "This presents some question for us, when it comes to causal interventions on attention heads. Use the dropdowns below to read them answer these questions (they'll be important for the coming exercises).\n",
        "\n",
        "<br>\n",
        "\n",
        "<details>\n",
        "<summary>If we want to do a causal intervention on a particular head, should we intervene on <code>z</code> (the input of <code>out_proj</code>) or on <code>attn_output</code> (the output of <code>out_proj</code>) ?</summary>\n",
        "\n",
        "We should intervene on `z`, because we can just rearrange the `z` tensor of shape `(batch, seq, d_model)` into `(batch, seq, n_heads, d_head)`, in other words separating out all the heads. On the other hand, we can't do this with the `attn_output` because it's *already* summed over heads and we can't separate them out.\n",
        "\n",
        "</details>\n",
        "\n",
        "<br>\n",
        "\n",
        "<details>\n",
        "<summary>How could we get the <code>attn_output</code> vector for a single head, if we had the ability to accss model weights within our context managers?</summary>\n",
        "\n",
        "We can take a slice of the `z` tensor corresponding to a single attention head:\n",
        "\n",
        "```python\n",
        "z.reshape(batch, seq, n_heads, d_head)[:, :, head_idx]\n",
        "```\n",
        "\n",
        "and we can take a slice of the `out_proj` weight matrix corresponding to a single attention head (remember that PyTorch stores linear layers in the shape `(out_feats, in_feats)`):\n",
        "\n",
        "```python\n",
        "out_proj.weight.rearrange(d_model, n_heads, d_head)[:, head_idx]\n",
        "```\n",
        "\n",
        "then finally we can multiply these together.\n",
        "\n",
        "</details>\n",
        "\n",
        "<br>\n",
        "\n",
        "<details>\n",
        "<summary>How could we get the <code>attn_output</code> vector for a single head, if we </b>didn't have</b> the ability to accss model weights within our context managers? (This is currently the case for <code>nnsight</code>, since having access to the weights could allow users to change them!).</summary>\n",
        "\n",
        "We can be a bit clever, and ablate certain heads in the `z` vector before passing it through the output projection:\n",
        "\n",
        "```python\n",
        "# ablate all heads except #2 (using a cloned activation)\n",
        "heads_to_ablate = [0, 1, 3, 4, ...]\n",
        "z_ablated = z.reshape(batch, seq, n_heads, d_head).clone()\n",
        "z_ablated[:, :, heads_to_ablate] = 0\n",
        "\n",
        "# save the output\n",
        "attn_head_output = out_proj(z_ablated).save()\n",
        "```\n",
        "\n",
        "Illustration:\n",
        "\n",
        "<img src=\"https://raw.githubusercontent.com/callummcdougall/computational-thread-art/master/example_images/misc/rearrange-output-ablated-2.png\" width=\"950\">\n",
        "\n",
        "Note - this would actually fail if `out_proj` had a bias, because we want to just get an attention head's output, not the bias term as well. But if you look at the [documentation page](https://huggingface.co/transformers/v4.11.3/_modules/transformers/models/gptj/modeling_gptj.html) you'll see that `out_proj` doesn't have a bias term, so we're all good!\n",
        "\n",
        "</details>"
      ],
      "id": "X-aL04b3LOrx"
    },
    {
      "cell_type": "markdown",
      "metadata": {
        "id": "729112d6"
      },
      "source": [
        "### Exercise - implement `calculate_fn_vectors_and_intervene`\n",
        "\n",
        "This is probably the most important function in today's exercises. Implementing it will be pretty similar to the previous function `calculate_h_and_intervene`, but:\n",
        "\n",
        "* Rather than extracting the value of the residual stream `h` at some particular layer, you'll be extracting the output of the attention heads: iterating over each layer and each head in the model.\n",
        "    * You'll only need to run one clean forward pass to compute all these values, but you'll need to run a separate corrupted forward pass for each head.\n",
        "* Rather than your 2 different datasets being (dataset, zero-shot dataset), your two datasets will be (dataset, corrupted version of that same dataset).\n",
        "    * You can use the method `create_corrupted_dataset` method of the `ICLDataset` class for this.\n",
        "\n",
        "<img src=\"https://raw.githubusercontent.com/callummcdougall/computational-thread-art/master/example_images/misc/cie-intervention.png\" width=\"1200\">\n",
        "\n",
        "Before you actually start writing the code, it might be helpful to answer the following:\n",
        "\n",
        "<details>\n",
        "<summary>How many different <code>invoker</code> objects will you need in total?</summary>\n",
        "\n",
        "You'll need `(N_LAYERS * N_HEADS) + 2`. To explain:\n",
        "\n",
        "- One for the clean prompts, which you'll extract internal activations from and patch them into corrupted prompts,\n",
        "- One for the corrupted prompts, which you don't intervene on,\n",
        "- One for the corrupted prompts **for every attention head**, which you'll patch into using the clean run activations.\n",
        "\n",
        "</details>\n",
        "\n",
        "<details>\n",
        "<summary>Which proxy outputs (if any) will you need to use <code>.save()</code> on, in this function?</summary>\n",
        "\n",
        "You don't need to `.save()` the function vectors you're extracting from the model's internals, because these will only be used for causal interventions within the context manager.\n",
        "\n",
        "The only thing you need to save is the correct token logprobs for (1) the corrupted forward pass where we don't intervene, and (2) each corrupted forward pass where we do intervene on one of the heads. In other words, you'll need to save `(N_LAYERS * N_HEADS) + 1` tensors in total.\n",
        "\n",
        "</details>\n",
        "\n",
        "A few other notes:\n",
        "\n",
        "* We've added a `layers` argument, so you can iterate through different layers of the model (i.e. running the model with `layers = [3, 4, 5]` will only test the intervention on the attention heads in layers 3, 4 and 5). This is helpful if you're getting memory errors when trying to run all layers at once (remember we have 24 layers, 16 heads per layer, so even with few prompts per head this adds up fast!).\n",
        "    * We've included code for you below showing how you can call the function multiple times, clearing memory between each run, then combine the results.\n",
        "* When it comes to intervening, you can set the value of a reshaped tensor, i.e. `tensor.reshape(*new_shape)[index] = new_value` will change the values in `tensor` without actually reshaping it (for more on this, see the documentation for [`torch.Tensor.view`](https://pytorch.org/docs/stable/generated/torch.Tensor.view.html)).\n",
        "* It's good practice to insert a lot of assert statements in your code, to check the shapes are what you expect.\n",
        "* If you're confused about dimensions, use `einops.rearrange` rather than `.reshape` - it's like using code annotations within your actual code!\n",
        "\n",
        "One last note - **if this function is proving impossible to run for computational reasons, you can skip the exercise and move on to the next ones. They don't rely on this function working.** However, you should definitely at least read & understand the solution."
      ],
      "id": "729112d6"
    },
    {
      "cell_type": "code",
      "execution_count": null,
      "metadata": {
        "colab": {
          "background_save": true
        },
        "id": "fb24d120"
      },
      "outputs": [],
      "source": [
        "def calculate_fn_vectors_and_intervene(\n",
        "    model: LanguageModel,\n",
        "    dataset: ICLDataset,\n",
        "    layers: Optional[List[int]] = None,\n",
        ") -> Float[Tensor, \"layers heads\"]:\n",
        "    '''\n",
        "    Returns a tensor of shape (layers, heads), containing the CIE for each head.\n",
        "\n",
        "    Inputs:\n",
        "        model: LanguageModel\n",
        "            the transformer you're doing this computation with\n",
        "        dataset: ICLDataset\n",
        "            the dataset of clean prompts from which we'll extract the function vector (we'll also create a\n",
        "            corrupted version of this dataset for interventions)\n",
        "        layers: Optional[List[int]]\n",
        "            the layers which this function will calculate the score for (if None, we assume all layers)\n",
        "    '''\n",
        "    pass"
      ],
      "id": "fb24d120"
    },
    {
      "cell_type": "markdown",
      "metadata": {
        "id": "pqTZb6tOqUUQ"
      },
      "source": [
        "<details>\n",
        "<summary>Solution (Only see after you gave it a good try!)</summary>\n",
        "\n",
        "```python\n",
        "def calculate_fn_vectors_and_intervene(\n",
        "    model: LanguageModel,\n",
        "    dataset: ICLDataset,\n",
        "    layers: Optional[List[int]] = None,\n",
        ") -> Float[Tensor, \"layers heads\"]:\n",
        "    '''\n",
        "    Returns a tensor of shape (layers, heads), containing the CIE for each head.\n",
        "\n",
        "    Inputs:\n",
        "        model: LanguageModel\n",
        "            the transformer you're doing this computation with\n",
        "        dataset: ICLDataset\n",
        "            the dataset of clean prompts from which we'll extract the function vector (we'll also create a\n",
        "            corrupted version of this dataset for interventions)\n",
        "        layers: Optional[List[int]]\n",
        "            the layers which this function will calculate the score for (if None, we assume all layers)\n",
        "    '''\n",
        "    layers = range(model.config.n_layer) if (layers is None) else layers\n",
        "    heads = range(model.config.n_head)\n",
        "    n_heads = len(layers) * len(heads)\n",
        "\n",
        "    # Get corrupted dataset\n",
        "    corrupted_dataset = dataset.create_corrupted_dataset()\n",
        "    N = len(dataset)\n",
        "\n",
        "    # Get correct token ids, so we can get correct token logprobs\n",
        "    correct_completion_ids = [toks[0] for toks in tokenizer(dataset.completions)[\"input_ids\"]]\n",
        "\n",
        "    with model.forward(remote=REMOTE) as runner:\n",
        "\n",
        "        # Run a forward pass on clean prompts, where we store attention head outputs\n",
        "        z_dict = {}\n",
        "        with runner.invoke(dataset.prompts) as invoker:\n",
        "            for layer in layers:\n",
        "                # Get hidden states, reshape to get head dimension, store the mean tensor\n",
        "                z = model.transformer.h[layer].attn.out_proj.input[0][0][:, -1]\n",
        "                z_reshaped = z.reshape(N, N_HEADS, D_HEAD).mean(dim=0)\n",
        "                for head in heads:\n",
        "                    z_dict[(layer, head)] = z_reshaped[head]\n",
        "            # Get correct token logprobs\n",
        "            logits_clean = model.lm_head.output[:, -1]\n",
        "\n",
        "        # Run a forward pass on corrupted prompts, where we don't intervene or store activations (just so we can\n",
        "        # get the correct-token logprobs to compare with our intervention)\n",
        "        with runner.invoke(corrupted_dataset.prompts) as invoker:\n",
        "            logits = model.lm_head.output[:, -1]\n",
        "            correct_logprobs_corrupted = logits.log_softmax(dim=-1)[t.arange(N), correct_completion_ids].save()\n",
        "\n",
        "        # For each head, run a forward pass on corrupted prompts (here we need multiple different forward passes,\n",
        "        # because we're doing different interventions each time)\n",
        "        correct_logprobs_dict = {}\n",
        "        for layer in layers:\n",
        "            for head in heads:\n",
        "                with runner.invoke(corrupted_dataset.prompts) as invoker:\n",
        "                    # Get hidden states, reshape to get head dimension, then set it to the a-vector\n",
        "                    z = model.transformer.h[layer].attn.out_proj.input[0][0][:, -1]\n",
        "                    z.reshape(N, N_HEADS, D_HEAD)[:, head] = z_dict[(layer, head)]\n",
        "                    # Get logprobs at the end, which we'll compare with our corrupted logprobs\n",
        "                    logits = model.lm_head.output[:, -1]\n",
        "                    correct_logprobs_dict[(layer, head)] = logits.log_softmax(dim=-1)[t.arange(N), correct_completion_ids].save()\n",
        "\n",
        "    # Get difference between intervention logprobs and corrupted logprobs, and take mean over batch dim\n",
        "    all_correct_logprobs_intervention = einops.rearrange(\n",
        "        t.stack([v.value for v in correct_logprobs_dict.values()]),\n",
        "        \"(layers heads) batch -> layers heads batch\",\n",
        "        layers = len(layers),\n",
        "    )\n",
        "    logprobs_diff = all_correct_logprobs_intervention - correct_logprobs_corrupted.value # shape [layers heads batch]\n",
        "\n",
        "    # Return mean effect of intervention, over the batch dimension\n",
        "    return logprobs_diff.mean(dim=-1)\n",
        "```"
      ],
      "id": "pqTZb6tOqUUQ"
    },
    {
      "cell_type": "markdown",
      "metadata": {
        "id": "a2957f70"
      },
      "source": [
        "As mentioned, the code below calls the function multiple times separately and combines the results.\n",
        "\n",
        "When you run this code & plot the results, you should replicate Figure 3(a) in the Function Vectors paper (more or less). If the code is taking too long to run, we recommend just choosing a single layer to run, which has a distinctive pattern that can be compared to the paper's figure (e.g. layer 8, since head L8H1 has a much higher score than all the other heads in this layer)."
      ],
      "id": "a2957f70"
    },
    {
      "cell_type": "code",
      "execution_count": null,
      "metadata": {
        "colab": {
          "background_save": true
        },
        "id": "02567692"
      },
      "outputs": [],
      "source": [
        "imshow(\n",
        "    results.T,\n",
        "    title = \"Average indirect effect of function-vector intervention on antonym task\",\n",
        "    width = 1000,\n",
        "    height = 600,\n",
        "    labels = {\"x\": \"Layer\", \"y\": \"Head\"},\n",
        "    aspect = \"equal\",\n",
        ")"
      ],
      "id": "02567692"
    },
    {
      "cell_type": "code",
      "execution_count": null,
      "metadata": {
        "colab": {
          "background_save": true
        },
        "id": "da3c6a95"
      },
      "outputs": [],
      "source": [
        "dataset = ICLDataset(ANTONYM_PAIRS, size=4, n_prepended=2)\n",
        "\n",
        "def batch_process_layers(n_layers, batch_size):\n",
        "    for i in range(0, n_layers, batch_size):\n",
        "        yield range(n_layers)[i:i + batch_size]\n",
        "\n",
        "results = t.empty((0, N_HEADS), device=device)\n",
        "\n",
        "# If this fails to run, reduce the batch size so the fwd passes are split up more\n",
        "for layers in batch_process_layers(N_LAYERS, batch_size=7):\n",
        "\n",
        "    t.cuda.empty_cache()\n",
        "\n",
        "    print(f\"Computing layers in {layers} ...\", end=\"\")\n",
        "    t0 = time.time()\n",
        "    results = t.concat([results, calculate_fn_vectors_and_intervene(model, dataset, layers).to(device)])\n",
        "    print(f\"finished in {time.time()-t0:.2f} secods.\")"
      ],
      "id": "da3c6a95"
    },
    {
      "cell_type": "markdown",
      "metadata": {
        "id": "77157855"
      },
      "source": [
        "<details>\n",
        "<summary>Use this dropdown to see the figure you should get when doing this replication (very similar to the paper figure, with some small differences)</summary>\n",
        "\n",
        "<img src=\"https://raw.githubusercontent.com/callummcdougall/computational-thread-art/master/example_images/misc/main-result.png\" width=\"800\">\n",
        "\n",
        "</details>"
      ],
      "id": "77157855"
    },
    {
      "cell_type": "markdown",
      "metadata": {
        "id": "cedb0f13"
      },
      "source": [
        "### Exercise - calculate the function vector\n",
        "\n",
        "Your next task is to actually calculate and return the function vector, so we can do a few experiments with it. The function vector is the sum of the outputs of all the attention heads we found using the previous function (i.e. the sum of all of the vectors these heads write to the residual stream), averaged over the prompts in our dataset.\n",
        "\n",
        "There's a difficulty here - rather than just getting the `z` vectors, we're actually trying to get the `attn_out` vectors, but *before* they're summed over heads. As we discussed previously, this is a bit tricky to do for the model we're working with, because the `out_proj` linear map actually does the \"project up\" and \"sum over heads\" operations simultaneously. It would be nice to just take a slice of the `out_proj` matrix and multiply it with a slice of the `z` vector, but the `nnsight` library doesn't yet allow users to access weights directly (for security reasons). To understand how we can extract the `attn_out` vector for a head separately without accessing the underlying weights, you should go back to read the subsection **A note on `out_proj`** at the start of this section."
      ],
      "id": "cedb0f13"
    },
    {
      "cell_type": "code",
      "execution_count": null,
      "metadata": {
        "colab": {
          "background_save": true
        },
        "id": "09526600"
      },
      "outputs": [],
      "source": [
        "def calculate_fn_vector(\n",
        "    model: LanguageModel,\n",
        "    dataset: ICLDataset,\n",
        "    head_list: List[Tuple[int, int]],\n",
        ")  -> Float[Tensor, \"d_model\"]:\n",
        "    '''\n",
        "    Returns a vector of length `d_model`, containing the sum of vectors written to the residual stream\n",
        "    by the attention heads in `head_list`, averaged over all inputs in `dataset`.\n",
        "\n",
        "    Inputs:\n",
        "        model: LanguageModel\n",
        "            the transformer you're doing this computation with\n",
        "        dataset: ICLDataset\n",
        "            the dataset of clean prompts from which we'll extract the function vector (we'll also create a\n",
        "            corrupted version of this dataset for interventions)\n",
        "        head_list: List[Tuple[int, int]]\n",
        "            list of attention heads we're calculating the function vector from\n",
        "    '''\n",
        "    pass"
      ],
      "id": "09526600"
    },
    {
      "cell_type": "markdown",
      "metadata": {
        "id": "t2RMy1PbrPjv"
      },
      "source": [
        "<details>\n",
        "<summary>Solution (Only see after you gave it a good try!)</summary>\n",
        "\n",
        "```python\n",
        "def calculate_fn_vector(\n",
        "    model: LanguageModel,\n",
        "    dataset: ICLDataset,\n",
        "    head_list: List[Tuple[int, int]],\n",
        ")  -> Float[Tensor, \"d_model\"]:\n",
        "    '''\n",
        "    Returns a vector of length `d_model`, containing the sum of vectors written to the residual stream\n",
        "    by the attention heads in `head_list`, averaged over all inputs in `dataset`.\n",
        "\n",
        "    Inputs:\n",
        "        model: LanguageModel\n",
        "            the transformer you're doing this computation with\n",
        "        dataset: ICLDataset\n",
        "            the dataset of clean prompts from which we'll extract the function vector (we'll also create a\n",
        "            corrupted version of this dataset for interventions)\n",
        "        head_list: List[Tuple[int, int]]\n",
        "            list of attention heads we're calculating the function vector from\n",
        "    '''\n",
        "    # Turn head_list into a dict of {layer: heads we need in this layer}\n",
        "    head_dict = defaultdict(set)\n",
        "    for layer, head in head_list:\n",
        "        head_dict[layer].add(head)\n",
        "\n",
        "    fn_vector_list = []\n",
        "\n",
        "    with model.trace(remote=REMOTE) as runner:\n",
        "\n",
        "        with runner.invoke(dataset.prompts) as invoker:\n",
        "            for layer, head_list in head_dict.items():\n",
        "\n",
        "                # Get the output projection layer\n",
        "                out_proj = model.transformer.h[layer].attn.out_proj\n",
        "\n",
        "                # Get the mean output projection input (note, since this is the mean, so we don't need to\n",
        "                # worry about changing the values of this tensor having downstream effects)\n",
        "                hidden_states = out_proj.input[0][0][:, -1].mean(dim=0)\n",
        "                assert hidden_states.shape == (D_MODEL,)\n",
        "\n",
        "                # Zero-ablate all heads which aren't in our list, then get the output (which\n",
        "                # will be the sum over the heads we actually do want!)\n",
        "                heads_to_ablate = set(range(N_HEADS)) - head_dict[layer]\n",
        "                for head in heads_to_ablate:\n",
        "                    hidden_states.reshape(N_HEADS, D_HEAD)[head] = 0.0\n",
        "\n",
        "                # Now that we've zeroed all unimportant heads, get the output & add it to the list\n",
        "                # (we need a single batch dimension so we can use `out_proj`)\n",
        "                out_proj_output = out_proj(hidden_states.unsqueeze(0)).squeeze()\n",
        "                fn_vector_list.append(out_proj_output.save())\n",
        "\n",
        "    # We sum all attention head outputs to get our function vector\n",
        "    fn_vector = sum([v.value for v in fn_vector_list])\n",
        "\n",
        "    assert fn_vector.shape == (D_MODEL,)\n",
        "    return fn_vector\n",
        "```"
      ],
      "id": "t2RMy1PbrPjv"
    },
    {
      "cell_type": "markdown",
      "metadata": {
        "id": "f5ed78a8"
      },
      "source": [
        "## Multi-token generation\n",
        "\n",
        "We're now going to replicate some of the results in Table 3, in the paper:\n",
        "\n",
        "<img src=\"https://raw.githubusercontent.com/callummcdougall/computational-thread-art/master/example_images/misc/tab3.png\" width=\"700\">\n",
        "\n",
        "This will involve doing something we haven't done before - **intervening on multi-token prompt generation**.\n",
        "\n",
        "Most of the interpretability exercises in this chapter have just consisted of running single forward passes, rather than autoregressive text generation. But we're trying something different here: we're adding the function vector to the final sequence position at each forward pass during text generation, and seeing if we can get the model to output a sentence with a different meaning.\n",
        "\n",
        "The results of Table 3 came from adding the function vector to the residual stream at the final sequence position of the original prompt, **and the final sequence position for each subsequent generation.** The reason we do this is to guide the model's behaviour over time. Our hypothesis is that the function vector induces \"next-token antonym behaviour\" (because it was calculated by averaging attention head outputs at the sequence position before the model made its antonym prediction in the ICL prompts).\n",
        "\n",
        "### Using `nnsight` for multi-token generation\n",
        "\n",
        "Previously, our context managers have looked like:\n",
        "\n",
        "```python\n",
        "with model.trace(remote=True) as runner:\n",
        "    with runner.invoke(prompt) as invoker:\n",
        "\n",
        "        # Do stuff to the model's internals\n",
        "```\n",
        "\n",
        "But for multi-token generation, we'll be using the `generate` method rather than `trace`. Our context managers will look like:\n",
        "\n",
        "```python\n",
        "with model.generate(max_new_tokens=max_new_tokens, remote=True) as generator:\n",
        "    with generator.invoke(prompt) as invoker:\n",
        "\n",
        "        for n in range(max_new_tokens):\n",
        "            # Do stuff to the model's internals, on the n-th forward pass\n",
        "            invoker.next()\n",
        "```\n",
        "\n",
        "The line `invoker.next()` denotes that the following interventions should be applied to the subsequent generations.\n",
        "\n",
        "Mostly, everything you learned during single-token generation generalizes to the multi-token case. For example, using `.save()` still saves proxies outside the context managers (although make sure that you don't use the same variable names over different generations, otherwise you'll overwrite them - it's easier to store your saved proxies in e.g. a list or dict).\n",
        "\n",
        "### Caching\n",
        "\n",
        "One important concept we've left out of discussions so far is **caching**. To speed up inference, transformer models perform **key-value caching** to speed up text generation. This means that the time taken to generate $n$ tokens is ***much*** less than $n$ times longer than generating a single token. See [this blog post](https://kipp.ly/transformer-inference-arithmetic/) for more on transformer inference arithmetic.\n",
        "\n",
        "When caching takes place, and we're doing causal interventions, we have to be careful that the caching won't override our causal interventions. Sometimes caching has to be disabled to make sure that our causal intervention works correctly. For example, if we wanted to perform the intervention \"add the function vector to *only* the final sequence position of the prompt for each token we generate\" then we'd have to disable caching (since previous forward passes would contain cached values where we intervened on a sequence position which is no longer the final sequence position). However, here we're performing the intervention \"add the function vector to the final token of the original prompt, and to *all subsequent sequence positions*\", meaning enabling caching (the default behaviour) will give us the right causal intervention.\n",
        "\n",
        "(Note - if this seems confusing, please ask a TA or send a message in Slack.)\n",
        "\n",
        "### A few more notes\n",
        "\n",
        "* The object `generator.output` is by default a tensor which contains the model's token ID completions (not the logits).\n",
        "* By default the `generate` method will generate tokens greedily, i.e. always taking the maximum-probability token at each step. For now, we don't need to worry about changing this behaviour."
      ],
      "id": "f5ed78a8"
    },
    {
      "cell_type": "markdown",
      "metadata": {
        "id": "0b984451"
      },
      "source": [
        "### Exercise - intervene with function vector, in multi-token generation\n",
        "\n",
        "\n",
        "You should now fill in the function `intervene_with_fn_vector` below. This will take a function vector (calculated from the function you wrote above), as well as a few other arguments (see docstring), and return the model's string completion on the given prompt template.\n",
        "\n",
        "We hope to observe results qualitatively like the ones in Table 3, i.e. having the model define a particular word as its antonym."
      ],
      "id": "0b984451"
    },
    {
      "cell_type": "code",
      "execution_count": null,
      "metadata": {
        "colab": {
          "background_save": true
        },
        "id": "d21cbe74"
      },
      "outputs": [],
      "source": [
        "def intervene_with_fn_vector(\n",
        "    model: LanguageModel,\n",
        "    word: str,\n",
        "    layer: int,\n",
        "    fn_vector: Float[Tensor, \"d_model\"],\n",
        "    prompt_template = 'The word \"{x}\" means',\n",
        "    n_tokens: int = 5,\n",
        ") -> Tuple[str, str]:\n",
        "    '''\n",
        "    Intervenes with a function vector, by adding it at the last sequence position of a generated prompt.\n",
        "\n",
        "    Inputs:\n",
        "        model: LanguageModel\n",
        "            the transformer you're doing this computation with\n",
        "        word: str\n",
        "            The word which is substituted into the prompt template, via prompt_template.format(x=word)\n",
        "        layer: int\n",
        "            The layer we'll make the intervention (by adding the function vector)\n",
        "        fn_vector: Float[Tensor, \"d_model\"]\n",
        "            The vector we'll add to the final sequence position for each new token to be generated\n",
        "        prompt_template:\n",
        "            The template of the prompt we'll use to produce completions\n",
        "        n_tokens: int\n",
        "            The number of additional tokens we'll generate for our unsteered / steered completions\n",
        "\n",
        "    Returns:\n",
        "        completion: str\n",
        "            The full completion (including original prompt) for the no-intervention case\n",
        "        completion_intervention: str\n",
        "            The full completion (including original prompt) for the intervention case\n",
        "    '''\n",
        "    pass"
      ],
      "id": "d21cbe74"
    },
    {
      "cell_type": "markdown",
      "metadata": {
        "id": "rAdVHBALrg33"
      },
      "source": [
        "<details>\n",
        "<summary>Solution (Only see after you gave it a good try!)</summary>\n",
        "\n",
        "```python\n",
        "def intervene_with_fn_vector(\n",
        "    model: LanguageModel,\n",
        "    word: str,\n",
        "    layer: int,\n",
        "    fn_vector: Float[Tensor, \"d_model\"],\n",
        "    prompt_template = 'The word \"{x}\" means',\n",
        "    n_tokens: int = 5,\n",
        ") -> Tuple[str, str]:\n",
        "    '''\n",
        "    Intervenes with a function vector, by adding it at the last sequence position of a generated prompt.\n",
        "\n",
        "    Inputs:\n",
        "        word: str\n",
        "            The word which is substituted into the prompt template, via prompt_template.format(x=word)\n",
        "        layer: int\n",
        "            The layer we'll make the intervention (by adding the function vector)\n",
        "        fn_vector: Float[Tensor, \"d_model\"]\n",
        "            The vector we'll add to the final sequence position for each new token to be generated\n",
        "        prompt_template:\n",
        "            The template of the prompt we'll use to produce completions\n",
        "        n_tokens: int\n",
        "            The number of additional tokens we'll generate for our unsteered / steered completions\n",
        "\n",
        "    Returns:\n",
        "        completion: str\n",
        "            The full completion (including original prompt) for the no-intervention case\n",
        "        completion_intervention: str\n",
        "            The full completion (including original prompt) for the intervention case\n",
        "    '''\n",
        "    prompt = prompt_template.format(x=word)\n",
        "\n",
        "    # pad_token_id=tokenizer.eos_token_id\n",
        "    with model.generate(max_new_tokens=n_tokens, remote=REMOTE, remote_include_output=True) as generator:\n",
        "\n",
        "        # No intervention\n",
        "        with generator.invoke(prompt) as invoker:\n",
        "\n",
        "            # We have to run `invoker.next()` until we're at the final token, then save its logits\n",
        "            for i in range(n_tokens-1):\n",
        "                invoker.next()\n",
        "\n",
        "        # Intervention\n",
        "        with generator.invoke(prompt) as invoker:\n",
        "            for i in range(n_tokens):\n",
        "\n",
        "                # Intervene with the function vector\n",
        "                hidden_states = model.transformer.h[layer].output[0]\n",
        "                hidden_states[:, -1] += fn_vector\n",
        "\n",
        "                # At the final token to be generated, save all the tokens\n",
        "                if i == n_tokens - 1:\n",
        "                    token_ids_intervention = model.lm_head.output.argmax(dim=-1).save()\n",
        "                invoker.next()\n",
        "\n",
        "    # generator is in scope because we used remote_include_output\n",
        "    completion, completion_intervention = tokenizer.batch_decode(generator.output)\n",
        "\n",
        "    return completion, completion_intervention\n",
        "```"
      ],
      "id": "rAdVHBALrg33"
    },
    {
      "cell_type": "markdown",
      "metadata": {
        "id": "b9322f62"
      },
      "source": [
        "To test your function, run the code below. You should find that the first completion seems normal, but the second completion defines a word as its antonym. If this works, congratulations - **you've just successfully induced an OOD behavioural change in a 6b-parameter model!**"
      ],
      "id": "b9322f62"
    },
    {
      "cell_type": "code",
      "execution_count": null,
      "metadata": {
        "colab": {
          "background_save": true
        },
        "id": "yI0CM30XGFXv"
      },
      "outputs": [],
      "source": [
        "# Remove \"light\" from our pairs, so it can be a holdout\n",
        "word = \"light\"\n",
        "_ANTONYM_PAIRS = [pair for pair in ANTONYM_PAIRS if word not in pair]\n",
        "\n",
        "# Define our dataset, and the attention heads we'll use\n",
        "dataset = ICLDataset(_ANTONYM_PAIRS, size=20, n_prepended=5)\n",
        "head_list = [(8, 0), (8, 1), (9, 14), (11, 0), (12, 10), (13, 12), (13, 13), (14, 9), (15, 5), (16, 14)]\n",
        "\n",
        "# Extract the function vector\n",
        "fn_vector = calculate_fn_vector(model, dataset, head_list)\n",
        "\n",
        "# Intervene with the function vector\n",
        "completion, completion_intervention = intervene_with_fn_vector(\n",
        "    model,\n",
        "    word = word,\n",
        "    layer = 9,\n",
        "    fn_vector = fn_vector,\n",
        "    prompt_template = 'The word \"{x}\" means',\n",
        "    n_tokens = 40,\n",
        ")\n",
        "\n",
        "table = Table(\"No intervention\", \"intervention\")\n",
        "table.add_row(repr(completion), repr(completion_intervention))\n",
        "rprint(table)"
      ],
      "id": "yI0CM30XGFXv"
    },
    {
      "cell_type": "markdown",
      "metadata": {
        "id": "OTSFzIAvF2U5"
      },
      "source": [
        "### Exercise - generalize results to another task (optional)\n",
        "\n",
        "In this exercise, you get to pick a task different to the antonyms task, and see if the results still hold up (for the same set of attention heads).\n",
        "\n",
        "We'll leave this exercise fairly open-ended, without any code templates for you to fill in. However, if you'd like some guidance you can use the dropdown below.\n",
        "\n",
        "<details>\n",
        "<summary>Guidance for exercise</summary>\n",
        "\n",
        "Whatever your task, you'll want to generate a new set of words. You can repurpose the `generate_dataset` function from the antonyms task, by supplying a different prompt and initial set of examples (this will require generating & using an OpenAI api key, if you haven't already), or you can just find an appropriate dataset online.\n",
        "\n",
        "When you define the `ICLDataset`, you might want to use `bidirectional=False`, if your task isn't symmetric. The antonym task is symmetric, but others (e.g. the Country-Capitals task) are not.\n",
        "\n",
        "You'll need to supply a new prompt template for the `intervene_with_fn_vector` function, but otherwise most of your code should stay the same.\n",
        "\n",
        "</details>\n"
      ],
      "id": "OTSFzIAvF2U5"
    },
    {
      "cell_type": "code",
      "execution_count": null,
      "metadata": {
        "colab": {
          "background_save": true
        },
        "id": "Ma_hz8G_Hd5X"
      },
      "outputs": [],
      "source": [
        "# YOUR CODE HERE - generalize to another task"
      ],
      "id": "Ma_hz8G_Hd5X"
    },
    {
      "cell_type": "markdown",
      "metadata": {
        "id": "ddc7a4fe"
      },
      "source": [
        "# ⭐️ Steering Vectors in GPT2-XL\n",
        "\n"
      ],
      "id": "ddc7a4fe"
    },
    {
      "cell_type": "markdown",
      "metadata": {
        "id": "BqA1xq5YieY6"
      },
      "source": [
        "Here, we discuss a different but related set of research: Alex Turner's work on steering vectors. This also falls under the umbrella of \"interventions in the residual stream using vectors found with forward pass (non-SGD) based methods in order to alter behaviour\", but it has a different setup, objectives, and approach.\n",
        "\n",
        "> ##### Learning Objectives\n",
        ">\n",
        "> * Understand the goals & main results from Alex Turner et al's work on steering vectors\n",
        "> * Reproduce the changes in behaviour described in their initial post\n",
        "\n",
        "<br>\n",
        "\n",
        "---"
      ],
      "id": "BqA1xq5YieY6"
    },
    {
      "cell_type": "markdown",
      "metadata": {
        "id": "zhAxp1SUz7rs"
      },
      "source": [
        "## Steering model behaviour\n"
      ],
      "id": "zhAxp1SUz7rs"
    },
    {
      "cell_type": "markdown",
      "metadata": {
        "id": "e17be93f"
      },
      "source": [
        "\n",
        "In the final non-bonus exercise of the previous section, we touched on the idea of using function vectors to induce behavioural changes in the model's completions, rather than specifically making it solve zero-shot or corrupted prompts with the right completion. In these next exercises, we'll explore this kind of work in more detail. We'll be primarily using Turner et al's work on [Steering GPT-2-XL by adding an activation vector](https://www.lesswrong.com/posts/5spBue2z2tw4JuDCx/steering-gpt-2-xl-by-adding-an-activation-vector).\n",
        "\n",
        "Summary of the way in which this work differs from the function vector work we've done so far:\n",
        "\n",
        "* Function vectors focused on the model performing a particular function (e.g. mapping a word to its opposite), whereas this work focuses on behavioural changes (e.g. completing a prompt which has negative tone in a positive way).\n",
        "* Function vectors work looked at very large models (our exercises used Pythia-7B, the smallest model which was examined in the function vectors paper). This particular steering vectors post focused on the smaller models GPT2-Small (85m) and GPT2-XL (1.5B). We'll be focusing on GPT2-XL.\n",
        "* The second half of our function vectors work identified important attention heads and focused on their outputs, rather than just adding to the residual stream directly. In this steering vector setup, we'll go back to the simpler method of adding directly into the residual stream.\n",
        "\n",
        "Despite these differences, much of the work which was done here overlaps with function vector work, since they both fall into the broader category of *\"finding vectors using forward-pass-based methods (i.e. not with SGD) and using them to intervene on models during forward passes & change the model's output\"*. This description would also include the following:\n",
        "\n",
        "* [Inference-time intervention](https://www.lesswrong.com/posts/kuQfnotjkQA4Kkfou/inference-time-intervention-eliciting-truthful-answers-from), which focuses on inducing the behavioural change of \"making the model tell the truth\". It also looks at other non-forward-pass-based techniques for finding an intervention vector, e.g. CCS and linear probing, although it concludes that forward-pass-based methods similar to the ones we've been using so far work the best.\n",
        "* [Steering Llama 2 via Contrastive Activation Addition](https://arxiv.org/abs/2312.06681), which can be thought of as an extension of the GPT2-XL steering vector work to larger models, specifically Llama 2 13B. It also takes more of a high-level evals framework; measuring the model's change in attributes such as sycophancy, myopia, and power-seeking (finding that these attributes can be increased or decreased by adding the appropriate vectors).\n",
        "\n",
        "We'll discuss some of this work more in the bonus section, but for now, let's get on with the exercises!"
      ],
      "id": "e17be93f"
    },
    {
      "cell_type": "markdown",
      "metadata": {
        "id": "7ec578b9"
      },
      "source": [
        "First, we'll load in GPT2-XL, then we'll replicate some of the examples in the main post."
      ],
      "id": "7ec578b9"
    },
    {
      "cell_type": "code",
      "execution_count": null,
      "metadata": {
        "colab": {
          "background_save": true
        },
        "id": "3f24b05c"
      },
      "outputs": [],
      "source": [
        "model = LanguageModel('gpt2-xl')\n",
        "tokenizer = model.tokenizer"
      ],
      "id": "3f24b05c"
    },
    {
      "cell_type": "markdown",
      "metadata": {
        "id": "5a3d619d"
      },
      "source": [
        "### Exercise - replicate the steering vector results\n",
        "\n",
        "Replicate the results in the LessWrong post [Steering GPT-2-XL by adding an activation vector](https://www.lesswrong.com/posts/5spBue2z2tw4JuDCx/steering-gpt-2-xl-by-adding-an-activation-vector#fnrefcvnfx3e6sfu); specifically the \"demonstrations of additions that work well\" section.\n",
        "\n",
        "We've provided a function template as well as some example code to run; your main job will be to fill in the function. This will be like a hybrid of several previous exercises (with most similarity to the function `calculate_and_intervene_with_h`), although there will be a few methodological differences.\n",
        "\n",
        "This is the last exercise in this set, and hopefully it'll provide an opportunity to draw together all the threads of what you've learned so far!\n",
        "\n",
        "### Caching\n",
        "\n",
        "This is a different kind of causal intervention than we performed in previous sections. Rather than adding a single vector to the final sequence position at each token generation, we're adding a slice of vectors to the first sequence positions of the original prompt (see tables like in [this section](https://www.lesswrong.com/posts/5spBue2z2tw4JuDCx/steering-gpt-2-xl-by-adding-an-activation-vector#1__Love___Hate) for an illustration). How do you think this will affect our function? Should we still cache? Should we be using `.generate()` or `.trace()`? If using `.generate()`, do we need to call `invoker.next()` ?\n",
        "\n",
        "<details>\n",
        "<summary>Click this dropdown for answers to the questions above.</summary>\n",
        "\n",
        "Rather than adding to each final sequence position for every token generated, we just add the vectors once, to the end of the prompt. This means that:\n",
        "\n",
        "- We can still use caching (because the values we cache shouldn't be different in subsequent token generations),\n",
        "- We should be using `.generate()` (because we're doing multi-token generation),\n",
        "- We don't need to call `invoker.next()` (because we only intervene once, and our intervention will be cached & applied to all subsequent tokens which are generated).\n",
        "\n",
        "Again, if any of this is confusing then please ask a TA or message in the Slack channel.\n",
        "\n",
        "</details>\n",
        "\n",
        "### Padding\n",
        "\n",
        "The [tables](https://www.lesswrong.com/posts/5spBue2z2tw4JuDCx/steering-gpt-2-xl-by-adding-an-activation-vector#1__Love___Hate) show the activations being added on the left (i.e. the sequences are padded on the right), but by default padding is applied on the left. There are 2 possible ways you can get around this:\n",
        "\n",
        "1. Right-pad the input sequences manually, i.e. use something like `len(tokenizer.tokenize(prompt))` to see how long each of the prompts is, and add copies of `tokenizer.pad_token` to the end of each sequence.\n",
        "2. Don't manually pad the input sequences, instead slice the sequences you add to the original prompt from the right side of the activation addition sequences, rather than from the left side.\n",
        "\n",
        "The solutions use (2), but you can use either of these methods.\n",
        "\n",
        "### Sampling\n",
        "\n",
        "Following the post, we'll use top-p sampling with probability 0.3 to generate our sequences. We'll also use a small frequency penalty to penalize repetition (so the model gets stuck in loops less). If you've done earlier exercises in this section then you might have implemented `freq_penalty` during sampling; this is supported by TransformerLens models, but HuggingFace uses the somewhat similar `repetition_penalty` (default value is 1.0 indicating no penalty, values higher than 1.0 apply a penalty to repeated tokens).\n",
        "\n",
        "We apply these sampling methods by passing keyword arguments into the `generate` method:\n",
        "\n",
        "```python\n",
        "{\n",
        "    \"do_sample\": True, # necessary whenever we're sampling rather than doing greedy decoding\n",
        "    \"top_p\": 0.3,\n",
        "    \"repetition_penalty\": 1.1,\n",
        "}\n",
        "```\n",
        "\n",
        "Note that the sequences are generated stochastically rather than greedily - this means we'll get different results if we input multiple different copies of the same sequence. We've given you the `n_comparisons` argument in the function below, i.e. you should generate this many steered *and* this many unsteered completions.\n",
        "\n",
        "### Other tips / notes\n",
        "\n",
        "We recommend starting with example #9 (the \"talking about weddings\" one). It seems quite robust to the exact conditions of the forward pass, unlike the `Love - Hate` example. You can use any of the template cells we've given you below.\n",
        "\n",
        "We've given you a `use_bos` argument; if this is True then you should append `tokenizer.bos_token` to the start of all the prompts. This is just to be true to the LessWrong post's implementation; it won't change behaviour much and you can probably ignore it and still get good results.\n"
      ],
      "id": "5a3d619d"
    },
    {
      "cell_type": "code",
      "execution_count": null,
      "metadata": {
        "colab": {
          "background_save": true
        },
        "id": "0f2e2ef3"
      },
      "outputs": [],
      "source": [
        "sampling_kwargs = {\n",
        "    \"do_sample\": True,\n",
        "    \"top_p\": 0.3,\n",
        "    \"repetition_penalty\": 1.1,\n",
        "}\n",
        "\n",
        "def calculate_and_apply_steering_vector(\n",
        "    model: LanguageModel,\n",
        "    prompt: str,\n",
        "    activation_additions: List[Tuple[int, float, str]],\n",
        "    n_tokens: int,\n",
        "    n_comparisons: int = 1,\n",
        "    use_bos: bool = True,\n",
        ") -> Tuple[List[str], List[str]]:\n",
        "    '''\n",
        "    Performs the steering vector experiments described in the LessWrong post.\n",
        "\n",
        "    Args:\n",
        "        model: LanguageModel\n",
        "            the transformer you're doing this computation with\n",
        "        prompt: str\n",
        "            The original prompt, which we'll be doing activation steering on.\n",
        "\n",
        "        activation_additions: List[Tuple[int, float, str]], each tuple contains:\n",
        "            layer - the layer we're applying these steering vectors to\n",
        "            coefficient - the value we're multiplying it by\n",
        "            prompt - the prompt we're inputting\n",
        "            e.g. activation_additions[0] = [6, 5.0, \" Love\"] means we add the \" Love\" vector at layer 6, scaled by 5x\n",
        "\n",
        "        n_tokens: int\n",
        "            Number of tokens which will be generated for each completion\n",
        "\n",
        "        n_comparisons: int\n",
        "            Number of sequences generated in this function (i.e. we generate `n_comparisons` which are unsteered, and\n",
        "            the same number which are steered).\n",
        "\n",
        "    Returns:\n",
        "        unsteered_completions: List[str]\n",
        "            List of length `n_comparisons`, containing all the unsteered completions.\n",
        "\n",
        "        steered_completions: List[str]\n",
        "            List of length `n_comparisons`, containing all the steered completions.\n",
        "    '''\n",
        "    # Add the BOS token manually, if we're including it\n",
        "    if use_bos:\n",
        "        bos = model.tokenizer.bos_token\n",
        "        prompt = bos + prompt\n",
        "        activation_additions = [[layer, coeff, bos + p] for layer, coeff, p in activation_additions]\n",
        "\n",
        "    pass"
      ],
      "id": "0f2e2ef3"
    },
    {
      "cell_type": "markdown",
      "metadata": {
        "id": "hu3KM-Yj0YIi"
      },
      "source": [
        "To test your function, use any of the following code snippets (as mentioned, we recommend starting with the weddings example, since the results tend to be pretty robust)."
      ],
      "id": "hu3KM-Yj0YIi"
    },
    {
      "cell_type": "code",
      "execution_count": null,
      "metadata": {
        "colab": {
          "background_save": true
        },
        "id": "FPi1CqvpBg0j"
      },
      "outputs": [],
      "source": [
        "unsteered_completions, steered_completions = calculate_and_apply_steering_vector(\n",
        "    model,\n",
        "    prompt = \"I hate you because\",\n",
        "    activation_additions = [\n",
        "        (6, +5.0, \"Love \"),\n",
        "        (6, -5.0, \"Hate\"),\n",
        "    ],\n",
        "    n_tokens = 50,\n",
        "    n_comparisons = 3,\n",
        "    use_bos = True,\n",
        ")\n",
        "\n",
        "table = Table(\"Unsteered\", \"Steered\", title=\"Completions\", show_lines=True)\n",
        "for usc, sc in zip(unsteered_completions, steered_completions):\n",
        "    table.add_row(usc, sc)\n",
        "rprint(table)"
      ],
      "id": "FPi1CqvpBg0j"
    },
    {
      "cell_type": "code",
      "execution_count": null,
      "metadata": {
        "colab": {
          "background_save": true
        },
        "id": "qQf1_keVDPKG"
      },
      "outputs": [],
      "source": [
        "unsteered_completions, steered_completions = calculate_and_apply_steering_vector(\n",
        "    model,\n",
        "    prompt = \"I went up to my friend and said\",\n",
        "    activation_additions = [\n",
        "        (20, +4.0, \"I talk about weddings constantly  \"),\n",
        "        (20, -4.0, \"I do not talk about weddings constantly\"),\n",
        "    ],\n",
        "    n_tokens = 50,\n",
        "    n_comparisons = 3,\n",
        "    use_bos = False,\n",
        ")\n",
        "\n",
        "table = Table(\"Unsteered\", \"Steered\", title=\"Completions\", show_lines=True)\n",
        "for usc, sc in zip(unsteered_completions, steered_completions):\n",
        "    table.add_row(usc, sc)\n",
        "rprint(table)"
      ],
      "id": "qQf1_keVDPKG"
    },
    {
      "cell_type": "code",
      "execution_count": null,
      "metadata": {
        "colab": {
          "background_save": true
        },
        "id": "fBf-lYQxDSTE"
      },
      "outputs": [],
      "source": [
        "unsteered_completions, steered_completions = calculate_and_apply_steering_vector(\n",
        "    model,\n",
        "    prompt = \"To see the eiffel tower, people flock to\",\n",
        "    activation_additions = [\n",
        "        (24, +10.0, \"The Eiffel Tower is in Rome\"),\n",
        "        (24, -10.0, \"The Eiffel Tower is in France\"),\n",
        "    ],\n",
        "    n_tokens = 50,\n",
        "    n_comparisons = 3,\n",
        "    use_bos = False,\n",
        ")\n",
        "\n",
        "table = Table(\"Unsteered\", \"Steered\", title=\"Completions\", show_lines=True)\n",
        "for usc, sc in zip(unsteered_completions, steered_completions):\n",
        "    table.add_row(usc, sc)\n",
        "rprint(table)"
      ],
      "id": "fBf-lYQxDSTE"
    }
  ],
  "metadata": {
    "accelerator": "GPU",
    "colab": {
      "collapsed_sections": [
        "29tMgKOSfPT4",
        "c5CF2fOYLt1x",
        "3DdwJ_RBPtXg",
        "97292f90-5c2e-444d-88e4-41265e8ad0d9",
        "fae35f9e",
        "zTqg0RAxiN-8",
        "c43466c5",
        "7d6e143e",
        "1c800352",
        "28a06fca-66e8-4c42-abe1-0e3c09d65c27",
        "886c7964",
        "4UNdoTCCiU-z",
        "7NLsqpK5rz9C",
        "fecc199e",
        "VWPUGc9pr_48",
        "c466e56a",
        "3525cf03",
        "fc4af4e1",
        "f6c0d643",
        "e99652a3",
        "1LeHPthEiXLj",
        "wXRQ6pFtvABD",
        "X-aL04b3LOrx",
        "729112d6",
        "cedb0f13",
        "f5ed78a8",
        "0b984451",
        "OTSFzIAvF2U5",
        "ddc7a4fe",
        "BqA1xq5YieY6",
        "zhAxp1SUz7rs",
        "5a3d619d"
      ],
      "gpuType": "T4",
      "machine_shape": "hm",
      "provenance": []
    },
    "kernelspec": {
      "display_name": "Python 3",
      "name": "python3"
    },
    "language_info": {
      "codemirror_mode": {
        "name": "ipython",
        "version": 3
      },
      "file_extension": ".py",
      "mimetype": "text/x-python",
      "name": "python",
      "nbconvert_exporter": "python",
      "pygments_lexer": "ipython3",
      "version": "3.11.5"
    }
  },
  "nbformat": 4,
  "nbformat_minor": 5
}